{
 "cells": [
  {
   "cell_type": "markdown",
   "id": "f4e6611e",
   "metadata": {},
   "source": [
    "String Based Questions"
   ]
  },
  {
   "cell_type": "code",
   "execution_count": null,
   "id": "78331b64",
   "metadata": {},
   "outputs": [
    {
     "name": "stdout",
     "output_type": "stream",
     "text": [
      "True\n",
      "False\n"
     ]
    }
   ],
   "source": [
    "# Question 1: Check for Palindrome using the iterative approach.\n",
    "\n",
    "def is_palindrome(s):\n",
    "    s = s.lower()\n",
    "    if s == s[::-1]:\n",
    "        return True\n",
    "    else:\n",
    "        return False\n",
    "    \n",
    "print(is_palindrome(\"moM\"))\n",
    "print(is_palindrome(\"hello\"))"
   ]
  },
  {
   "cell_type": "code",
   "execution_count": null,
   "id": "2b9fd370",
   "metadata": {},
   "outputs": [
    {
     "name": "stdout",
     "output_type": "stream",
     "text": [
      "2\n"
     ]
    }
   ],
   "source": [
    "#Q2. Write a function count_word_occurrences to count how many times a word \n",
    "# appears in a string.\n",
    "\n",
    "#functions definations\n",
    "def count_word_occurrences(s,w):\n",
    "    s = s.split()\n",
    "    count = 0\n",
    "    for i in s:\n",
    "        if i == w:\n",
    "            count += 1\n",
    "    return count\n",
    "\n",
    "\n",
    "#Driver Code:\n",
    "string_input = \"Hello India India\"\n",
    "word = \"India\"\n",
    "result = count_word_occurrences(string_input,word)\n",
    "print(result)\n"
   ]
  },
  {
   "cell_type": "code",
   "execution_count": 7,
   "id": "e0843c8a",
   "metadata": {},
   "outputs": [
    {
     "name": "stdout",
     "output_type": "stream",
     "text": [
      "3\n"
     ]
    }
   ],
   "source": [
    "#Q3. Write a function count_word_occurrences to count how many times a word \n",
    "# appears in a string.\n",
    "\n",
    "#functions definations\n",
    "def count_word_occurrence(s,w):\n",
    "    return s.split().count(w)\n",
    "\n",
    "#Driver Code:\n",
    "string_input = \"Hello India India India\"\n",
    "word = \"India\"\n",
    "result = count_word_occurrence(string_input,word)\n",
    "print(result)"
   ]
  },
  {
   "cell_type": "code",
   "execution_count": 34,
   "id": "bf7aa8ac",
   "metadata": {},
   "outputs": [
    {
     "name": "stdout",
     "output_type": "stream",
     "text": [
      "trillionaire.. m I Hi,\n"
     ]
    }
   ],
   "source": [
    "# Q4. Write a function reverse_words to reverse the order of words in a \n",
    "# sentence while keeping the characters within each word intact.\n",
    "\n",
    "def reverse_words(s):\n",
    "    s = s.split()\n",
    "    p = s[::-1]\n",
    "    return ' '.join(p)\n",
    "         \n",
    "    \n",
    "#Driver Code:\n",
    "text = \"Hi, I m trillionaire..\"\n",
    "result = reverse_words(text)\n",
    "print(result)\n",
    "\n"
   ]
  },
  {
   "cell_type": "code",
   "execution_count": 33,
   "id": "dc80d919",
   "metadata": {},
   "outputs": [
    {
     "name": "stdout",
     "output_type": "stream",
     "text": [
      "World.. Hi\n"
     ]
    }
   ],
   "source": [
    "# Q5. Write a function reverse_words to reverse the order of words in a \n",
    "# sentence while keeping the characters within each word intact.\n",
    "\n",
    "#functions definations.\n",
    "def reverse_word(text):\n",
    "    s = text.split()\n",
    "    return \" \".join(reversed(s))\n",
    "\n",
    "#Driver Code:\n",
    "text = \"Hi World..\"\n",
    "result = reverse_word(text)\n",
    "print(result)"
   ]
  },
  {
   "cell_type": "code",
   "execution_count": null,
   "id": "cf0b6cb8",
   "metadata": {},
   "outputs": [
    {
     "name": "stdout",
     "output_type": "stream",
     "text": [
      "None\n"
     ]
    }
   ],
   "source": [
    "# Question 6: Validate Email Format\n",
    "import re\n",
    "#functions definations:\n",
    "def is_validmail(m):\n",
    "    #Regax pattern for a valid email addresh.\n",
    "    pattern = r'^[a-zA-Z0-9._%+-]+@[a-zA-Z0-9.-]+\\.[a-z,A-Z]{2,}$'\n",
    "    return re.match(pattern, m) is not None\n",
    "    \n",
    "\n",
    "#Driver Code:\n",
    "mail = 'hum@zohomailcom'\n",
    "result = is_validmail(mail)\n",
    "print(result)\n"
   ]
  },
  {
   "cell_type": "code",
   "execution_count": 41,
   "id": "a80f5705",
   "metadata": {},
   "outputs": [
    {
     "name": "stdout",
     "output_type": "stream",
     "text": [
      "Hello World\n"
     ]
    }
   ],
   "source": [
    "#Q7. Write a function remove_extra_spaces to remove redundant spaces in a string.\n",
    "\n",
    "def remove_extra_spaces(text):\n",
    "    text = text.split()\n",
    "    return \" \".join(text)\n",
    "    \n",
    "    \n",
    "    \n",
    "    \n",
    "#Driver Code:\n",
    "text = \"  Hello   World    \"\n",
    "result = remove_extra_spaces(text)\n",
    "print(result)\n",
    "\n"
   ]
  },
  {
   "cell_type": "code",
   "execution_count": 42,
   "id": "6c219a8f",
   "metadata": {},
   "outputs": [
    {
     "name": "stdout",
     "output_type": "stream",
     "text": [
      "Hello   World\n"
     ]
    }
   ],
   "source": [
    "text = \"  Hello   World    \"\n",
    "print(text.strip())"
   ]
  },
  {
   "cell_type": "markdown",
   "id": "ed410a3b",
   "metadata": {},
   "source": [
    "Learn the regax module."
   ]
  },
  {
   "cell_type": "code",
   "execution_count": 24,
   "id": "2dc07e16",
   "metadata": {},
   "outputs": [
    {
     "name": "stdout",
     "output_type": "stream",
     "text": [
      "<re.Match object; span=(9, 15), match='shivam'>\n",
      "Start Index: 9\n",
      "End Index: 15\n"
     ]
    },
    {
     "data": {
      "text/plain": [
       "['m', 'm']"
      ]
     },
     "execution_count": 24,
     "metadata": {},
     "output_type": "execute_result"
    }
   ],
   "source": [
    "import re\n",
    "\n",
    "text = \"Hi, I am shivam\"\n",
    "match = re.search(r'shivam',text)\n",
    "print(match)\n",
    "print(f\"Start Index: {match.start()}\")\n",
    "print(f\"End Index: {match.end()}\")\n",
    "len(re.findall(r'm',text))\n",
    "re.split(r'i',text)\n",
    "re.search('i',text)\n",
    "re.findall(r'm',text)"
   ]
  },
  {
   "cell_type": "code",
   "execution_count": 21,
   "id": "728e5758",
   "metadata": {},
   "outputs": [
    {
     "name": "stdout",
     "output_type": "stream",
     "text": [
      "enter valid email addresh.\n"
     ]
    }
   ],
   "source": [
    "text = \"shivam@sanyamcom\"\n",
    "\n",
    "if \"@\" and '.' in text:\n",
    "    print('Login sucessfully')\n",
    "else:\n",
    "    print('enter valid email addresh.')"
   ]
  },
  {
   "cell_type": "code",
   "execution_count": null,
   "id": "9bceffec",
   "metadata": {},
   "outputs": [],
   "source": []
  }
 ],
 "metadata": {
  "kernelspec": {
   "display_name": "Python 3",
   "language": "python",
   "name": "python3"
  },
  "language_info": {
   "codemirror_mode": {
    "name": "ipython",
    "version": 3
   },
   "file_extension": ".py",
   "mimetype": "text/x-python",
   "name": "python",
   "nbconvert_exporter": "python",
   "pygments_lexer": "ipython3",
   "version": "3.14.0"
  }
 },
 "nbformat": 4,
 "nbformat_minor": 5
}
