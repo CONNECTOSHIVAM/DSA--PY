{
 "cells": [
  {
   "cell_type": "code",
   "execution_count": 4,
   "id": "d6c8d48a",
   "metadata": {},
   "outputs": [
    {
     "name": "stdout",
     "output_type": "stream",
     "text": [
      "Total Price after the tax: 1050.0\n"
     ]
    }
   ],
   "source": [
    "#Q1. Write a function calculate_total_price to compute the total price after \n",
    "# applying a tax percentage to a base price.\n",
    "\n",
    "#functions definations\n",
    "def calculate_total_price(total_price: float,tax: float)-> float:\n",
    "    \"\"\" \n",
    "       calculate the total price after applying tax percentage\n",
    "       \n",
    "       Formula:\n",
    "          total = total_price + total_price*tax/100\n",
    "       Args:\n",
    "          base_price (float):  original amount before the tax.\n",
    "          tax_percentage (float): Tax percentage to apply.\n",
    "          \n",
    "       Returns:\n",
    "          Final Price including tax. \n",
    "          \n",
    "       Time Complexity: 0(1)\n",
    "       Space Complexity: 0(1)\n",
    "       \n",
    "    \"\"\"\n",
    "    if total_price < 0 or tax < 0:\n",
    "        raise ValueError(\"total price and tax always be positive\")\n",
    "    return total_price+total_price*tax/100\n",
    "\n",
    "\n",
    "#Driver Code:\n",
    "total_price = 1000\n",
    "tax_percentage = 5\n",
    "result = calculate_total_price(total_price,tax_percentage)\n",
    "print(f'Total Price after the tax: {result}')"
   ]
  },
  {
   "cell_type": "code",
   "execution_count": null,
   "id": "b7c696a2",
   "metadata": {},
   "outputs": [],
   "source": [
    "#Q2. Write functions fahrenheit_to_celsius and celsius_to_fahrenheit to convert between\n",
    "# Fahrenheit (°F) and Celsius (°C).\n",
    "\n",
    "#functions definations:\n",
    "def temprature_converter(temp:float,unit:str)-> float:\n",
    "    if unit == 'F':\n",
    "        return (temp-32)*5/9\n",
    "    elif unit == 'C':\n",
    "        return (temp+32)*9/5\n",
    "    else:\n",
    "        return \"None\"\n",
    "\n",
    "\n",
    "#Driver Code:\n",
    "temp = int(input(\"Enter the temrature: \"))\n",
    "unit = input(\"Enter the unit of the temprature(celsius -> C | Fahrenheit -> F): \")\n",
    "result = temrature_converter(temp,unit)\n",
    "\n",
    "if result == \"None\":\n",
    "    print(\"enter the valid input...!\")\n",
    "elif input:\n",
    "    print()\n",
    "\n"
   ]
  }
 ],
 "metadata": {
  "kernelspec": {
   "display_name": "Python 3",
   "language": "python",
   "name": "python3"
  },
  "language_info": {
   "codemirror_mode": {
    "name": "ipython",
    "version": 3
   },
   "file_extension": ".py",
   "mimetype": "text/x-python",
   "name": "python",
   "nbconvert_exporter": "python",
   "pygments_lexer": "ipython3",
   "version": "3.14.0"
  }
 },
 "nbformat": 4,
 "nbformat_minor": 5
}
