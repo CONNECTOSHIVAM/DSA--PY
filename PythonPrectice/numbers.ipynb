{
 "cells": [
  {
   "cell_type": "markdown",
   "id": "1fbf4aee",
   "metadata": {},
   "source": [
    "Question on the based on Numbers."
   ]
  },
  {
   "cell_type": "code",
   "execution_count": 6,
   "id": "b6248852",
   "metadata": {},
   "outputs": [
    {
     "name": "stdout",
     "output_type": "stream",
     "text": [
      "4567\n"
     ]
    }
   ],
   "source": [
    "#Q1. Convert String To Number\n",
    "\n",
    "def covert_stringto_integer(s):\n",
    "    try:\n",
    "        result = int(s) \n",
    "    except ValueError:\n",
    "        result = float(s)\n",
    "    return result\n",
    "\n",
    "#Driver Code:\n",
    "s = input(\"enter the value to convert into Number: \")\n",
    "result = covert_stringto_integer(s)\n",
    "print(result)"
   ]
  },
  {
   "cell_type": "code",
   "execution_count": 7,
   "id": "20420578",
   "metadata": {},
   "outputs": [
    {
     "name": "stdout",
     "output_type": "stream",
     "text": [
      "3.0\n",
      "3.23\n"
     ]
    }
   ],
   "source": [
    "# Q2. Round a Number\n",
    "\n",
    "def round_numbers(a,decimal=0):\n",
    "    return round(a,decimal)\n",
    "\n",
    "#Driver Code:\n",
    "a = 3.1243323\n",
    "b = 3.2333667\n",
    "\n",
    "print(round_numbers(a))\n",
    "print(round_numbers(b,2))\n",
    "\n",
    "    "
   ]
  },
  {
   "cell_type": "code",
   "execution_count": 13,
   "id": "a0b05607",
   "metadata": {},
   "outputs": [
    {
     "name": "stdout",
     "output_type": "stream",
     "text": [
      "1\n"
     ]
    }
   ],
   "source": [
    "#  Question 3: Generate a Random Number in a Range\n",
    "import random\n",
    "\n",
    "def random_number(a,b):\n",
    "    return random.randint(a,b)\n",
    "    \n",
    "#Driver Code:\n",
    "print(random_number(1,10))\n",
    "    "
   ]
  },
  {
   "cell_type": "code",
   "execution_count": 14,
   "id": "acff7d65",
   "metadata": {},
   "outputs": [
    {
     "name": "stdout",
     "output_type": "stream",
     "text": [
      "120\n"
     ]
    }
   ],
   "source": [
    "#Q4. find the factorial using the iterative approach.\n",
    "\n",
    "def factorial(n):\n",
    "    fact = 1\n",
    "    for i in range(1,n+1):\n",
    "        fact *= i\n",
    "    return fact\n",
    "\n",
    "print(factorial(5))"
   ]
  },
  {
   "cell_type": "code",
   "execution_count": 15,
   "id": "dbc662ce",
   "metadata": {},
   "outputs": [
    {
     "name": "stdout",
     "output_type": "stream",
     "text": [
      "120\n"
     ]
    }
   ],
   "source": [
    "#Q5. find the factorial using the recursive approach\n",
    "\n",
    "def factorial_is(n):\n",
    "    \n",
    "    if n == 1:\n",
    "        return 1\n",
    "    return n*factorial_is(n-1)\n",
    "\n",
    "print(factorial_is(5))"
   ]
  },
  {
   "cell_type": "code",
   "execution_count": 17,
   "id": "9e0d18b6",
   "metadata": {},
   "outputs": [
    {
     "name": "stdout",
     "output_type": "stream",
     "text": [
      "24\n"
     ]
    }
   ],
   "source": [
    "#Q6. find the factorail using the math Library.\n",
    "import math\n",
    "\n",
    "def factorial_m(n):\n",
    "    return math.factorial(n)\n",
    "\n",
    "print(factorial_m(4))"
   ]
  },
  {
   "cell_type": "code",
   "execution_count": null,
   "id": "07e949d4",
   "metadata": {},
   "outputs": [
    {
     "name": "stdout",
     "output_type": "stream",
     "text": [
      "12\n"
     ]
    }
   ],
   "source": [
    "#Question 7: Find GCD of Two Numbers using the loop.\n",
    "\n",
    "def gcd(a,b):\n",
    "    \n",
    "    while(b != 0):\n",
    "        a,b = b,a%b\n",
    "        \n",
    "    return a\n",
    "\n",
    "print(gcd(12,36))\n"
   ]
  },
  {
   "cell_type": "code",
   "execution_count": 24,
   "id": "14a72516",
   "metadata": {},
   "outputs": [
    {
     "name": "stdout",
     "output_type": "stream",
     "text": [
      "1\n"
     ]
    }
   ],
   "source": [
    "#Question 8: Find the gcd using the recursive approach.\n",
    "\n",
    "def find_gcd(a,b):\n",
    "    \n",
    "    if b == 0:\n",
    "        return a\n",
    "    return find_gcd(b,a%b)\n",
    "\n",
    "print(find_gcd(87,56))"
   ]
  },
  {
   "cell_type": "code",
   "execution_count": 26,
   "id": "842a5105",
   "metadata": {},
   "outputs": [
    {
     "name": "stdout",
     "output_type": "stream",
     "text": [
      "8\n"
     ]
    }
   ],
   "source": [
    "#Question 9: Find the gcd using the math library.\n",
    "import math\n",
    "\n",
    "def find_gcd_m(a,b):\n",
    "    return math.gcd(a,b)\n",
    "\n",
    "print(find_gcd_m(16,24))"
   ]
  },
  {
   "cell_type": "code",
   "execution_count": null,
   "id": "a829ae5d",
   "metadata": {},
   "outputs": [],
   "source": []
  }
 ],
 "metadata": {
  "kernelspec": {
   "display_name": "Python 3",
   "language": "python",
   "name": "python3"
  },
  "language_info": {
   "codemirror_mode": {
    "name": "ipython",
    "version": 3
   },
   "file_extension": ".py",
   "mimetype": "text/x-python",
   "name": "python",
   "nbconvert_exporter": "python",
   "pygments_lexer": "ipython3",
   "version": "3.14.0"
  }
 },
 "nbformat": 4,
 "nbformat_minor": 5
}
