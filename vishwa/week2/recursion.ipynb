{
 "cells": [
  {
   "cell_type": "markdown",
   "metadata": {},
   "source": [
    "##Recursion "
   ]
  },
  {
   "cell_type": "code",
   "execution_count": 2,
   "metadata": {},
   "outputs": [
    {
     "name": "stdout",
     "output_type": "stream",
     "text": [
      "1\n",
      "7\n",
      "3\n"
     ]
    }
   ],
   "source": [
    "#Write the code to iterate the value the array.\n",
    "\n",
    "def iterate(arr,iN):\n",
    "    #Base conditions\n",
    "    if iN >= len(arr):\n",
    "        return\n",
    "    #Logic\n",
    "    print(arr[iN])\n",
    "    #recusive call\n",
    "    iterate(arr,iN+1)\n",
    "\n",
    "#call the function.\n",
    "#Driver code\n",
    "arr=[1,7,3]\n",
    "iterate(arr,0)"
   ]
  },
  {
   "cell_type": "code",
   "execution_count": 21,
   "metadata": {},
   "outputs": [
    {
     "name": "stdout",
     "output_type": "stream",
     "text": [
      "3\n",
      "2\n",
      "1\n"
     ]
    }
   ],
   "source": [
    "#WRITE a code print the array all value using the array.-->in reverse directions\n",
    "\n",
    "def iterate(arr,iN):\n",
    "    #Base condition\n",
    "    if iN >= len(arr):\n",
    "        return \n",
    "   \n",
    "    #recursive call\n",
    "    iterate(arr,iN+1)\n",
    "    #Logic\n",
    "    print(arr[iN])\n",
    "\n",
    "iterate([1,2,3],0)"
   ]
  },
  {
   "cell_type": "code",
   "execution_count": 22,
   "metadata": {},
   "outputs": [
    {
     "data": {
      "text/plain": [
       "3"
      ]
     },
     "execution_count": 22,
     "metadata": {},
     "output_type": "execute_result"
    }
   ],
   "source": [
    "arr=[1,2,3]\n",
    "len(arr)"
   ]
  },
  {
   "cell_type": "code",
   "execution_count": 23,
   "metadata": {},
   "outputs": [
    {
     "name": "stdout",
     "output_type": "stream",
     "text": [
      "1\n",
      "2\n",
      "3\n",
      "4\n",
      "None\n"
     ]
    }
   ],
   "source": [
    "##functions deinations.\n",
    "def arrayValue(arr,iN):\n",
    "    if iN >= len(arr):\n",
    "        return \n",
    "    print(arr[iN])\n",
    "    arrayValue(arr,iN+1)\n",
    "\n",
    "\n",
    "\n",
    "##Driver code \n",
    "arr = [1,2,3,4]\n",
    "print(arrayValue(arr,0))\n"
   ]
  },
  {
   "cell_type": "code",
   "execution_count": 24,
   "metadata": {},
   "outputs": [
    {
     "data": {
      "text/plain": [
       "range(0, 4)"
      ]
     },
     "execution_count": 24,
     "metadata": {},
     "output_type": "execute_result"
    }
   ],
   "source": [
    "range(len(arr))"
   ]
  },
  {
   "cell_type": "code",
   "execution_count": 25,
   "metadata": {},
   "outputs": [
    {
     "name": "stdout",
     "output_type": "stream",
     "text": [
      "3\n",
      "2\n",
      "1\n",
      "None\n"
     ]
    }
   ],
   "source": [
    "#Now print in the reverse order.\n",
    "# \n",
    "def reverseArray(arr,sI):\n",
    "    if sI >= len(arr) :\n",
    "        return \n",
    "    \n",
    "    reverseArray(arr,sI+1)\n",
    "    print(arr[sI])\n",
    "\n",
    "\n",
    "#Driver code:\n",
    "arr=[1,2,3]\n",
    "print(reverseArray(arr,0))\n"
   ]
  },
  {
   "cell_type": "code",
   "execution_count": 26,
   "metadata": {},
   "outputs": [
    {
     "data": {
      "text/plain": [
       "range(0, 3)"
      ]
     },
     "execution_count": 26,
     "metadata": {},
     "output_type": "execute_result"
    }
   ],
   "source": [
    "range(len(arr))"
   ]
  },
  {
   "cell_type": "code",
   "execution_count": 27,
   "metadata": {},
   "outputs": [
    {
     "name": "stdout",
     "output_type": "stream",
     "text": [
      "31\n"
     ]
    }
   ],
   "source": [
    "##Q. Tower of Honoi\n",
    "\n",
    "def moves(s,d,a,n):\n",
    "    #Base case:\n",
    "    if n==1:\n",
    "        return 1\n",
    "    #recursive call\n",
    "    return moves(s,a,d,n-1)+1+moves(a,d,s,n-1)\n",
    "\n",
    "print(moves('s','d','a',5))"
   ]
  },
  {
   "cell_type": "code",
   "execution_count": 28,
   "metadata": {},
   "outputs": [],
   "source": [
    "def func(n):\n",
    "    for i in range(n):\n",
    "        for j in range(i):\n",
    "            for k in range(j):\n",
    "                print(i,j,k)"
   ]
  },
  {
   "cell_type": "code",
   "execution_count": 29,
   "metadata": {},
   "outputs": [
    {
     "name": "stdout",
     "output_type": "stream",
     "text": [
      "2 1 0\n",
      "3 1 0\n",
      "3 2 0\n",
      "3 2 1\n",
      "4 1 0\n",
      "4 2 0\n",
      "4 2 1\n",
      "4 3 0\n",
      "4 3 1\n",
      "4 3 2\n"
     ]
    }
   ],
   "source": [
    "func(5)"
   ]
  },
  {
   "cell_type": "code",
   "execution_count": 30,
   "metadata": {},
   "outputs": [
    {
     "data": {
      "text/plain": [
       "2"
      ]
     },
     "execution_count": 30,
     "metadata": {},
     "output_type": "execute_result"
    }
   ],
   "source": [
    "5//2"
   ]
  },
  {
   "cell_type": "code",
   "execution_count": 31,
   "metadata": {},
   "outputs": [
    {
     "data": {
      "text/plain": [
       "55"
      ]
     },
     "execution_count": 31,
     "metadata": {},
     "output_type": "execute_result"
    }
   ],
   "source": [
    "##Q. Sum of n numbers.\n",
    "\n",
    "def sumOfN(n):\n",
    "    sum = 0;\n",
    "    for i in range(n+1):\n",
    "        sum += i\n",
    "    return sum\n",
    "\n",
    "sumOfN(10)"
   ]
  },
  {
   "cell_type": "code",
   "execution_count": 32,
   "metadata": {},
   "outputs": [
    {
     "name": "stdout",
     "output_type": "stream",
     "text": [
      "28\n"
     ]
    }
   ],
   "source": [
    "##Q1. sum of n number usring recursion.\n",
    "\n",
    "def sum(n):\n",
    "    if n == 0:\n",
    "        return 0\n",
    "    return n+sum(n-1)\n",
    "\n",
    "print(sum(7))\n"
   ]
  },
  {
   "cell_type": "code",
   "execution_count": 33,
   "metadata": {},
   "outputs": [
    {
     "data": {
      "text/plain": [
       "10"
      ]
     },
     "execution_count": 33,
     "metadata": {},
     "output_type": "execute_result"
    }
   ],
   "source": [
    "##Q. write a code to some of digits.\n",
    "\n",
    "def sumOfDigits(a):\n",
    "    b=0\n",
    "    while a>0:\n",
    "       b += a%10\n",
    "       a = a//10\n",
    "    return b\n",
    "    \n",
    "sumOfDigits(1234)"
   ]
  },
  {
   "cell_type": "code",
   "execution_count": 34,
   "metadata": {},
   "outputs": [
    {
     "data": {
      "text/plain": [
       "24"
      ]
     },
     "execution_count": 34,
     "metadata": {},
     "output_type": "execute_result"
    }
   ],
   "source": [
    "##Q. write a code to some of digits using recursion.\n",
    "\n",
    "def sumOfDigits(n):\n",
    "    #base case:\n",
    "    if n == 0:\n",
    "        return 0\n",
    "    #recursive case\n",
    "    return (n % 10)+sumOfDigits(n//10)\n",
    "\n",
    "sumOfDigits(789)\n"
   ]
  },
  {
   "cell_type": "code",
   "execution_count": 35,
   "metadata": {},
   "outputs": [
    {
     "name": "stdout",
     "output_type": "stream",
     "text": [
      "6\n"
     ]
    }
   ],
   "source": [
    "##Q. Count the number of digits in a number.\n",
    "\n",
    "def countDigits(n):\n",
    "    count = 0\n",
    "    a = str(n)\n",
    "    for i in a:\n",
    "        count += 1;\n",
    "    return count\n",
    "\n",
    "print(countDigits(123456))"
   ]
  },
  {
   "cell_type": "code",
   "execution_count": 36,
   "metadata": {},
   "outputs": [
    {
     "name": "stdout",
     "output_type": "stream",
     "text": [
      "6\n"
     ]
    }
   ],
   "source": [
    "##Q. count the number of digits using recursion.\n",
    "\n",
    "def countDigits(n):\n",
    "    if n == 0:\n",
    "        return 0\n",
    "    return 1+countDigits(n//10)\n",
    "\n",
    "print(countDigits(123456))"
   ]
  },
  {
   "cell_type": "code",
   "execution_count": 37,
   "metadata": {},
   "outputs": [
    {
     "name": "stdout",
     "output_type": "stream",
     "text": [
      "True\n"
     ]
    }
   ],
   "source": [
    "##Q. check string is plaindrome or not using the recursion.\n",
    "\n",
    "def is_palindrome(a,left=0,right=None):\n",
    "    if right is None:\n",
    "        right = len(a)-1\n",
    "    #base case:\n",
    "    if left >= right:\n",
    "        return True\n",
    "    if a[left] != a[right]:\n",
    "        return False\n",
    "    #recursive case:\n",
    "    return is_palindrome(a,left+1,right-1)\n",
    "\n",
    "print(is_palindrome(\"madam\"))"
   ]
  },
  {
   "cell_type": "code",
   "execution_count": 43,
   "metadata": {},
   "outputs": [],
   "source": [
    "## Q. find the fibonacci serise.\n",
    "\n",
    "def fibo(n):\n",
    "    #base:\n",
    "    if n <= 1:\n",
    "        return n\n",
    "    #recusive case\n",
    "    return fibo(n-1)+fibo(n-2)"
   ]
  },
  {
   "cell_type": "code",
   "execution_count": 44,
   "metadata": {},
   "outputs": [
    {
     "data": {
      "text/plain": [
       "34"
      ]
     },
     "execution_count": 44,
     "metadata": {},
     "output_type": "execute_result"
    }
   ],
   "source": [
    "fibo(9)"
   ]
  },
  {
   "cell_type": "code",
   "execution_count": 3,
   "metadata": {},
   "outputs": [
    {
     "data": {
      "text/plain": [
       "0"
      ]
     },
     "execution_count": 3,
     "metadata": {},
     "output_type": "execute_result"
    }
   ],
   "source": [
    "def recur_fibo(n):\n",
    "    if n < 0:\n",
    "        return 0\n",
    "    else:\n",
    "        return recur_fibo(n-1) + recur_fibo(n-2)\n",
    "\n",
    "recur_fibo(5)"
   ]
  },
  {
   "cell_type": "code",
   "execution_count": 4,
   "metadata": {},
   "outputs": [],
   "source": [
    "##Q . find the factorial using the recursion.\n",
    "\n",
    "def fact(n):\n",
    "    #Base case:\n",
    "    if n <= 1:\n",
    "        return 1\n",
    "    #recursive case:\n",
    "    return n*fact(n-1)\n",
    "    "
   ]
  },
  {
   "cell_type": "code",
   "execution_count": 5,
   "metadata": {},
   "outputs": [
    {
     "data": {
      "text/plain": [
       "120"
      ]
     },
     "execution_count": 5,
     "metadata": {},
     "output_type": "execute_result"
    }
   ],
   "source": [
    "fact(5)"
   ]
  },
  {
   "cell_type": "code",
   "execution_count": 6,
   "metadata": {},
   "outputs": [
    {
     "name": "stdout",
     "output_type": "stream",
     "text": [
      "5\n"
     ]
    }
   ],
   "source": [
    "##Q. findthe fibonacci number.\n",
    "\n",
    "#methood definations \n",
    "def fibo(n):\n",
    "    #Base case:\n",
    "    if n <= 1:\n",
    "        return n\n",
    "    #recursive case:\n",
    "    else:\n",
    "        return fibo(n-1)+fibo(n-2)\n",
    "\n",
    "#Driver code\n",
    "n=5\n",
    "result = fibo(n)\n",
    "print(result)"
   ]
  },
  {
   "cell_type": "code",
   "execution_count": 49,
   "metadata": {},
   "outputs": [
    {
     "name": "stdout",
     "output_type": "stream",
     "text": [
      "31\n"
     ]
    }
   ],
   "source": [
    "## Q. write the code of tower of honoi.\n",
    "\n",
    "#functions definations.\n",
    "def tower_of_honoi(s,d,a,n):\n",
    "    #base case:\n",
    "    if n == 1:\n",
    "        return 1\n",
    "    #recursive case:\n",
    "    return tower_of_honoi(s,a,d,n-1)+1+tower_of_honoi(a,d,s,n-1)\n",
    "\n",
    "\n",
    "#Driver code:\n",
    "first = \"s\"\n",
    "second = 'd'\n",
    "third = 'a'\n",
    "num_of_shell = 5\n",
    "result = tower_of_honoi(first,second,third,num_of_shell)\n",
    "print(result)"
   ]
  },
  {
   "cell_type": "code",
   "execution_count": 50,
   "metadata": {},
   "outputs": [
    {
     "name": "stdout",
     "output_type": "stream",
     "text": [
      "8\n"
     ]
    }
   ],
   "source": [
    "#write a code to climb stairs.\n",
    "\n",
    "#functions definations.\n",
    "def cls(n):\n",
    "    if n <= 3:\n",
    "        return n\n",
    "    return cls(n-1)+(n-2)\n",
    "\n",
    "#driver code:\n",
    "n=5;\n",
    "result= cls(n)\n",
    "print(result)"
   ]
  },
  {
   "cell_type": "code",
   "execution_count": null,
   "metadata": {},
   "outputs": [
    {
     "name": "stdout",
     "output_type": "stream",
     "text": [
      "2\n",
      "3\n",
      "4\n",
      "5\n",
      "5\n"
     ]
    }
   ],
   "source": [
    "##Q. find the fibonacci number using the recursion.\n",
    "\n",
    "def fib(n):\n",
    "    a = 0\n",
    "    b = 1\n",
    "    for i in range(2,n+1):\n",
    "       if n > 1:\n",
    "           c = a + b\n",
    "           a = b\n",
    "           b = c\n",
    "    return b \n",
    "\n",
    "print(fib(5))"
   ]
  },
  {
   "cell_type": "code",
   "execution_count": 17,
   "metadata": {},
   "outputs": [
    {
     "name": "stdout",
     "output_type": "stream",
     "text": [
      "5\n",
      "olleh\n"
     ]
    }
   ],
   "source": [
    "def reverse_str(a):\n",
    "    a = list(a)\n",
    "    n = len(a)\n",
    "    print(n)\n",
    "    for i in range(n//2):\n",
    "        k=n-1-i \n",
    "        a[i],a[k]=a[k],a[i]\n",
    "\n",
    "    return ''.join(a)\n",
    "\n",
    "print(reverse_str(\"hello\"))"
   ]
  },
  {
   "cell_type": "code",
   "execution_count": 34,
   "metadata": {},
   "outputs": [
    {
     "name": "stdout",
     "output_type": "stream",
     "text": [
      "['o', 'l', 'l', 'e', 'h']\n"
     ]
    }
   ],
   "source": [
    "##Q. reverse the list of string.\n",
    "\n",
    "#methood definations\n",
    "def rev_str(a,left=0,right=None):\n",
    "    if right is None:\n",
    "        right = len(a)-1\n",
    "    \n",
    "    if left >= right:\n",
    "        return a\n",
    "    \n",
    "    a[left],a[right]=a[right],a[left]\n",
    "    return rev_str(a,left+1,right-1)\n",
    "\n",
    "print(rev_str(['h','e','l','l','o']))"
   ]
  },
  {
   "cell_type": "code",
   "execution_count": 37,
   "metadata": {},
   "outputs": [],
   "source": [
    "##Q. solve find the pow x have power n. \n",
    "\n",
    "def pow(x,n):\n",
    "    for i in range(n):\n",
    "        y=x**n \n",
    "    return y"
   ]
  },
  {
   "cell_type": "code",
   "execution_count": 40,
   "metadata": {},
   "outputs": [
    {
     "data": {
      "text/plain": [
       "4"
      ]
     },
     "execution_count": 40,
     "metadata": {},
     "output_type": "execute_result"
    }
   ],
   "source": [
    "pow(-2,2)"
   ]
  },
  {
   "cell_type": "code",
   "execution_count": 48,
   "metadata": {},
   "outputs": [
    {
     "name": "stdout",
     "output_type": "stream",
     "text": [
      "0\n",
      "1\n",
      "2\n",
      "3\n",
      "4\n"
     ]
    }
   ],
   "source": [
    "i=-5\n",
    "# print(int(i))\n",
    "i = -i\n",
    "for i in range(int(i)):\n",
    "    print(i)"
   ]
  },
  {
   "cell_type": "code",
   "execution_count": null,
   "metadata": {},
   "outputs": [
    {
     "name": "stdout",
     "output_type": "stream",
     "text": [
      "Enter the positive number\n",
      "None\n"
     ]
    }
   ],
   "source": [
    "##Q. Solve the pow(x,n) Question ____-----Leetcode-50 [add condition: c will positive number]\n",
    "\n",
    "def my_pow(c,n):\n",
    "    if c > 0:\n",
    "        if n == 0:\n",
    "            return 1\n",
    "        if n < 0:\n",
    "            c = 1/c\n",
    "            n = -n\n",
    "\n",
    "        result=1\n",
    "        for i in range(int(n)):\n",
    "            result *= c\n",
    "        return result\n",
    "    else:\n",
    "        print(\"Enter the positive number\")   \n",
    "\n",
    "\n",
    "print(my_pow(-7,2)) \n"
   ]
  },
  {
   "cell_type": "code",
   "execution_count": 55,
   "metadata": {},
   "outputs": [
    {
     "name": "stdout",
     "output_type": "stream",
     "text": [
      "-343\n"
     ]
    }
   ],
   "source": [
    "def my_pow(c,n):\n",
    "    if n == 0:\n",
    "        return 1\n",
    "    if n < 0:\n",
    "        c = 1/c\n",
    "        n = -n\n",
    "\n",
    "    result=1\n",
    "    for i in range(int(n)):\n",
    "        result *= c\n",
    "    return result\n",
    "\n",
    "print(my_pow(-7,3))   \n"
   ]
  },
  {
   "cell_type": "code",
   "execution_count": 62,
   "metadata": {},
   "outputs": [
    {
     "name": "stdout",
     "output_type": "stream",
     "text": [
      "82\n"
     ]
    }
   ],
   "source": [
    "## ----------------- DAM CODE ----------------------------\n",
    "def my_pow(c,n):\n",
    "    if n == 0:\n",
    "        return 1\n",
    "    if n < 0:\n",
    "        c = 1/c\n",
    "        n = -n\n",
    "    return c**c+my_pow(c,n-1)\n",
    "\n",
    "print(my_pow(3,3)) "
   ]
  },
  {
   "cell_type": "code",
   "execution_count": 66,
   "metadata": {},
   "outputs": [
    {
     "name": "stdout",
     "output_type": "stream",
     "text": [
      "16\n"
     ]
    }
   ],
   "source": [
    "## ----------------- right code using the recursion  ------------------------\n",
    "\n",
    "def my_pow(c,n):\n",
    "    if n == 0:\n",
    "        return 1\n",
    "    if n < 0:\n",
    "        c = 1/c\n",
    "        n = -n\n",
    "    return c*my_pow(c,n-1)\n",
    "\n",
    "print(my_pow(2,4))"
   ]
  },
  {
   "cell_type": "code",
   "execution_count": 67,
   "metadata": {},
   "outputs": [
    {
     "data": {
      "text/plain": [
       "3"
      ]
     },
     "execution_count": 67,
     "metadata": {},
     "output_type": "execute_result"
    }
   ],
   "source": [
    "7//2"
   ]
  },
  {
   "cell_type": "code",
   "execution_count": 68,
   "metadata": {},
   "outputs": [
    {
     "data": {
      "text/plain": [
       "1"
      ]
     },
     "execution_count": 68,
     "metadata": {},
     "output_type": "execute_result"
    }
   ],
   "source": [
    "3//2"
   ]
  },
  {
   "cell_type": "code",
   "execution_count": 69,
   "metadata": {},
   "outputs": [
    {
     "data": {
      "text/plain": [
       "0"
      ]
     },
     "execution_count": 69,
     "metadata": {},
     "output_type": "execute_result"
    }
   ],
   "source": [
    "1//2"
   ]
  },
  {
   "cell_type": "code",
   "execution_count": 75,
   "metadata": {},
   "outputs": [
    {
     "data": {
      "text/plain": [
       "0.00390625"
      ]
     },
     "execution_count": 75,
     "metadata": {},
     "output_type": "execute_result"
    }
   ],
   "source": [
    "# --------------------------------- RIGHT METHOOD'S ------------------------------------\n",
    "#methood definations.\n",
    "def myPow(x,n):\n",
    "    if n == 0:\n",
    "        return 1\n",
    "    if n%2==1:\n",
    "        return x*myPow(x,n-1)\n",
    "    return myPow(x*x,n//2)\n",
    "\n",
    "\n",
    "\n",
    "\n",
    "#Driver code:\n",
    "def findPow(x,n):\n",
    "    if n < 0:\n",
    "        x = 1/x\n",
    "        n = abs(n)\n",
    "    return myPow(x,n)\n",
    "\n",
    "findPow(2,-8)"
   ]
  },
  {
   "cell_type": "code",
   "execution_count": 76,
   "metadata": {},
   "outputs": [
    {
     "data": {
      "text/plain": [
       "0.00390625"
      ]
     },
     "execution_count": 76,
     "metadata": {},
     "output_type": "execute_result"
    }
   ],
   "source": [
    "2**(-8)"
   ]
  },
  {
   "cell_type": "code",
   "execution_count": 1,
   "metadata": {},
   "outputs": [],
   "source": [
    "class Stack:\n",
    "    def __init__(self):\n",
    "        self.items = []\n",
    "\n",
    "    def push(self, item):\n",
    "        self.items.append(item)  # Adds to top\n",
    "\n",
    "    def pop(self):\n",
    "        if not self.is_empty():\n",
    "            return self.items.pop()  # Removes top\n",
    "        return None\n",
    "\n",
    "    def peek(self):\n",
    "        return self.items[-1] if self.items else None\n",
    "\n",
    "    def is_empty(self):\n",
    "        return len(self.items) == 0\n"
   ]
  },
  {
   "cell_type": "code",
   "execution_count": null,
   "metadata": {},
   "outputs": [
    {
     "ename": "NameError",
     "evalue": "name 'push' is not defined",
     "output_type": "error",
     "traceback": [
      "\u001b[0;31m---------------------------------------------------------------------------\u001b[0m",
      "\u001b[0;31mNameError\u001b[0m                                 Traceback (most recent call last)",
      "Cell \u001b[0;32mIn[3], line 1\u001b[0m\n\u001b[0;32m----> 1\u001b[0m \u001b[43mpush\u001b[49m(\u001b[38;5;241m9\u001b[39m)\n",
      "\u001b[0;31mNameError\u001b[0m: name 'push' is not defined"
     ]
    }
   ],
   "source": []
  },
  {
   "cell_type": "code",
   "execution_count": 12,
   "metadata": {},
   "outputs": [
    {
     "name": "stdout",
     "output_type": "stream",
     "text": [
      "[1, 2, 3, 4, 5]\n"
     ]
    }
   ],
   "source": [
    "##selection sort\n",
    "def selection_sort(arr):\n",
    "    for i in range(len(arr)):\n",
    "\n",
    "        min_index=i\n",
    "        for j in range(i+1,len(arr)):\n",
    "            if arr[j]<arr[min_index]:\n",
    "                min_index=j\n",
    "            arr[i],arr[min_index]=arr[min_index],arr[i]\n",
    "\n",
    "arr = [3,2,1,4,5]\n",
    "selection_sort(arr)\n",
    "print(arr)"
   ]
  },
  {
   "cell_type": "code",
   "execution_count": 11,
   "metadata": {},
   "outputs": [
    {
     "name": "stdout",
     "output_type": "stream",
     "text": [
      "None\n"
     ]
    }
   ],
   "source": [
    "print(selection_sort([3,2,1,4,5]))"
   ]
  },
  {
   "cell_type": "code",
   "execution_count": null,
   "metadata": {},
   "outputs": [],
   "source": []
  }
 ],
 "metadata": {
  "kernelspec": {
   "display_name": "Python 3",
   "language": "python",
   "name": "python3"
  },
  "language_info": {
   "codemirror_mode": {
    "name": "ipython",
    "version": 3
   },
   "file_extension": ".py",
   "mimetype": "text/x-python",
   "name": "python",
   "nbconvert_exporter": "python",
   "pygments_lexer": "ipython3",
   "version": "3.12.3"
  }
 },
 "nbformat": 4,
 "nbformat_minor": 2
}
