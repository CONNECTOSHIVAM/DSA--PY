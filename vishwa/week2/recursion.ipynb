{
 "cells": [
  {
   "cell_type": "markdown",
   "metadata": {},
   "source": [
    "##Recursion "
   ]
  },
  {
   "cell_type": "code",
   "execution_count": 20,
   "metadata": {},
   "outputs": [
    {
     "name": "stdout",
     "output_type": "stream",
     "text": [
      "1\n",
      "2\n",
      "3\n"
     ]
    }
   ],
   "source": [
    "#Write the code to iterate the value the array.\n",
    "\n",
    "def iterate(arr,iN):\n",
    "    #Base conditions\n",
    "    if iN >= len(arr):\n",
    "        return\n",
    "    #Logic\n",
    "    print(arr[iN])\n",
    "    #recusive call\n",
    "    iterate(arr,iN+1)\n",
    "\n",
    "#call the function.\n",
    "#Driver code\n",
    "arr=[1,2,3]\n",
    "iterate(arr,0)"
   ]
  },
  {
   "cell_type": "code",
   "execution_count": 21,
   "metadata": {},
   "outputs": [
    {
     "name": "stdout",
     "output_type": "stream",
     "text": [
      "3\n",
      "2\n",
      "1\n"
     ]
    }
   ],
   "source": [
    "#WRITE a code print the array all value using the array.-->in reverse directions\n",
    "\n",
    "def iterate(arr,iN):\n",
    "    #Base condition\n",
    "    if iN >= len(arr):\n",
    "        return \n",
    "   \n",
    "    #recursive call\n",
    "    iterate(arr,iN+1)\n",
    "    #Logic\n",
    "    print(arr[iN])\n",
    "\n",
    "iterate([1,2,3],0)"
   ]
  },
  {
   "cell_type": "code",
   "execution_count": 22,
   "metadata": {},
   "outputs": [
    {
     "data": {
      "text/plain": [
       "3"
      ]
     },
     "execution_count": 22,
     "metadata": {},
     "output_type": "execute_result"
    }
   ],
   "source": [
    "arr=[1,2,3]\n",
    "len(arr)"
   ]
  },
  {
   "cell_type": "code",
   "execution_count": 23,
   "metadata": {},
   "outputs": [
    {
     "name": "stdout",
     "output_type": "stream",
     "text": [
      "1\n",
      "2\n",
      "3\n",
      "4\n",
      "None\n"
     ]
    }
   ],
   "source": [
    "##functions deinations.\n",
    "def arrayValue(arr,iN):\n",
    "    if iN >= len(arr):\n",
    "        return \n",
    "    print(arr[iN])\n",
    "    arrayValue(arr,iN+1)\n",
    "\n",
    "\n",
    "\n",
    "##Driver code \n",
    "arr = [1,2,3,4]\n",
    "print(arrayValue(arr,0))\n"
   ]
  },
  {
   "cell_type": "code",
   "execution_count": 24,
   "metadata": {},
   "outputs": [
    {
     "data": {
      "text/plain": [
       "range(0, 4)"
      ]
     },
     "execution_count": 24,
     "metadata": {},
     "output_type": "execute_result"
    }
   ],
   "source": [
    "range(len(arr))"
   ]
  },
  {
   "cell_type": "code",
   "execution_count": 25,
   "metadata": {},
   "outputs": [
    {
     "name": "stdout",
     "output_type": "stream",
     "text": [
      "3\n",
      "2\n",
      "1\n",
      "None\n"
     ]
    }
   ],
   "source": [
    "#Now print in the reverse order.\n",
    "# \n",
    "def reverseArray(arr,sI):\n",
    "    if sI >= len(arr) :\n",
    "        return \n",
    "    \n",
    "    reverseArray(arr,sI+1)\n",
    "    print(arr[sI])\n",
    "\n",
    "\n",
    "#Driver code:\n",
    "arr=[1,2,3]\n",
    "print(reverseArray(arr,0))\n"
   ]
  },
  {
   "cell_type": "code",
   "execution_count": 26,
   "metadata": {},
   "outputs": [
    {
     "data": {
      "text/plain": [
       "range(0, 3)"
      ]
     },
     "execution_count": 26,
     "metadata": {},
     "output_type": "execute_result"
    }
   ],
   "source": [
    "range(len(arr))"
   ]
  },
  {
   "cell_type": "code",
   "execution_count": 27,
   "metadata": {},
   "outputs": [
    {
     "name": "stdout",
     "output_type": "stream",
     "text": [
      "31\n"
     ]
    }
   ],
   "source": [
    "##Q. Tower of Honoi\n",
    "\n",
    "def moves(s,d,a,n):\n",
    "    #Base case:\n",
    "    if n==1:\n",
    "        return 1\n",
    "    #recursive call\n",
    "    return moves(s,a,d,n-1)+1+moves(a,d,s,n-1)\n",
    "\n",
    "print(moves('s','d','a',5))"
   ]
  },
  {
   "cell_type": "code",
   "execution_count": 28,
   "metadata": {},
   "outputs": [],
   "source": [
    "def func(n):\n",
    "    for i in range(n):\n",
    "        for j in range(i):\n",
    "            for k in range(j):\n",
    "                print(i,j,k)"
   ]
  },
  {
   "cell_type": "code",
   "execution_count": 29,
   "metadata": {},
   "outputs": [
    {
     "name": "stdout",
     "output_type": "stream",
     "text": [
      "2 1 0\n",
      "3 1 0\n",
      "3 2 0\n",
      "3 2 1\n",
      "4 1 0\n",
      "4 2 0\n",
      "4 2 1\n",
      "4 3 0\n",
      "4 3 1\n",
      "4 3 2\n"
     ]
    }
   ],
   "source": [
    "func(5)"
   ]
  },
  {
   "cell_type": "code",
   "execution_count": 30,
   "metadata": {},
   "outputs": [
    {
     "data": {
      "text/plain": [
       "2"
      ]
     },
     "execution_count": 30,
     "metadata": {},
     "output_type": "execute_result"
    }
   ],
   "source": [
    "5//2"
   ]
  },
  {
   "cell_type": "code",
   "execution_count": 31,
   "metadata": {},
   "outputs": [
    {
     "data": {
      "text/plain": [
       "55"
      ]
     },
     "execution_count": 31,
     "metadata": {},
     "output_type": "execute_result"
    }
   ],
   "source": [
    "##Q. Sum of n numbers.\n",
    "\n",
    "def sumOfN(n):\n",
    "    sum = 0;\n",
    "    for i in range(n+1):\n",
    "        sum += i\n",
    "    return sum\n",
    "\n",
    "sumOfN(10)"
   ]
  },
  {
   "cell_type": "code",
   "execution_count": 32,
   "metadata": {},
   "outputs": [
    {
     "name": "stdout",
     "output_type": "stream",
     "text": [
      "28\n"
     ]
    }
   ],
   "source": [
    "##Q1. sum of n number usring recursion.\n",
    "\n",
    "def sum(n):\n",
    "    if n == 0:\n",
    "        return 0\n",
    "    return n+sum(n-1)\n",
    "\n",
    "print(sum(7))\n"
   ]
  },
  {
   "cell_type": "code",
   "execution_count": 33,
   "metadata": {},
   "outputs": [
    {
     "data": {
      "text/plain": [
       "10"
      ]
     },
     "execution_count": 33,
     "metadata": {},
     "output_type": "execute_result"
    }
   ],
   "source": [
    "##Q. write a code to some of digits.\n",
    "\n",
    "def sumOfDigits(a):\n",
    "    b=0\n",
    "    while a>0:\n",
    "       b += a%10\n",
    "       a = a//10\n",
    "    return b\n",
    "    \n",
    "sumOfDigits(1234)"
   ]
  },
  {
   "cell_type": "code",
   "execution_count": 34,
   "metadata": {},
   "outputs": [
    {
     "data": {
      "text/plain": [
       "24"
      ]
     },
     "execution_count": 34,
     "metadata": {},
     "output_type": "execute_result"
    }
   ],
   "source": [
    "##Q. write a code to some of digits using recursion.\n",
    "\n",
    "def sumOfDigits(n):\n",
    "    #base case:\n",
    "    if n == 0:\n",
    "        return 0\n",
    "    #recursive case\n",
    "    return (n % 10)+sumOfDigits(n//10)\n",
    "\n",
    "sumOfDigits(789)\n"
   ]
  },
  {
   "cell_type": "code",
   "execution_count": 35,
   "metadata": {},
   "outputs": [
    {
     "name": "stdout",
     "output_type": "stream",
     "text": [
      "6\n"
     ]
    }
   ],
   "source": [
    "##Q. Count the number of digits in a number.\n",
    "\n",
    "def countDigits(n):\n",
    "    count = 0\n",
    "    a = str(n)\n",
    "    for i in a:\n",
    "        count += 1;\n",
    "    return count\n",
    "\n",
    "print(countDigits(123456))"
   ]
  },
  {
   "cell_type": "code",
   "execution_count": 36,
   "metadata": {},
   "outputs": [
    {
     "name": "stdout",
     "output_type": "stream",
     "text": [
      "6\n"
     ]
    }
   ],
   "source": [
    "##Q. count the number of digits using recursion.\n",
    "\n",
    "def countDigits(n):\n",
    "    if n == 0:\n",
    "        return 0\n",
    "    return 1+countDigits(n//10)\n",
    "\n",
    "print(countDigits(123456))"
   ]
  },
  {
   "cell_type": "code",
   "execution_count": 37,
   "metadata": {},
   "outputs": [
    {
     "name": "stdout",
     "output_type": "stream",
     "text": [
      "True\n"
     ]
    }
   ],
   "source": [
    "##Q. check string is plaindrome or not using the recursion.\n",
    "\n",
    "def is_palindrome(a,left=0,right=None):\n",
    "    if right is None:\n",
    "        right = len(a)-1\n",
    "    #base case:\n",
    "    if left >= right:\n",
    "        return True\n",
    "    if a[left] != a[right]:\n",
    "        return False\n",
    "    #recursive case:\n",
    "    return is_palindrome(a,left+1,right-1)\n",
    "\n",
    "print(is_palindrome(\"madam\"))"
   ]
  },
  {
   "cell_type": "code",
   "execution_count": 43,
   "metadata": {},
   "outputs": [],
   "source": [
    "## Q. find the fibonacci serise.\n",
    "\n",
    "def fibo(n):\n",
    "    #base:\n",
    "    if n <= 1:\n",
    "        return n\n",
    "    #recusive case\n",
    "    return fibo(n-1)+fibo(n-2)"
   ]
  },
  {
   "cell_type": "code",
   "execution_count": 44,
   "metadata": {},
   "outputs": [
    {
     "data": {
      "text/plain": [
       "34"
      ]
     },
     "execution_count": 44,
     "metadata": {},
     "output_type": "execute_result"
    }
   ],
   "source": [
    "fibo(9)"
   ]
  },
  {
   "cell_type": "code",
   "execution_count": null,
   "metadata": {},
   "outputs": [
    {
     "data": {
      "text/plain": [
       "0"
      ]
     },
     "execution_count": 5,
     "metadata": {},
     "output_type": "execute_result"
    }
   ],
   "source": [
    "def recur_fibo(n):\n",
    "    if n < 0:\n",
    "        return 0\n",
    "    else:\n",
    "        return recur_fibo(n-1) + recur_fibo(n-2)\n",
    "\n",
    "recur_fibo(5)"
   ]
  },
  {
   "cell_type": "code",
   "execution_count": null,
   "metadata": {},
   "outputs": [],
   "source": [
    "##Q . find the factorial using the recursion.\n",
    "\n",
    "def fact(n):\n",
    "    #Base case:\n",
    "    if n <= 1:\n",
    "        return 1\n",
    "    #recursive case:\n",
    "    return n*fact(n-1)\n",
    "    "
   ]
  },
  {
   "cell_type": "code",
   "execution_count": null,
   "metadata": {},
   "outputs": [
    {
     "data": {
      "text/plain": [
       "120"
      ]
     },
     "execution_count": 2,
     "metadata": {},
     "output_type": "execute_result"
    }
   ],
   "source": [
    "fact(5)"
   ]
  },
  {
   "cell_type": "code",
   "execution_count": null,
   "metadata": {},
   "outputs": [
    {
     "name": "stdout",
     "output_type": "stream",
     "text": [
      "5\n"
     ]
    }
   ],
   "source": [
    "##Q. findthe fibonacci number.\n",
    "\n",
    "#methood definations \n",
    "def fibo(n):\n",
    "    #Base case:\n",
    "    if n <= 1:\n",
    "        return n\n",
    "    #recursive case:\n",
    "    else:\n",
    "        return fibo(n-1)+fibo(n-2)\n",
    "\n",
    "#Driver code\n",
    "n=5\n",
    "result = fibo(n)\n",
    "print(result)"
   ]
  },
  {
   "cell_type": "code",
   "execution_count": 49,
   "metadata": {},
   "outputs": [
    {
     "name": "stdout",
     "output_type": "stream",
     "text": [
      "31\n"
     ]
    }
   ],
   "source": [
    "## Q. write the code of tower of honoi.\n",
    "\n",
    "#functions definations.\n",
    "def tower_of_honoi(s,d,a,n):\n",
    "    #base case:\n",
    "    if n == 1:\n",
    "        return 1\n",
    "    #recursive case:\n",
    "    return tower_of_honoi(s,a,d,n-1)+1+tower_of_honoi(a,d,s,n-1)\n",
    "\n",
    "\n",
    "#Driver code:\n",
    "first = \"s\"\n",
    "second = 'd'\n",
    "third = 'a'\n",
    "num_of_shell = 5\n",
    "result = tower_of_honoi(first,second,third,num_of_shell)\n",
    "print(result)"
   ]
  },
  {
   "cell_type": "code",
   "execution_count": 50,
   "metadata": {},
   "outputs": [
    {
     "name": "stdout",
     "output_type": "stream",
     "text": [
      "8\n"
     ]
    }
   ],
   "source": [
    "#write a code to climb stairs.\n",
    "\n",
    "#functions definations.\n",
    "def cls(n):\n",
    "    if n <= 3:\n",
    "        return n\n",
    "    return cls(n-1)+(n-2)\n",
    "\n",
    "#driver code:\n",
    "n=5;\n",
    "result= cls(n)\n",
    "print(result)"
   ]
  },
  {
   "cell_type": "code",
   "execution_count": null,
   "metadata": {},
   "outputs": [],
   "source": []
  }
 ],
 "metadata": {
  "kernelspec": {
   "display_name": "usr",
   "language": "python",
   "name": "python3"
  },
  "language_info": {
   "codemirror_mode": {
    "name": "ipython",
    "version": 3
   },
   "file_extension": ".py",
   "mimetype": "text/x-python",
   "name": "python",
   "nbconvert_exporter": "python",
   "pygments_lexer": "ipython3",
   "version": "3.12.3"
  }
 },
 "nbformat": 4,
 "nbformat_minor": 2
}
