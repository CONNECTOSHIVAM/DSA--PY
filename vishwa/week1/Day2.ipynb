{
 "cells": [
  {
   "cell_type": "code",
   "execution_count": 1,
   "metadata": {},
   "outputs": [
    {
     "name": "stdout",
     "output_type": "stream",
     "text": [
      "nohtyp\n"
     ]
    }
   ],
   "source": [
    "##Q1. reverse a string using the loop.\n",
    "\n",
    "str = \"python\"\n",
    "rev_str=\"\"\n",
    "for i in str:\n",
    "    rev_str = i + rev_str\n",
    "\n",
    "print(rev_str)"
   ]
  },
  {
   "cell_type": "code",
   "execution_count": null,
   "metadata": {},
   "outputs": [],
   "source": [
    "n=5\n",
    "for i in range(n+1):\n",
    "    if n == 0:\n",
    "        print(n)\n",
    "    else:\n",
    "        i + i+1\n",
    "    "
   ]
  },
  {
   "cell_type": "markdown",
   "metadata": {},
   "source": [
    "Q1. reverse a string using the loop."
   ]
  },
  {
   "cell_type": "code",
   "execution_count": 16,
   "metadata": {},
   "outputs": [
    {
     "name": "stdout",
     "output_type": "stream",
     "text": [
      "mavihs\n"
     ]
    }
   ],
   "source": [
    "name=\"shivam\"\n",
    "new_Str = \"\"\n",
    "for i in name:\n",
    "    # print(i)\n",
    "    new_Str = i + new_Str\n",
    "    # print(new_Str)\n",
    "    \n",
    "print(new_Str)"
   ]
  },
  {
   "cell_type": "markdown",
   "metadata": {},
   "source": [
    "Q2. find the fibonacci of n number."
   ]
  },
  {
   "cell_type": "code",
   "execution_count": 23,
   "metadata": {},
   "outputs": [
    {
     "name": "stdout",
     "output_type": "stream",
     "text": [
      "Fibonacci serise is: \n",
      "0\n",
      "1\n",
      "1\n",
      "2\n",
      "3\n"
     ]
    }
   ],
   "source": [
    "n=5\n",
    "a=0\n",
    "b=1\n",
    "if n<=0:\n",
    "    print(\"Enter the positive number.\")\n",
    "elif n==1:\n",
    "    print(\"fibonacci number is : \",a)\n",
    "else:\n",
    "    print(\"Fibonacci serise is: \")\n",
    "    for i in range(n):\n",
    "        print(a)\n",
    "        a,b=b,a+b "
   ]
  },
  {
   "cell_type": "markdown",
   "metadata": {},
   "source": [
    "Q3. write a program to check number of plaindrome."
   ]
  },
  {
   "cell_type": "code",
   "execution_count": 26,
   "metadata": {},
   "outputs": [
    {
     "name": "stdout",
     "output_type": "stream",
     "text": [
      "Number is plaindrome\n"
     ]
    }
   ],
   "source": [
    "num = 123454321\n",
    "o_num = num\n",
    "rev_num = 0\n",
    "\n",
    "while(num!=0):\n",
    "    last_digit = num%10\n",
    "    rev_num = rev_num*10 + last_digit\n",
    "    num=num//10\n",
    "\n",
    "if o_num == rev_num:\n",
    "    print(\"Number is plaindrome\")\n",
    "else:\n",
    "    print(\"Number is not palindrome\")"
   ]
  },
  {
   "cell_type": "markdown",
   "metadata": {},
   "source": [
    "Q3.1 : write a program to check the string is plaindrome or not."
   ]
  },
  {
   "cell_type": "code",
   "execution_count": 29,
   "metadata": {},
   "outputs": [
    {
     "name": "stdout",
     "output_type": "stream",
     "text": [
      "Enter word malayalam is plaindrome.\n"
     ]
    }
   ],
   "source": [
    "string = \"malayalam\"\n",
    "rev_str = \"\"\n",
    "for i in string:\n",
    "    rev_str = i + rev_str\n",
    "if(string==rev_str):\n",
    "    print(f\"Enter word {string} is plaindrome.\")\n",
    "else:\n",
    "    print(f\"Enter word {string} is not plaindrome.\")"
   ]
  },
  {
   "cell_type": "code",
   "execution_count": 40,
   "metadata": {},
   "outputs": [
    {
     "name": "stdout",
     "output_type": "stream",
     "text": [
      "153 is Armstrong number.\n"
     ]
    }
   ],
   "source": [
    "# Q4. Write a code to find armstng number.\n",
    "\n",
    "n=153\n",
    "or_num = n\n",
    "num_str= str(or_num)\n",
    "digits = len(num_str)\n",
    "a=0\n",
    "while(n!=0):\n",
    "    last = n % 10\n",
    "    a += last**digits\n",
    "    n = n//10\n",
    "\n",
    "if a == or_num:\n",
    "    print(f\"{or_num} is Armstrong number.\")\n",
    "else:\n",
    "    print(f\"{or_num} isn't Armstrong number.\")\n"
   ]
  },
  {
   "cell_type": "code",
   "execution_count": null,
   "metadata": {},
   "outputs": [
    {
     "name": "stdout",
     "output_type": "stream",
     "text": [
      "\n",
      "3\n",
      "4\n",
      "\n",
      "6\n",
      "7\n",
      "8\n",
      "9\n",
      "\n"
     ]
    }
   ],
   "source": [
    "n=10\n",
    "for i in range(2,n+1):\n",
    "    if i% n== 0:\n",
    "        print()\n",
    "\n",
    "    else:\n",
    "        print(i)"
   ]
  },
  {
   "cell_type": "code",
   "execution_count": 2,
   "metadata": {},
   "outputs": [
    {
     "data": {
      "text/plain": [
       "[0, 1, 2, 3, 4, 5, 6, 7, 8]"
      ]
     },
     "execution_count": 2,
     "metadata": {},
     "output_type": "execute_result"
    }
   ],
   "source": [
    "list(range(9))"
   ]
  },
  {
   "cell_type": "code",
   "execution_count": null,
   "metadata": {},
   "outputs": [],
   "source": []
  }
 ],
 "metadata": {
  "kernelspec": {
   "display_name": "usr",
   "language": "python",
   "name": "python3"
  },
  "language_info": {
   "codemirror_mode": {
    "name": "ipython",
    "version": 3
   },
   "file_extension": ".py",
   "mimetype": "text/x-python",
   "name": "python",
   "nbconvert_exporter": "python",
   "pygments_lexer": "ipython3",
   "version": "3.12.3"
  }
 },
 "nbformat": 4,
 "nbformat_minor": 2
}
