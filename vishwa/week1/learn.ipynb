{
 "cells": [
  {
   "cell_type": "code",
   "execution_count": 4,
   "id": "51c332e9",
   "metadata": {},
   "outputs": [
    {
     "name": "stdout",
     "output_type": "stream",
     "text": [
      "3\n",
      "2\n",
      "1\n"
     ]
    }
   ],
   "source": [
    "\n",
    "#functions definations\n",
    "def reverse(a,si):\n",
    "    if si >= len(a):\n",
    "        return\n",
    "    reverse(a,si+1)\n",
    "    print(a[si])\n",
    "\n",
    "reverse([1,2,3],0)"
   ]
  },
  {
   "cell_type": "code",
   "execution_count": 10,
   "id": "aeef57cb",
   "metadata": {},
   "outputs": [
    {
     "name": "stdout",
     "output_type": "stream",
     "text": [
      "1\n",
      "2\n",
      "3\n"
     ]
    }
   ],
   "source": [
    "def iterate(a,si):\n",
    "    if si >= len(a):\n",
    "        return\n",
    "    \n",
    "    print(a[si])\n",
    "    iterate(a,si+1)\n",
    "\n",
    "iterate([1,2,3],0)"
   ]
  },
  {
   "cell_type": "code",
   "execution_count": null,
   "id": "94f097fe",
   "metadata": {},
   "outputs": [],
   "source": []
  }
 ],
 "metadata": {
  "kernelspec": {
   "display_name": "base",
   "language": "python",
   "name": "python3"
  },
  "language_info": {
   "codemirror_mode": {
    "name": "ipython",
    "version": 3
   },
   "file_extension": ".py",
   "mimetype": "text/x-python",
   "name": "python",
   "nbconvert_exporter": "python",
   "pygments_lexer": "ipython3",
   "version": "3.13.2"
  }
 },
 "nbformat": 4,
 "nbformat_minor": 5
}
