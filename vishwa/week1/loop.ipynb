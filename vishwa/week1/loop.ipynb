{
 "cells": [
  {
   "cell_type": "code",
   "execution_count": 16,
   "metadata": {},
   "outputs": [
    {
     "name": "stdout",
     "output_type": "stream",
     "text": [
      "*\n",
      "**\n",
      "***\n",
      "****\n",
      "*****\n"
     ]
    }
   ],
   "source": [
    "##print a pattern of star .\n",
    "\n",
    "n=5\n",
    "for i in range(1,n+1): \n",
    "    for j in range(1,i+1):\n",
    "        print(\"*\" ,end=\"\" )\n",
    "\n",
    "    print()\n",
    "    \n",
    "\n"
   ]
  },
  {
   "cell_type": "code",
   "execution_count": 18,
   "metadata": {},
   "outputs": [
    {
     "name": "stdout",
     "output_type": "stream",
     "text": [
      "1\n",
      "12\n",
      "123\n",
      "1234\n",
      "12345\n"
     ]
    }
   ],
   "source": [
    "n=5\n",
    "for i in range(1,n+1):\n",
    "    for j in range(1,i+1):\n",
    "        print(j,end=\"\")\n",
    "    print()"
   ]
  },
  {
   "cell_type": "code",
   "execution_count": 26,
   "metadata": {},
   "outputs": [
    {
     "name": "stdout",
     "output_type": "stream",
     "text": [
      "54321\n",
      "4321\n",
      "321\n",
      "21\n",
      "1\n"
     ]
    }
   ],
   "source": [
    "n=5\n",
    "for i in range(n,0,-1):\n",
    "    for j in range(i,0,-1):\n",
    "        print(j,end=\"\")\n",
    "    print()"
   ]
  },
  {
   "cell_type": "code",
   "execution_count": 30,
   "metadata": {},
   "outputs": [
    {
     "name": "stdout",
     "output_type": "stream",
     "text": [
      "  *\n",
      " ***\n",
      "*****\n",
      " ***\n",
      "  *\n"
     ]
    }
   ],
   "source": [
    "##Q. print the diamond shape.\n",
    "\n",
    "##Print the first three lines.\n",
    "n=3\n",
    "for i in range(1,n+1):\n",
    "    #first print the space then print the star.\n",
    "    for j in range(1,n-i+1):\n",
    "        print(\" \",end=\"\")\n",
    "    #print the star --> 2*i(row)-1\n",
    "    for j in range(1,2*i):\n",
    "        print(\"*\",end=\"\")\n",
    "    print()\n",
    "\n",
    "## write a last two line code.\n",
    "for i in range(n-1,0,-1):\n",
    "    #first print the space then print the star.\n",
    "    for j in range(i,n):\n",
    "        print(\" \",end=\"\")\n",
    "    for j in range(1,2*i):\n",
    "        print(\"*\",end=\"\")\n",
    "    print()"
   ]
  },
  {
   "cell_type": "code",
   "execution_count": 3,
   "metadata": {},
   "outputs": [
    {
     "name": "stdout",
     "output_type": "stream",
     "text": [
      "  *\n",
      " ***\n",
      "*****\n",
      " ***\n",
      "  *\n"
     ]
    }
   ],
   "source": [
    "#print the diamond shape.\n",
    "\n",
    "n=3\n",
    "##section-1: first print the starting 3 line.\n",
    "for i in range(1,n+1):\n",
    "    #step 2: first print the space then print the star.\n",
    "    for j in range(1,3-i+1):\n",
    "        print(\" \",end=\"\")\n",
    "    # step 3: Now print the star\n",
    "    for j in range(1,2*i):\n",
    "        print(\"*\",end=\"\")\n",
    "    print()\n",
    "\n",
    "##section-2: print the last two line.\n",
    "for i in range(n-1,0,-1):\n",
    "    #step-2: now print the space.\n",
    "    for j in range(i,n):\n",
    "        print(\" \",end=\"\")\n",
    "    #step-3: now print the star.\n",
    "    for j in range(1,2*i):\n",
    "        print(\"*\", end=\"\")\n",
    "    print()"
   ]
  },
  {
   "cell_type": "code",
   "execution_count": 31,
   "metadata": {},
   "outputs": [
    {
     "name": "stdout",
     "output_type": "stream",
     "text": [
      "   *    * * * *    * * * * * *    * * * \n",
      "*    *    *    * * * *       *    *       * \n",
      "*    *    *    *    * * *    * * *    *    \n",
      "* * *    *    *    * * *    * *       *    \n",
      "*    *    *    *    * *       *    * *       \n",
      "*    * * * * *    * * * * *    * * * * \n"
     ]
    }
   ],
   "source": [
    "#Q.print the AIMERZ pattern. \n",
    "\n",
    "for i in range(6):\n",
    "    for j in range(18):\n",
    "        if(i==0) and (j in [1,3,4,5,6,8,9,10,11,12,13,15,16,17]):\n",
    "            print(\"* \",end=\"\")\n",
    "        elif(i==1)and(j in [0,2,4,6,7,8,9,12,14,17]):\n",
    "            print(\"* \",end=\"\")\n",
    "        elif(i==2)and(j in [0,2,4,6,8,9,10,12,13,14,16]):\n",
    "            print(\"* \",end=\"\")\n",
    "        elif(i==3) and (j in [0,1,2,4,6,8,9,10,12,13,16]):\n",
    "            print(\"* \",end=\"\")\n",
    "        elif(i==4) and (j in [0,2,4,6,8,9,12,14,15]):\n",
    "            print(\"* \",end=\"\")\n",
    "        elif(i==5) and (j in [0,2,3,4,5,6,8,9,10,11,12,14,15,16,17]):\n",
    "            print(\"* \",end=\"\")\n",
    "        else:\n",
    "            print(\"  \",end=\" \")\n",
    "    print()\n"
   ]
  },
  {
   "cell_type": "code",
   "execution_count": null,
   "metadata": {},
   "outputs": [
    {
     "name": "stdout",
     "output_type": "stream",
     "text": [
      " **  ***** *   * *** ****\n",
      "*  *   *   ** ** * *    *\n",
      "****   *   * * * **    * \n",
      "*  *   *   *   * * *  *  \n",
      "*  * ***** *   * * * ****\n"
     ]
    }
   ],
   "source": [
    "# Q. Print the A I M E R Z pattern.\n",
    "\n",
    "for i in range(5):\n",
    "    for j in range(25):\n",
    "        if (i == 0) and (j in [1, 2,5,6, 7,8, 9,  11, 15, 17, 18, 19, 21,22,23,24]):\n",
    "            print(\"*\", end=\"\")\n",
    "        elif (i == 1) and (j in [0, 3, 7, 11, 12, 14,15,17,19,24]):\n",
    "            print(\"*\", end=\"\")\n",
    "        elif (i == 2) and (j in [0, 1,2,3 ,7,11, 13, 15, 17, 18,23]):\n",
    "            print(\"*\",end=\"\")\n",
    "        elif (i == 3) and (j in [0, 3, 7,  11, 15, 17,19, 22]):\n",
    "            print(\"*\", end=\"\")\n",
    "        elif (i == 4) and (j in [0, 3,5,6, 7,8, 9, 11, 15, 17,19,21,22,23,24]):\n",
    "            print(\"*\", end=\"\")\n",
    "        else:\n",
    "            print(\" \", end=\"\")\n",
    "    print()\n"
   ]
  },
  {
   "cell_type": "code",
   "execution_count": null,
   "metadata": {},
   "outputs": [],
   "source": []
  }
 ],
 "metadata": {
  "kernelspec": {
   "display_name": "usr",
   "language": "python",
   "name": "python3"
  },
  "language_info": {
   "codemirror_mode": {
    "name": "ipython",
    "version": 3
   },
   "file_extension": ".py",
   "mimetype": "text/x-python",
   "name": "python",
   "nbconvert_exporter": "python",
   "pygments_lexer": "ipython3",
   "version": "3.12.3"
  }
 },
 "nbformat": 4,
 "nbformat_minor": 2
}
