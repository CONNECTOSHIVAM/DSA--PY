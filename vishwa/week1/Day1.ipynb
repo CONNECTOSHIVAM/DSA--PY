{
 "cells": [
  {
   "cell_type": "code",
   "execution_count": 3,
   "metadata": {},
   "outputs": [
    {
     "name": "stdout",
     "output_type": "stream",
     "text": [
      "1 is odd number\n"
     ]
    }
   ],
   "source": [
    "##Question 1: print the even and odd number.\n",
    "\n",
    "n=1\n",
    "if(n%2==0):\n",
    "    print(f\"{n} is even number\")\n",
    "else:\n",
    "    print(f\"{n} is odd number\")"
   ]
  },
  {
   "cell_type": "code",
   "execution_count": 15,
   "metadata": {},
   "outputs": [
    {
     "name": "stdout",
     "output_type": "stream",
     "text": [
      "15\n"
     ]
    }
   ],
   "source": [
    "##Q2: Sum of n natural number.\n",
    "i=0\n",
    "n=5\n",
    "sum=0\n",
    "for i in range(n+1):\n",
    "    sum += i\n",
    "      \n",
    "print(sum)\n",
    "\n",
    "\n"
   ]
  },
  {
   "cell_type": "code",
   "execution_count": 16,
   "metadata": {},
   "outputs": [
    {
     "name": "stdout",
     "output_type": "stream",
     "text": [
      "120\n"
     ]
    }
   ],
   "source": [
    "#Q3. Find the factorial of n number.\n",
    "number = int(input(\"Enter the number to find factorial:\"))\n",
    "\n",
    "fact = 1\n",
    "for i in range(1,number+1):\n",
    "     fact = fact*i\n",
    "\n",
    "print(fact)\n",
    "\n"
   ]
  },
  {
   "cell_type": "code",
   "execution_count": 53,
   "metadata": {},
   "outputs": [
    {
     "name": "stdout",
     "output_type": "stream",
     "text": [
      "1 is not prime, Enter the valid number\n"
     ]
    }
   ],
   "source": [
    "#Q4. Check the number is prime or not.\n",
    "n=1\n",
    "if(n==2 or n==3):\n",
    "    print(f\"{n} is prime number.\")\n",
    "elif(n%2==0 or n%3==0):\n",
    "    print(f\"{n} is not prime number.\")\n",
    "else:\n",
    "    print(f\"{n} is not prime, Enter the valid number\")"
   ]
  },
  {
   "cell_type": "code",
   "execution_count": 54,
   "metadata": {},
   "outputs": [
    {
     "name": "stdout",
     "output_type": "stream",
     "text": [
      "2 is prime number.\n"
     ]
    }
   ],
   "source": [
    "#Q4. Check the number is prime or not.(using the 2nd method)\n",
    "\n",
    "n=2\n",
    "if(n>1):\n",
    "    for i in range(2,n):\n",
    "        if n % i ==0:\n",
    "            print(f\"{n} is not prime number\")\n",
    "            break\n",
    "    else:\n",
    "        print(f\"{n} is prime number.\")\n"
   ]
  },
  {
   "cell_type": "code",
   "execution_count": 69,
   "metadata": {},
   "outputs": [
    {
     "name": "stdout",
     "output_type": "stream",
     "text": [
      "12\n"
     ]
    }
   ],
   "source": [
    "##Q5. find the greatest common divisor.\n",
    "n1=60\n",
    "n2=48\n",
    "for i in range(min(n1,n2),0,-1):\n",
    "    if(n1%i==0 and n2%i==0):\n",
    "        gcd = i\n",
    "        break\n",
    "\n",
    "print(gcd)\n"
   ]
  },
  {
   "cell_type": "code",
   "execution_count": 27,
   "metadata": {},
   "outputs": [
    {
     "data": {
      "text/plain": [
       "10"
      ]
     },
     "execution_count": 27,
     "metadata": {},
     "output_type": "execute_result"
    }
   ],
   "source": [
    "##Q5. find the greatest common divisor.\n",
    "\n",
    "def findGcd(a,b):\n",
    "    while b != 0:\n",
    "        a,b = b,a%b\n",
    "    return a\n",
    "    \n",
    "findGcd(48,60)\n",
    "findGcd(10,20)"
   ]
  },
  {
   "cell_type": "code",
   "execution_count": 29,
   "metadata": {},
   "outputs": [
    {
     "data": {
      "text/plain": [
       "240"
      ]
     },
     "execution_count": 29,
     "metadata": {},
     "output_type": "execute_result"
    }
   ],
   "source": [
    "##Q6. find the LCM of two numbers.\n",
    "## Formula :- a*b = gcd(a,b) * lcm(a,b)\n",
    "## So--> lcm(a,b) = a*b/gcd(a,b)\n",
    "\n",
    "def getLcm(a,b):\n",
    "    gcd = findGcd(a,b)\n",
    "    lcm = a*b//gcd\n",
    "    return lcm\n",
    "\n",
    "\n",
    "getLcm(48,60)\n",
    "\n"
   ]
  },
  {
   "cell_type": "code",
   "execution_count": 20,
   "metadata": {},
   "outputs": [
    {
     "data": {
      "text/plain": [
       "48"
      ]
     },
     "execution_count": 20,
     "metadata": {},
     "output_type": "execute_result"
    }
   ],
   "source": [
    "48%60"
   ]
  },
  {
   "cell_type": "code",
   "execution_count": null,
   "metadata": {},
   "outputs": [
    {
     "name": "stdout",
     "output_type": "stream",
     "text": [
      "4 is not prime number.\n"
     ]
    }
   ],
   "source": [
    "#Q. check the number is prime or not. (logic one)\n",
    "\n",
    "n=4\n",
    "a=0\n",
    "for i in range(1,n+1):\n",
    "      if n%i==0:\n",
    "         a += 1\n",
    "         \n",
    "if a==2:\n",
    "    print(f\"{n} is prime number.\")\n",
    "else:\n",
    "    print(f\"{n} is not prime number.\")\n",
    "\n",
    "   \n",
    "    "
   ]
  },
  {
   "cell_type": "code",
   "execution_count": null,
   "metadata": {},
   "outputs": [
    {
     "name": "stdout",
     "output_type": "stream",
     "text": [
      "6 is not prime number.\n"
     ]
    }
   ],
   "source": [
    "#Q2. check the number is prime or not. (logic 2)\n",
    "n=6\n",
    "if n>1:\n",
    "    for i in range(2,n):\n",
    "        if n%i==0:\n",
    "            print(f\"{n} is not prime number.\")\n",
    "            break\n",
    "            \n",
    "    else:\n",
    "        print(f\"{n} is prime number.\")"
   ]
  },
  {
   "cell_type": "code",
   "execution_count": 52,
   "metadata": {},
   "outputs": [
    {
     "name": "stdout",
     "output_type": "stream",
     "text": [
      "4 is not prime number.\n"
     ]
    }
   ],
   "source": [
    "#Q2. check the number is prime or not. (logic 2 with efficient way)\n",
    "import math\n",
    "n=4\n",
    "if n>1:\n",
    "    for i in range(2,int(math.sqrt(n))+1):\n",
    "        if n%i==0:\n",
    "            print(f\"{n} is not prime number.\")\n",
    "            break\n",
    "\n",
    "    else:\n",
    "        print(f\"{n} is prime number.\")"
   ]
  },
  {
   "cell_type": "markdown",
   "metadata": {},
   "source": [
    "##Greatest  common divisor"
   ]
  },
  {
   "cell_type": "code",
   "execution_count": 65,
   "metadata": {},
   "outputs": [
    {
     "data": {
      "text/plain": [
       "12"
      ]
     },
     "execution_count": 65,
     "metadata": {},
     "output_type": "execute_result"
    }
   ],
   "source": [
    "#logic 1: to find the gratest common divisor.\n",
    "def gcd(n1,n2):\n",
    "    gd=0\n",
    "    for i in range(min(n1,n2),0,-1):\n",
    "        if (n1%i==0) and (n2%i==0):\n",
    "            gd = i\n",
    "            return gd\n",
    "        \n",
    "gcd(48,60)"
   ]
  },
  {
   "cell_type": "code",
   "execution_count": 74,
   "metadata": {},
   "outputs": [],
   "source": [
    "# if you find the --> Gratest common divisor --> then divide a%b==value will Gratest common divisor.\n",
    "def gcdWithModuls(a,b):\n",
    "    while b != 0:\n",
    "        a,b = b,a%b\n",
    "    return a"
   ]
  },
  {
   "cell_type": "code",
   "execution_count": 75,
   "metadata": {},
   "outputs": [
    {
     "data": {
      "text/plain": [
       "6"
      ]
     },
     "execution_count": 75,
     "metadata": {},
     "output_type": "execute_result"
    }
   ],
   "source": [
    "gcd(48,18)"
   ]
  },
  {
   "cell_type": "code",
   "execution_count": 31,
   "metadata": {},
   "outputs": [],
   "source": [
    "def gcdWithSubtraction(a,b):\n",
    "    while a!=0 and b!=0:\n",
    "        if a>b:\n",
    "            a=a-b\n",
    "        else:\n",
    "            b=b-a\n",
    "    if a!=0:\n",
    "        return a"
   ]
  },
  {
   "cell_type": "code",
   "execution_count": 33,
   "metadata": {},
   "outputs": [
    {
     "data": {
      "text/plain": [
       "6"
      ]
     },
     "execution_count": 33,
     "metadata": {},
     "output_type": "execute_result"
    }
   ],
   "source": [
    "gcdWithSubtraction(12,18)"
   ]
  },
  {
   "cell_type": "code",
   "execution_count": 2,
   "metadata": {},
   "outputs": [
    {
     "name": "stdout",
     "output_type": "stream",
     "text": [
      "45\n"
     ]
    }
   ],
   "source": [
    "#Q. sum of n natural numbers.\n",
    "\n",
    "n=9\n",
    "sum =0;\n",
    "for i in range(1,n+1):\n",
    "    sum += i\n",
    "    \n",
    "print(sum)"
   ]
  },
  {
   "cell_type": "code",
   "execution_count": 4,
   "metadata": {},
   "outputs": [
    {
     "name": "stdout",
     "output_type": "stream",
     "text": [
      "120\n"
     ]
    }
   ],
   "source": [
    "#Q. find the factorial of n numbers.\n",
    "\n",
    "n=5\n",
    "fact = 1\n",
    "for i in range(1,n+1):\n",
    "    fact *= i\n",
    "\n",
    "print(fact)\n",
    "    "
   ]
  },
  {
   "cell_type": "code",
   "execution_count": 13,
   "metadata": {},
   "outputs": [
    {
     "name": "stdout",
     "output_type": "stream",
     "text": [
      "Enter the valid number.\n"
     ]
    }
   ],
   "source": [
    "#Q. check the prime number or not.\n",
    "\n",
    "a = int(input(\"Enter the number:- \"))\n",
    "if a > 1:\n",
    "    for i in range(2,a):\n",
    "        if a%i==0:\n",
    "            print(f\"{a}is not Prime number. \")\n",
    "            break\n",
    "    else:\n",
    "        print(f\"{a} is prime number\")\n",
    "\n",
    "else:\n",
    "    print(\"Enter the valid number.\")"
   ]
  },
  {
   "cell_type": "code",
   "execution_count": 17,
   "metadata": {},
   "outputs": [
    {
     "name": "stdout",
     "output_type": "stream",
     "text": [
      "16 is not prime number\n"
     ]
    }
   ],
   "source": [
    "#Q. check the number is prime number or not.  ##Logic two\n",
    "\n",
    "import math\n",
    "n=16;\n",
    "if n>1:\n",
    "    for i in range(2,int(math.sqrt(n))+1):\n",
    "        if n%i==0:\n",
    "            print(f\"{n} is not prime number\")\n",
    "            break\n",
    "\n",
    "    else:\n",
    "        print(\"{n} is prime numeber\")\n",
    "\n",
    "else:\n",
    "    print(\"Enter the valid number.\")\n",
    "    \n"
   ]
  },
  {
   "cell_type": "code",
   "execution_count": 19,
   "metadata": {},
   "outputs": [],
   "source": [
    "##Q. find the greatest common divisor.\n",
    "\n",
    "def ggcd(n1,n2):\n",
    "    for i in range(min(n1,n2),0,-1):\n",
    "        if n1%i==0 and n2%i==0:\n",
    "            return i"
   ]
  },
  {
   "cell_type": "code",
   "execution_count": 20,
   "metadata": {},
   "outputs": [
    {
     "data": {
      "text/plain": [
       "12"
      ]
     },
     "execution_count": 20,
     "metadata": {},
     "output_type": "execute_result"
    }
   ],
   "source": [
    "ggcd(48,60)"
   ]
  },
  {
   "cell_type": "code",
   "execution_count": 23,
   "metadata": {},
   "outputs": [
    {
     "data": {
      "text/plain": [
       "6"
      ]
     },
     "execution_count": 23,
     "metadata": {},
     "output_type": "execute_result"
    }
   ],
   "source": [
    "##Q. find the greatest common divisor using the Eucldain method.\n",
    "\n",
    "def gggcd(n1,n2):\n",
    "    while(n2!=0):\n",
    "        n1,n2 = n2,n1%n2\n",
    "\n",
    "    return n1\n",
    "\n",
    "gggcd(18,48)"
   ]
  },
  {
   "cell_type": "code",
   "execution_count": 35,
   "metadata": {},
   "outputs": [
    {
     "name": "stdout",
     "output_type": "stream",
     "text": [
      "6\n"
     ]
    }
   ],
   "source": [
    "##Q. find the greatest common divisor using tEucldain method.(logic 2)\n",
    "\n",
    "def gccd(n1,n2):\n",
    "    while n2 != 0:\n",
    "        if n1>n2:\n",
    "            n1=n1-n2\n",
    "        else:\n",
    "            n2 =n2-n1\n",
    "\n",
    "    print(n1)\n",
    "gccd(18,48)"
   ]
  },
  {
   "cell_type": "code",
   "execution_count": 56,
   "metadata": {},
   "outputs": [
    {
     "data": {
      "text/plain": [
       "100"
      ]
     },
     "execution_count": 56,
     "metadata": {},
     "output_type": "execute_result"
    }
   ],
   "source": [
    "##Q. find the lcm of two number.\n",
    "lcm =0\n",
    "def lcM(a,b):\n",
    "     gcd = gggcd(a,b)\n",
    "     lcm= (a*b)//gcd\n",
    "     return lcm\n",
    "lcM(20,25)\n",
    "\n"
   ]
  },
  {
   "cell_type": "code",
   "execution_count": null,
   "metadata": {},
   "outputs": [
    {
     "name": "stdout",
     "output_type": "stream",
     "text": [
      "5\n"
     ]
    },
    {
     "ename": "TypeError",
     "evalue": "unsupported operand type(s) for //: 'int' and 'NoneType'",
     "output_type": "error",
     "traceback": [
      "\u001b[0;31m---------------------------------------------------------------------------\u001b[0m",
      "\u001b[0;31mTypeError\u001b[0m                                 Traceback (most recent call last)",
      "Cell \u001b[0;32mIn[51], line 1\u001b[0m\n\u001b[0;32m----> 1\u001b[0m \u001b[43mlcM\u001b[49m\u001b[43m(\u001b[49m\u001b[38;5;241;43m20\u001b[39;49m\u001b[43m,\u001b[49m\u001b[38;5;241;43m25\u001b[39;49m\u001b[43m)\u001b[49m\n",
      "Cell \u001b[0;32mIn[48], line 5\u001b[0m, in \u001b[0;36mlcM\u001b[0;34m(a, b)\u001b[0m\n\u001b[1;32m      3\u001b[0m \u001b[38;5;28;01mdef\u001b[39;00m \u001b[38;5;21mlcM\u001b[39m(a,b):\n\u001b[1;32m      4\u001b[0m      gcd \u001b[38;5;241m=\u001b[39m gccd(a,b)\n\u001b[0;32m----> 5\u001b[0m      lcm\u001b[38;5;241m=\u001b[39m \u001b[43ma\u001b[49m\u001b[38;5;241;43m*\u001b[39;49m\u001b[43mb\u001b[49m\u001b[38;5;241;43m/\u001b[39;49m\u001b[38;5;241;43m/\u001b[39;49m\u001b[43mgcd\u001b[49m\n\u001b[1;32m      6\u001b[0m      \u001b[38;5;28mprint\u001b[39m(lcm)\n",
      "\u001b[0;31mTypeError\u001b[0m: unsupported operand type(s) for //: 'int' and 'NoneType'"
     ]
    }
   ],
   "source": []
  },
  {
   "cell_type": "code",
   "execution_count": null,
   "metadata": {},
   "outputs": [],
   "source": []
  }
 ],
 "metadata": {
  "kernelspec": {
   "display_name": "usr",
   "language": "python",
   "name": "python3"
  },
  "language_info": {
   "codemirror_mode": {
    "name": "ipython",
    "version": 3
   },
   "file_extension": ".py",
   "mimetype": "text/x-python",
   "name": "python",
   "nbconvert_exporter": "python",
   "pygments_lexer": "ipython3",
   "version": "3.12.3"
  }
 },
 "nbformat": 4,
 "nbformat_minor": 2
}
