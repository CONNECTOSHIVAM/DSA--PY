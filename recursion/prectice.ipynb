{
 "cells": [
  {
   "cell_type": "code",
   "execution_count": 2,
   "metadata": {},
   "outputs": [
    {
     "name": "stdout",
     "output_type": "stream",
     "text": [
      "4\n",
      "3\n",
      "2\n",
      "1\n",
      "None\n"
     ]
    }
   ],
   "source": [
    "#print the all array value using the recursion.\n",
    "\n",
    "def reverse_array(arr,iN):\n",
    "    #Base conditions\n",
    "    if iN >= len(arr):\n",
    "        return\n",
    "    \n",
    "    #recursive call\n",
    "    reverse_array(arr,iN+1)\n",
    "\n",
    "    #logic\n",
    "    print(arr[iN])\n",
    "\n",
    "#Driver code \n",
    "arr = [1,2,3,4]\n",
    "print(reverse_array(arr,0))\n"
   ]
  },
  {
   "cell_type": "code",
   "execution_count": 3,
   "metadata": {},
   "outputs": [
    {
     "name": "stdout",
     "output_type": "stream",
     "text": [
      "120\n"
     ]
    }
   ],
   "source": [
    "#Q. find the factorial using the recursion.\n",
    "\n",
    "#functions definations\n",
    "def factorial(n):\n",
    "    #Base case:\n",
    "    if n == 1:\n",
    "        return 1\n",
    "    #recursive case:\n",
    "    return n * factorial(n-1)\n",
    "\n",
    "#Driver code:\n",
    "n=5\n",
    "result = factorial(n)\n",
    "print(result)"
   ]
  },
  {
   "cell_type": "code",
   "execution_count": 4,
   "metadata": {},
   "outputs": [
    {
     "name": "stdout",
     "output_type": "stream",
     "text": [
      "13\n"
     ]
    }
   ],
   "source": [
    "#Q. find the fibonacci serise.\n",
    "\n",
    "#functions definations.\n",
    "def fibonacci(n):\n",
    "    #Base case:\n",
    "    if n <= 1:\n",
    "        return n\n",
    "    #recursive case\n",
    "    return fibonacci(n-1)+fibonacci(n-2)\n",
    "\n",
    "#Driver code:\n",
    "print(fibonacci(7))"
   ]
  },
  {
   "cell_type": "code",
   "execution_count": 5,
   "metadata": {},
   "outputs": [
    {
     "name": "stdout",
     "output_type": "stream",
     "text": [
      "89\n"
     ]
    }
   ],
   "source": [
    "#Q. write a program of climb stairs.\n",
    "\n",
    "def climb_stairs(n):\n",
    "    #Base case:\n",
    "    if n <= 3:\n",
    "        return n\n",
    "    \n",
    "    #recursive case:\n",
    "    return climb_stairs(n-1)+climb_stairs(n-2)\n",
    "\n",
    "#Drive code :\n",
    "print(climb_stairs(10))"
   ]
  },
  {
   "cell_type": "code",
   "execution_count": 6,
   "metadata": {},
   "outputs": [
    {
     "name": "stdout",
     "output_type": "stream",
     "text": [
      "8\n"
     ]
    }
   ],
   "source": [
    "#Q. solve the climb stairs problem using the iterartive approach.\n",
    "\n",
    "def climbing_s(n):\n",
    "    #base case:\n",
    "    if n <= 1:\n",
    "       return 1\n",
    "    first = 1\n",
    "    second = 2\n",
    "    for i in range(3,n+1):\n",
    "        third = first + second\n",
    "        first = second\n",
    "        second = third\n",
    "\n",
    "    return second\n",
    "\n",
    "#Driver code:\n",
    "print(climbing_s(5))"
   ]
  },
  {
   "cell_type": "code",
   "execution_count": 9,
   "metadata": {},
   "outputs": [
    {
     "name": "stdout",
     "output_type": "stream",
     "text": [
      "1\n",
      "2\n",
      "3\n",
      "4\n",
      "5\n",
      "None\n"
     ]
    }
   ],
   "source": [
    "# Q.Write a code to print a array in the correct logical order using the recursion.\n",
    "\n",
    "#functions definations.\n",
    "def iterate(a,si):\n",
    "    #Base case:\n",
    "    if si >= len(a):\n",
    "        return\n",
    "    #Logic\n",
    "    print(a[si])\n",
    "    #recursive case\n",
    "    return iterate(a,si+1)\n",
    "\n",
    "\n",
    "#Driver code.\n",
    "arr = [1,2,3,4,5]\n",
    "result = iterate(arr,0)\n",
    "print(result)\n"
   ]
  },
  {
   "cell_type": "code",
   "execution_count": 11,
   "metadata": {},
   "outputs": [
    {
     "name": "stdout",
     "output_type": "stream",
     "text": [
      "15\n"
     ]
    }
   ],
   "source": [
    "# Q. sum of n number using the recursion.\n",
    "\n",
    "#Functions definations\n",
    "def sumWithRecursion(n):\n",
    "    #Base case:\n",
    "    if n <= 1:\n",
    "        return n\n",
    "    #recursive case:\n",
    "    return n + sumWithRecursion(n-1)\n",
    "\n",
    "#Driver code:\n",
    "n=5\n",
    "result = sumWithRecursion(n)\n",
    "print(result)\n"
   ]
  },
  {
   "cell_type": "code",
   "execution_count": null,
   "metadata": {},
   "outputs": [],
   "source": []
  }
 ],
 "metadata": {
  "kernelspec": {
   "display_name": "base",
   "language": "python",
   "name": "python3"
  },
  "language_info": {
   "codemirror_mode": {
    "name": "ipython",
    "version": 3
   },
   "file_extension": ".py",
   "mimetype": "text/x-python",
   "name": "python",
   "nbconvert_exporter": "python",
   "pygments_lexer": "ipython3",
   "version": "3.13.2"
  }
 },
 "nbformat": 4,
 "nbformat_minor": 2
}
