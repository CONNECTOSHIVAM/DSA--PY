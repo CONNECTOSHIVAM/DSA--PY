{
 "cells": [
  {
   "cell_type": "code",
   "execution_count": 1,
   "metadata": {},
   "outputs": [
    {
     "name": "stdout",
     "output_type": "stream",
     "text": [
      "4\n",
      "3\n",
      "2\n",
      "1\n",
      "None\n"
     ]
    }
   ],
   "source": [
    "#print the all array value using the recursion.\n",
    "\n",
    "def reverse_array(arr,iN):\n",
    "    #Base conditions\n",
    "    if iN >= len(arr):\n",
    "        return\n",
    "    \n",
    "    #recursive call\n",
    "    reverse_array(arr,iN+1)\n",
    "\n",
    "    #logic\n",
    "    print(arr[iN])\n",
    "\n",
    "#Driver code \n",
    "arr = [1,2,3,4]\n",
    "print(reverse_array(arr,0))\n"
   ]
  },
  {
   "cell_type": "code",
   "execution_count": 2,
   "metadata": {},
   "outputs": [
    {
     "name": "stdout",
     "output_type": "stream",
     "text": [
      "120\n"
     ]
    }
   ],
   "source": [
    "#Q. find the factorial using the recursion.\n",
    "\n",
    "#functions definations\n",
    "def factorial(n):\n",
    "    #Base case:\n",
    "    if n == 1:\n",
    "        return 1\n",
    "    #recursive case:\n",
    "    return n * factorial(n-1)\n",
    "\n",
    "#Driver code:\n",
    "n=5\n",
    "result = factorial(n)\n",
    "print(result)"
   ]
  },
  {
   "cell_type": "code",
   "execution_count": 3,
   "metadata": {},
   "outputs": [
    {
     "name": "stdout",
     "output_type": "stream",
     "text": [
      "13\n"
     ]
    }
   ],
   "source": [
    "#Q. find the fibonacci serise.\n",
    "\n",
    "#functions definations.\n",
    "def fibonacci(n):\n",
    "    #Base case:\n",
    "    if n <= 1:\n",
    "        return n\n",
    "    #recursive case\n",
    "    return fibonacci(n-1)+fibonacci(n-2)\n",
    "\n",
    "#Driver code:\n",
    "print(fibonacci(7))"
   ]
  },
  {
   "cell_type": "code",
   "execution_count": 4,
   "metadata": {},
   "outputs": [
    {
     "name": "stdout",
     "output_type": "stream",
     "text": [
      "89\n"
     ]
    }
   ],
   "source": [
    "#Q. write a program of climb stairs.\n",
    "\n",
    "def climb_stairs(n):\n",
    "    #Base case:\n",
    "    if n <= 3:\n",
    "        return n\n",
    "    \n",
    "    #recursive case:\n",
    "    return climb_stairs(n-1)+climb_stairs(n-2)\n",
    "\n",
    "#Drive code :\n",
    "print(climb_stairs(10))"
   ]
  },
  {
   "cell_type": "code",
   "execution_count": 5,
   "metadata": {},
   "outputs": [
    {
     "name": "stdout",
     "output_type": "stream",
     "text": [
      "2\n"
     ]
    }
   ],
   "source": [
    "#Q. solve the climb stairs problem using the iterartive approach.\n",
    "\n",
    "def climbing_s(n):\n",
    "    #base case:\n",
    "    if n <= 1:\n",
    "       return 1\n",
    "    first = 1\n",
    "    second = 2\n",
    "    for i in range(3,n+1):\n",
    "        third = first + second\n",
    "        first = second\n",
    "        second = third\n",
    "\n",
    "    return second\n",
    "\n",
    "#Driver code:\n",
    "print(climbing_s(2))"
   ]
  },
  {
   "cell_type": "code",
   "execution_count": 6,
   "metadata": {},
   "outputs": [
    {
     "name": "stdout",
     "output_type": "stream",
     "text": [
      "1\n",
      "2\n",
      "3\n",
      "4\n",
      "5\n",
      "None\n"
     ]
    }
   ],
   "source": [
    "# Q.Write a code to print a array in the correct logical order using the recursion.\n",
    "\n",
    "#functions definations.\n",
    "def iterate(a,si):\n",
    "    #Base case:\n",
    "    if si >= len(a):\n",
    "        return\n",
    "    #Logic\n",
    "    print(a[si])\n",
    "    #recursive case\n",
    "    return iterate(a,si+1)\n",
    "\n",
    "\n",
    "#Driver code.\n",
    "arr = [1,2,3,4,5]\n",
    "result = iterate(arr,0)\n",
    "print(result)\n"
   ]
  },
  {
   "cell_type": "code",
   "execution_count": 7,
   "metadata": {},
   "outputs": [
    {
     "name": "stdout",
     "output_type": "stream",
     "text": [
      "15\n"
     ]
    }
   ],
   "source": [
    "# Q. sum of n number using the recursion.\n",
    "\n",
    "#Functions definations\n",
    "def sumWithRecursion(n):\n",
    "    #Base case:\n",
    "    if n <= 1:\n",
    "        return n\n",
    "    #recursive case:\n",
    "    return n + sumWithRecursion(n-1)\n",
    "\n",
    "#Driver code:\n",
    "n=5\n",
    "result = sumWithRecursion(n)\n",
    "print(result)\n"
   ]
  },
  {
   "cell_type": "code",
   "execution_count": 8,
   "metadata": {},
   "outputs": [
    {
     "name": "stdout",
     "output_type": "stream",
     "text": [
      "10\n"
     ]
    }
   ],
   "source": [
    "# Q.Sum of digits using the recursion.\n",
    "\n",
    "#functions definations.\n",
    "def sumOfDigits(n):\n",
    "    #Base case:\n",
    "    if n <= 10:\n",
    "        return n\n",
    "    #recursive case:\n",
    "    return n%10+sumOfDigits(n//10)\n",
    "\n",
    "#Driver code:\n",
    "n = 1234\n",
    "result = sumOfDigits(n)\n",
    "print(result)"
   ]
  },
  {
   "cell_type": "code",
   "execution_count": 9,
   "metadata": {},
   "outputs": [
    {
     "name": "stdout",
     "output_type": "stream",
     "text": [
      "5\n"
     ]
    }
   ],
   "source": [
    "# Q.Count the number of digits using the recursion.\n",
    "\n",
    "# functions definations\n",
    "def countOfDigits(n):\n",
    "    # Base case \n",
    "    if n == 0:\n",
    "        return 0\n",
    "    #recursive case:\n",
    "    return 1 + countOfDigits(n//10)\n",
    "\n",
    "#Driver code:\n",
    "n=12345\n",
    "result = countOfDigits(n)\n",
    "print(result)"
   ]
  },
  {
   "cell_type": "code",
   "execution_count": 10,
   "metadata": {},
   "outputs": [
    {
     "name": "stdout",
     "output_type": "stream",
     "text": [
      "True\n"
     ]
    }
   ],
   "source": [
    "# Q.Write a code to check string is palindrome using the recursion.\n",
    "\n",
    "#functions definations\n",
    "def is_palindrome(s,left,right):\n",
    "    #Base case:\n",
    "    if left >= right:\n",
    "        return True\n",
    "    if s[left]!= s[right]:\n",
    "        return False\n",
    "    #recursive case:\n",
    "    return is_palindrome(s,left+1,right-1)\n",
    "\n",
    "\n",
    "#Driver code:\n",
    "s = \"mom\"\n",
    "left = 0\n",
    "right = len(s)-1\n",
    "result = is_palindrome(s,left,right)\n",
    "print(result)\n",
    "\n"
   ]
  },
  {
   "cell_type": "code",
   "execution_count": 11,
   "metadata": {},
   "outputs": [
    {
     "name": "stdout",
     "output_type": "stream",
     "text": [
      "34\n"
     ]
    }
   ],
   "source": [
    "# Q.find the fibonacci number using the recursion.\n",
    "\n",
    "#methood definations\n",
    "def fibonacci_serise(n):\n",
    "    #base case:\n",
    "    if n <= 1:\n",
    "        return n\n",
    "    #recursive case:\n",
    "    return fibonacci_serise(n-1)+fibonacci_serise(n-2)\n",
    "\n",
    "#Driver code:\n",
    "n = 9\n",
    "result = fibonacci_serise(n)\n",
    "print(result)"
   ]
  },
  {
   "cell_type": "code",
   "execution_count": 12,
   "metadata": {},
   "outputs": [
    {
     "name": "stdout",
     "output_type": "stream",
     "text": [
      "34\n"
     ]
    }
   ],
   "source": [
    "# Q.find the fibonacci number using the iterative methoods.\n",
    "\n",
    "def fib_serise(n):\n",
    "    left = 0\n",
    "    right = 1\n",
    "    for i in range(1,n):\n",
    "        fn = left + right\n",
    "        left = right\n",
    "        right = fn\n",
    "\n",
    "    return right\n",
    "\n",
    "print(fib_serise(9))"
   ]
  },
  {
   "cell_type": "code",
   "execution_count": 13,
   "metadata": {},
   "outputs": [
    {
     "name": "stdout",
     "output_type": "stream",
     "text": [
      "mavihs\n"
     ]
    }
   ],
   "source": [
    "# Q. Reversing a string in-place using iterative  methods.\n",
    "\n",
    "#functions definations\n",
    "def reverse_string(s):\n",
    "    #conver the immutable string into a mutable list\n",
    "    s_list = list(s)\n",
    "    left = 0\n",
    "    right = len(s)-1\n",
    "    # s_list = list(s)\n",
    "    while left < right:\n",
    "        # Swap characters\n",
    "        s_list[left ],s_list[right] = s_list[right],s_list[left]\n",
    "        left += 1\n",
    "        right -= 1\n",
    "    return \"\".join(s_list)\n",
    "    \n",
    "\n",
    "#Driver code:\n",
    "s = \"shivam\"\n",
    "result = reverse_string(s)\n",
    "print(result)"
   ]
  },
  {
   "cell_type": "code",
   "execution_count": 14,
   "metadata": {},
   "outputs": [
    {
     "name": "stdout",
     "output_type": "stream",
     "text": [
      "mavihs\n"
     ]
    }
   ],
   "source": [
    "# Q.Reversing a string in-place using  recursive methods.\n",
    "\n",
    "#functions definations\n",
    "def reverse_Rstring(s):\n",
    "    #Base case:\n",
    "    if len(s) == 0:\n",
    "        return \"\"\n",
    "    #recursive case:\n",
    "    return s[-1]+ reverse_Rstring(s[:-1])\n",
    "\n",
    "#Driver code:\n",
    "s = \"shivam\"\n",
    "result = reverse_Rstring(s)\n",
    "print(result)"
   ]
  },
  {
   "cell_type": "code",
   "execution_count": 20,
   "metadata": {},
   "outputs": [
    {
     "name": "stdout",
     "output_type": "stream",
     "text": [
      "mavihs\n"
     ]
    }
   ],
   "source": [
    " #Q. write a 2nd recursive code to reverse the string without return anything.\n",
    "\n",
    "#functions definations\n",
    "def reverseI(s_list):\n",
    "    def reverseJ(left,right):\n",
    "        #Base case:\n",
    "        if left >= right:\n",
    "            return\n",
    "        # swap the value \n",
    "        s_list[left],s_list[right] = s_list[right],s_list[left]\n",
    "        reverseJ(left+1, right -1)\n",
    "    reverseJ(0,len(s_list)-1)\n",
    "\n",
    "\n",
    "#Driver code:\n",
    "s = \"shivam\"\n",
    "reverseI(s_list)\n",
    "# print(s_list)\n",
    "print(''.join(s_list))\n",
    "\n"
   ]
  },
  {
   "cell_type": "code",
   "execution_count": 27,
   "metadata": {},
   "outputs": [
    {
     "name": "stdout",
     "output_type": "stream",
     "text": [
      "32\n"
     ]
    }
   ],
   "source": [
    "# Q. Write a code to find the power of a number using the recursion.\n",
    "\n",
    "#functions definations.\n",
    "def myPow(x,n):\n",
    "    if n == 0:\n",
    "        return 1.0\n",
    "    if n < 0:\n",
    "        x = 1/x\n",
    "        n = abs(n)\n",
    "    \n",
    "    final = 1\n",
    "    for i in range(n):\n",
    "        final *= x\n",
    "    return final\n",
    "\n",
    "#Driver code:\n",
    "x = 2\n",
    "n = 5\n",
    "result = myPow(x,n)\n",
    "print(result) "
   ]
  },
  {
   "cell_type": "code",
   "execution_count": null,
   "metadata": {},
   "outputs": [],
   "source": [
    "\n",
    "\n",
    "\n"
   ]
  }
 ],
 "metadata": {
  "kernelspec": {
   "display_name": "base",
   "language": "python",
   "name": "python3"
  },
  "language_info": {
   "codemirror_mode": {
    "name": "ipython",
    "version": 3
   },
   "file_extension": ".py",
   "mimetype": "text/x-python",
   "name": "python",
   "nbconvert_exporter": "python",
   "pygments_lexer": "ipython3",
   "version": "3.13.2"
  }
 },
 "nbformat": 4,
 "nbformat_minor": 2
}
