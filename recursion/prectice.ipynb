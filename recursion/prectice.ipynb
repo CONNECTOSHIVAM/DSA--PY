{
 "cells": [
  {
   "cell_type": "code",
   "execution_count": 4,
   "metadata": {},
   "outputs": [
    {
     "name": "stdout",
     "output_type": "stream",
     "text": [
      "4\n",
      "3\n",
      "2\n",
      "1\n",
      "None\n"
     ]
    }
   ],
   "source": [
    "#print the all array value using the recursion.\n",
    "\n",
    "def reverse_array(arr,iN):\n",
    "    #Base conditions\n",
    "    if iN >= len(arr):\n",
    "        return\n",
    "    \n",
    "    #recursive call\n",
    "    reverse_array(arr,iN+1)\n",
    "\n",
    "    #logic\n",
    "    print(arr[iN])\n",
    "\n",
    "\n",
    "\n",
    "\n",
    "\n",
    "#Driver code \n",
    "arr = [1,2,3,4]\n",
    "print(reverse_array(arr,0))\n"
   ]
  },
  {
   "cell_type": "code",
   "execution_count": 4,
   "metadata": {},
   "outputs": [
    {
     "name": "stdout",
     "output_type": "stream",
     "text": [
      "120\n"
     ]
    }
   ],
   "source": [
    "#Q. find the factorial using the recursion.\n",
    "\n",
    "#functions definations\n",
    "def factorial(n):\n",
    "    #Base case:\n",
    "    if n == 1:\n",
    "        return 1\n",
    "    #recursive case:\n",
    "    return n * factorial(n-1)\n",
    "\n",
    "#Driver code:\n",
    "n=5\n",
    "result = factorial(n)\n",
    "print(result)"
   ]
  },
  {
   "cell_type": "code",
   "execution_count": 8,
   "metadata": {},
   "outputs": [
    {
     "name": "stdout",
     "output_type": "stream",
     "text": [
      "13\n"
     ]
    }
   ],
   "source": [
    "#Q. find the fibonacci serise.\n",
    "\n",
    "#functions definations.\n",
    "def fibonacci(n):\n",
    "    #Base case:\n",
    "    if n <= 1:\n",
    "        return n\n",
    "    #recursive case\n",
    "    return fibonacci(n-1)+fibonacci(n-2)\n",
    "\n",
    "#Driver code:\n",
    "print(fibonacci(7))"
   ]
  },
  {
   "cell_type": "code",
   "execution_count": 13,
   "metadata": {},
   "outputs": [
    {
     "name": "stdout",
     "output_type": "stream",
     "text": [
      "89\n"
     ]
    }
   ],
   "source": [
    "#Q. write a program of climb stairs.\n",
    "\n",
    "def climb_stairs(n):\n",
    "    #Base case:\n",
    "    if n <= 3:\n",
    "        return n\n",
    "    \n",
    "    #recursive case:\n",
    "    return climb_stairs(n-1)+climb_stairs(n-2)\n",
    "\n",
    "#Drive code :\n",
    "print(climb_stairs(10))"
   ]
  },
  {
   "cell_type": "code",
   "execution_count": null,
   "metadata": {},
   "outputs": [],
   "source": []
  }
 ],
 "metadata": {
  "kernelspec": {
   "display_name": "base",
   "language": "python",
   "name": "python3"
  },
  "language_info": {
   "codemirror_mode": {
    "name": "ipython",
    "version": 3
   },
   "file_extension": ".py",
   "mimetype": "text/x-python",
   "name": "python",
   "nbconvert_exporter": "python",
   "pygments_lexer": "ipython3",
   "version": "3.13.2"
  }
 },
 "nbformat": 4,
 "nbformat_minor": 2
}
