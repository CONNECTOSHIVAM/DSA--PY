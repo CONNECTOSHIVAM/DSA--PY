{
 "cells": [
  {
   "cell_type": "code",
   "execution_count": null,
   "id": "8f2b44a2",
   "metadata": {},
   "outputs": [
    {
     "name": "stdout",
     "output_type": "stream",
     "text": [
      "[1, 2, 3, 4, 5]\n"
     ]
    }
   ],
   "source": [
    "##Seletion Sort : It is a comparison based algorithm, selection sort works by the repeatedly finding the minium \n",
    "# the minimum elements from the unsorted part of the array. that elements placed in its correct position by \n",
    "# swapping with the first unsorted elements.\n",
    "\n",
    "#Time Complexity: O(n^2)  || Space Complexity: O(1)\n",
    "\n",
    "def selection_sort(arr):\n",
    "    for i in range(len(arr)):\n",
    "        min_idx = i\n",
    "        for j in range(i+1,len(arr)):\n",
    "            if arr[j]<arr[min_idx]:\n",
    "                min_idx = j\n",
    "        \n",
    "        arr[i],arr[min_idx]=arr[min_idx],arr[i]\n",
    "    return arr\n",
    "\n",
    "#Driver code:\n",
    "arr = [2,1,4,3,5]\n",
    "selection_sort(arr)\n",
    "print(arr)"
   ]
  },
  {
   "cell_type": "code",
   "execution_count": null,
   "id": "353cccc0",
   "metadata": {},
   "outputs": [
    {
     "data": {
      "text/plain": [
       "[1, 3, 5, 10, 12]"
      ]
     },
     "execution_count": 1,
     "metadata": {},
     "output_type": "execute_result"
    }
   ],
   "source": [
    "#Q. write a code for the selection sort.\n",
    "\n",
    "#Methood definations\n",
    "def selection_sorts(l1:list[int])->list[int]:\n",
    "    n = len(l1)\n",
    "    #traverse the array from start to end\n",
    "    for i in range(n):\n",
    "        #assume fisrt element is minimum number\n",
    "        min_idx=i\n",
    "        #inner loop to comapre list elements\n",
    "        for j in range(i+1,n):\n",
    "            #if find as other num is minimum in the list then swap it.\n",
    "            if l1[j]<l1[min_idx]:\n",
    "                min_idx = j\n",
    "        #if find the right elements for correct order then swap it.\n",
    "        l1[i],l1[min_idx] = l1[min_idx],l1[i]\n",
    "    #return the sorted array\n",
    "    return l1\n",
    "\n",
    "\n",
    "#Driver Code:\n",
    "l1 = [10,3,12,5,1]\n",
    "selection_sorts(l1)"
   ]
  },
  {
   "cell_type": "code",
   "execution_count": 2,
   "id": "71f5e34b",
   "metadata": {},
   "outputs": [
    {
     "name": "stdout",
     "output_type": "stream",
     "text": [
      "Before sorting: [10, 3, 12, 5, 1]\n",
      "After sorting:  [1, 3, 5, 10, 12]\n"
     ]
    }
   ],
   "source": [
    "def selection_sort(arr: list[int]) -> list[int]:\n",
    "    \"\"\"\n",
    "    Selection Sort Algorithm.\n",
    "    Time Complexity: O(n^2)\n",
    "    Space Complexity: O(1) (in-place sort)\n",
    "    \"\"\"\n",
    "    n = len(arr)\n",
    "    for i in range(n):\n",
    "        min_idx = i\n",
    "        for j in range(i + 1, n):\n",
    "            if arr[j] < arr[min_idx]:\n",
    "                min_idx = j\n",
    "        arr[i], arr[min_idx] = arr[min_idx], arr[i]\n",
    "    return arr\n",
    "\n",
    "\n",
    "# Driver code\n",
    "l1 = [10, 3, 12, 5, 1]\n",
    "print(\"Before sorting:\", [10, 3, 12, 5, 1])\n",
    "print(\"After sorting: \", selection_sort(l1))\n"
   ]
  },
  {
   "cell_type": "code",
   "execution_count": null,
   "id": "b1e58667",
   "metadata": {},
   "outputs": [],
   "source": []
  }
 ],
 "metadata": {
  "kernelspec": {
   "display_name": "base",
   "language": "python",
   "name": "python3"
  },
  "language_info": {
   "codemirror_mode": {
    "name": "ipython",
    "version": 3
   },
   "file_extension": ".py",
   "mimetype": "text/x-python",
   "name": "python",
   "nbconvert_exporter": "python",
   "pygments_lexer": "ipython3",
   "version": "3.13.2"
  }
 },
 "nbformat": 4,
 "nbformat_minor": 5
}
