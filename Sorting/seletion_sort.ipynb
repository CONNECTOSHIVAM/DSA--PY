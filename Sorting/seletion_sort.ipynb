{
 "cells": [
  {
   "cell_type": "code",
   "execution_count": null,
   "id": "8f2b44a2",
   "metadata": {},
   "outputs": [
    {
     "name": "stdout",
     "output_type": "stream",
     "text": [
      "[1, 2, 3, 4, 5]\n"
     ]
    }
   ],
   "source": [
    "##Seletion Sort : It is a comparison based algorithm, selection sort works by the repeatedly finding the minium \n",
    "# the minimum elements from the unsorted part of the array. that elements placed in its correct position by \n",
    "# swapping with the first unsorted elements.\n",
    "\n",
    "#Time Complexity: O(n^2)  || Space Complexity: O(1)\n",
    "\n",
    "def selection_sort(arr):\n",
    "    for i in range(len(arr)):\n",
    "        min_idx = i\n",
    "        for j in range(i+1,len(arr)):\n",
    "            if arr[j]<arr[min_idx]:\n",
    "                min_idx = j\n",
    "        \n",
    "        arr[i],arr[min_idx]=arr[min_idx],arr[i]\n",
    "    return arr\n",
    "\n",
    "#Driver code:\n",
    "arr = [2,1,4,3,5]\n",
    "selection_sort(arr)\n",
    "print(arr)"
   ]
  },
  {
   "cell_type": "code",
   "execution_count": null,
   "id": "353cccc0",
   "metadata": {},
   "outputs": [],
   "source": []
  }
 ],
 "metadata": {
  "kernelspec": {
   "display_name": "base",
   "language": "python",
   "name": "python3"
  },
  "language_info": {
   "codemirror_mode": {
    "name": "ipython",
    "version": 3
   },
   "file_extension": ".py",
   "mimetype": "text/x-python",
   "name": "python",
   "nbconvert_exporter": "python",
   "pygments_lexer": "ipython3",
   "version": "3.13.2"
  }
 },
 "nbformat": 4,
 "nbformat_minor": 5
}
