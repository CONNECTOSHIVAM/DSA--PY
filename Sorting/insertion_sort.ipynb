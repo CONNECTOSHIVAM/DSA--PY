{
 "cells": [
  {
   "cell_type": "code",
   "execution_count": null,
   "id": "aa04fb2e",
   "metadata": {},
   "outputs": [
    {
     "name": "stdout",
     "output_type": "stream",
     "text": [
      "[1, 2, 3, 4, 5]\n"
     ]
    }
   ],
   "source": [
    "##Insertion Sort: It is comparison based sorting algorithm , Start the second elements and compare with \n",
    "# the elements before it shift all larger elements to right ,insert the current elemnets in the correct \n",
    "# position -- Repeat utill the entire list is sorted.\n",
    "\n",
    "def insertion_sort(arr):\n",
    "    for i in range(1,len(arr)):\n",
    "        key = arr[i]\n",
    "        j = i - 1\n",
    "\n",
    "        while(j>=0 and arr[j]>key):\n",
    "            arr[j+1]=arr[j]\n",
    "            j -= 1\n",
    "        arr[j+1]=key\n",
    "\n",
    "#Driver Code:\n",
    "arr = [2,1,4,3,5]\n",
    "insertion_sort(arr)\n",
    "print(arr)"
   ]
  },
  {
   "cell_type": "code",
   "execution_count": null,
   "id": "7477d958",
   "metadata": {},
   "outputs": [],
   "source": []
  }
 ],
 "metadata": {
  "kernelspec": {
   "display_name": "base",
   "language": "python",
   "name": "python3"
  },
  "language_info": {
   "codemirror_mode": {
    "name": "ipython",
    "version": 3
   },
   "file_extension": ".py",
   "mimetype": "text/x-python",
   "name": "python",
   "nbconvert_exporter": "python",
   "pygments_lexer": "ipython3",
   "version": "3.13.2"
  }
 },
 "nbformat": 4,
 "nbformat_minor": 5
}
