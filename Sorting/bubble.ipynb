{
 "cells": [
  {
   "cell_type": "code",
   "execution_count": 1,
   "metadata": {},
   "outputs": [],
   "source": [
    "##Buble sort."
   ]
  },
  {
   "cell_type": "code",
   "execution_count": 26,
   "metadata": {},
   "outputs": [],
   "source": [
    "def bubbleSort(arr):\n",
    "    for i in range(len(arr)-1,0,-1):\n",
    "        for j in range(i):\n",
    "            if(arr[j]>arr[j+1]):\n",
    "                arr[j],arr[j+1]=arr[j+1],arr[j]"
   ]
  },
  {
   "cell_type": "code",
   "execution_count": 27,
   "metadata": {},
   "outputs": [
    {
     "name": "stdout",
     "output_type": "stream",
     "text": [
      "[1, 2, 3, 4, 5]\n"
     ]
    }
   ],
   "source": [
    "arr = [2,1,3,5,4]\n",
    "bubbleSort(arr)\n",
    "print(arr)"
   ]
  },
  {
   "cell_type": "code",
   "execution_count": 28,
   "metadata": {},
   "outputs": [
    {
     "data": {
      "text/plain": [
       "[0, 1, 2, 3]"
      ]
     },
     "execution_count": 28,
     "metadata": {},
     "output_type": "execute_result"
    }
   ],
   "source": [
    "list(range(4))"
   ]
  },
  {
   "cell_type": "code",
   "execution_count": 34,
   "metadata": {},
   "outputs": [],
   "source": [
    "##bubble sort\n",
    "def bubbleSort1(arr):\n",
    "    for i in range(len(arr-1),0,-1):\n",
    "        sortedAr = True\n",
    "        for j in range(i):\n",
    "            sortedAr = False\n",
    "            if (arr[j]>arr[j+1]):\n",
    "                arr[j],arr[j+1]=arr[j+1],arr[j]\n",
    "        \n",
    "        if sortedAr==True:\n",
    "            print(\"Array is already sorted.\")"
   ]
  },
  {
   "cell_type": "code",
   "execution_count": 35,
   "metadata": {},
   "outputs": [
    {
     "name": "stdout",
     "output_type": "stream",
     "text": [
      "[1, 2, 3, 4, 5]\n"
     ]
    }
   ],
   "source": [
    "arr = [1,2,3,4,5]\n",
    "bubbleSort(arr)\n",
    "print(arr)"
   ]
  },
  {
   "cell_type": "code",
   "execution_count": 10,
   "metadata": {},
   "outputs": [],
   "source": [
    "def bubbleSort(arr):\n",
    "    for i in range(len(arr)-1,0,-1):\n",
    "        for j in range(i):\n",
    "            if(arr[j]>arr[j+1]):\n",
    "                arr[j],arr[j+1]=arr[j+1],arr[j]\n",
    "            \n",
    "    return arr\n"
   ]
  },
  {
   "cell_type": "code",
   "execution_count": 11,
   "metadata": {},
   "outputs": [
    {
     "data": {
      "text/plain": [
       "[1, 2, 3, 4, 5]"
      ]
     },
     "execution_count": 11,
     "metadata": {},
     "output_type": "execute_result"
    }
   ],
   "source": [
    "arr = [3,1,4,2,5]\n",
    "bubbleSort(arr)"
   ]
  },
  {
   "cell_type": "code",
   "execution_count": 21,
   "metadata": {},
   "outputs": [],
   "source": [
    "def bubbleSortOtimised(arr):\n",
    "    for i in range(len(arr)-1,0,-1):\n",
    "        isSorted = True\n",
    "        for j in range(i):\n",
    "            if(arr[j]>arr[j+1]):\n",
    "                isSorted=False\n",
    "                arr[j],arr[j+1]=arr[j+1],arr[j]\n",
    "\n",
    "        if isSorted:\n",
    "             print(\"Array is already sorted\")\n",
    "             break"
   ]
  },
  {
   "cell_type": "code",
   "execution_count": 22,
   "metadata": {},
   "outputs": [
    {
     "name": "stdout",
     "output_type": "stream",
     "text": [
      "Array is already sorted\n",
      "[1, 1, 2, 2, 3, 4, 8]\n"
     ]
    }
   ],
   "source": [
    "arr = [2,1,3,4,2,1,8]\n",
    "bubbleSortOtimised(arr)\n",
    "print(arr)"
   ]
  },
  {
   "cell_type": "code",
   "execution_count": 3,
   "metadata": {},
   "outputs": [
    {
     "name": "stdout",
     "output_type": "stream",
     "text": [
      "Array is already sorted\n",
      "[1, 2, 3, 4, 5]\n"
     ]
    }
   ],
   "source": [
    "##write a code  of bubble  sort.\n",
    "\n",
    "def bubbleSortS(arr):\n",
    "    for i in range(len(arr)-1,0,-1):\n",
    "        isSorted = True\n",
    "        for j in range(i):\n",
    "            if(arr[j]>arr[j+1]):\n",
    "                isSorted=False\n",
    "                arr[j],arr[j+1]=arr[j+1],arr[j]\n",
    "\n",
    "    if isSorted:\n",
    "        print(\"Array is already sorted\")\n",
    "arr=[1,2,3,4,5]\n",
    "bubbleSortS(arr)\n",
    "print(arr)\n",
    "\n",
    "\n"
   ]
  },
  {
   "cell_type": "code",
   "execution_count": 9,
   "metadata": {},
   "outputs": [
    {
     "name": "stdout",
     "output_type": "stream",
     "text": [
      "[1, 2, 3, 4, 5]\n"
     ]
    }
   ],
   "source": [
    "##Bubble sort:\n",
    "\n",
    "def bubble_sort(arr):\n",
    "    for i in range(len(arr)-1,0,-1):\n",
    "        sorted = True\n",
    "        for j in range(i):\n",
    "            if arr[j] > arr [j+1]:\n",
    "                sorted = False\n",
    "                arr[j],arr[j+1] = arr[j+1],arr[j]\n",
    "\n",
    "    if sorted:\n",
    "        print(\"Array is already sorted\")\n",
    "\n",
    "#Driver code:\n",
    "arr = [4,5,3,2,1]\n",
    "bubble_sort(arr)\n",
    "print(arr)"
   ]
  },
  {
   "cell_type": "code",
   "execution_count": null,
   "metadata": {},
   "outputs": [
    {
     "name": "stdout",
     "output_type": "stream",
     "text": [
      "Array is already sorted.\n",
      "[1, 2, 3, 4, 5]\n"
     ]
    }
   ],
   "source": [
    "##Bubble sort : Bubble sort is the comparision based sorting algorithm where we rapeatedly compare  \n",
    "# adjacent elements and swap them if they are in the worng order.\n",
    "\n",
    "# Time Complexity : in Best case : O(n)  || in Worst case : O(n^2)\n",
    "# Space Complexity : O(1)\n",
    "\n",
    "def bubble_sort(arr):\n",
    "    #Traverse the array from the end towards the start.\n",
    "    for i in range(len(arr)-1,0,-1):\n",
    "        isSorted = True # Flag to check if array is already sorted\n",
    "        #Traverse the array up to index i\n",
    "        for j in range(i):\n",
    "            #Compare the element with adjacent one\n",
    "            if arr[j] > arr[j+1]:\n",
    "                #swap the value if they are in wrong order.\n",
    "                arr[j],arr[j+1]=arr[j+1],arr[j]\n",
    "                isSorted = False #Found a swap ,so array was not sorted yet\n",
    "                \n",
    "        #if no swap occured that means array was already sorted.\n",
    "        if isSorted:\n",
    "               print(\"Array is already sorted.\")\n",
    "               break\n",
    "\n",
    "#Driver code\n",
    "arr = [1,2,3,4,5]\n",
    "bubble_sort(arr)\n",
    "print(arr)\n"
   ]
  },
  {
   "cell_type": "code",
   "execution_count": null,
   "metadata": {},
   "outputs": [],
   "source": []
  }
 ],
 "metadata": {
  "kernelspec": {
   "display_name": "base",
   "language": "python",
   "name": "python3"
  },
  "language_info": {
   "codemirror_mode": {
    "name": "ipython",
    "version": 3
   },
   "file_extension": ".py",
   "mimetype": "text/x-python",
   "name": "python",
   "nbconvert_exporter": "python",
   "pygments_lexer": "ipython3",
   "version": "3.13.2"
  }
 },
 "nbformat": 4,
 "nbformat_minor": 2
}
