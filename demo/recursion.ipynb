{
 "cells": [
  {
   "cell_type": "code",
   "execution_count": 1,
   "metadata": {},
   "outputs": [],
   "source": [
    "#find the recursion\n",
    "\n",
    "def fib_num(n):\n",
    "    if n <=1:\n",
    "        return n\n",
    "    else:\n",
    "        return fib_num(n-1)+fib_num(n-2)"
   ]
  },
  {
   "cell_type": "code",
   "execution_count": 2,
   "metadata": {},
   "outputs": [
    {
     "data": {
      "text/plain": [
       "0"
      ]
     },
     "execution_count": 2,
     "metadata": {},
     "output_type": "execute_result"
    }
   ],
   "source": [
    "fib_num(0)"
   ]
  },
  {
   "cell_type": "code",
   "execution_count": 3,
   "metadata": {},
   "outputs": [
    {
     "data": {
      "text/plain": [
       "-1"
      ]
     },
     "execution_count": 3,
     "metadata": {},
     "output_type": "execute_result"
    }
   ],
   "source": [
    " #Q1. Linear search form the array.\n",
    "\n",
    "def linear_S(arr,key):\n",
    "    for i in range(len(arr)):\n",
    "        if arr[i] == key:\n",
    "            return  i\n",
    "    return -1\n",
    "\n",
    "arr = [2,7,9,6,4,6,8,7]\n",
    "linear_S(arr,71)"
   ]
  },
  {
   "cell_type": "code",
   "execution_count": 4,
   "metadata": {},
   "outputs": [
    {
     "name": "stdout",
     "output_type": "stream",
     "text": [
      "0\n",
      "1\n",
      "2\n",
      "3\n",
      "4\n",
      "5\n",
      "6\n",
      "7\n",
      "8\n",
      "9\n"
     ]
    }
   ],
   "source": [
    "for i in range(10):\n",
    "    print(i)"
   ]
  },
  {
   "cell_type": "code",
   "execution_count": 5,
   "metadata": {},
   "outputs": [
    {
     "data": {
      "text/plain": [
       "8"
      ]
     },
     "execution_count": 5,
     "metadata": {},
     "output_type": "execute_result"
    }
   ],
   "source": [
    "len(arr)"
   ]
  },
  {
   "cell_type": "code",
   "execution_count": 6,
   "metadata": {},
   "outputs": [
    {
     "data": {
      "text/plain": [
       "6"
      ]
     },
     "execution_count": 6,
     "metadata": {},
     "output_type": "execute_result"
    }
   ],
   "source": [
    "30//5"
   ]
  },
  {
   "cell_type": "code",
   "execution_count": 7,
   "metadata": {},
   "outputs": [
    {
     "data": {
      "text/plain": [
       "6.0"
      ]
     },
     "execution_count": 7,
     "metadata": {},
     "output_type": "execute_result"
    }
   ],
   "source": [
    "30/5"
   ]
  },
  {
   "cell_type": "code",
   "execution_count": 8,
   "metadata": {},
   "outputs": [
    {
     "data": {
      "text/plain": [
       "120"
      ]
     },
     "execution_count": 8,
     "metadata": {},
     "output_type": "execute_result"
    }
   ],
   "source": [
    "##Q1. find the factorial using the reursion.\n",
    "\n",
    "def fact(n):\n",
    "    #Base case:\n",
    "    if n <= 1:\n",
    "        return n\n",
    "    #reursive case:\n",
    "    else:\n",
    "        return n*fact(n-1)\n",
    "    \n",
    "#Driver code \n",
    "fact(5)"
   ]
  },
  {
   "cell_type": "code",
   "execution_count": 9,
   "metadata": {},
   "outputs": [
    {
     "name": "stdout",
     "output_type": "stream",
     "text": [
      "5\n",
      "4\n",
      "2\n",
      "1\n"
     ]
    }
   ],
   "source": [
    "def funcA(n):\n",
    "    if n > 0:\n",
    "        print(n)\n",
    "        funcB(n - 1)\n",
    "\n",
    "def funcB(n):\n",
    "    if n > 0:\n",
    "        print(n)\n",
    "        funcA(n - 2)\n",
    "\n",
    "funcA(5)\n"
   ]
  },
  {
   "cell_type": "code",
   "execution_count": 10,
   "metadata": {},
   "outputs": [
    {
     "data": {
      "text/plain": [
       "34"
      ]
     },
     "execution_count": 10,
     "metadata": {},
     "output_type": "execute_result"
    }
   ],
   "source": [
    "#Q1. find the climbstairs (Constraints is Jump 1 or 2 step at a time.)\n",
    "\n",
    "def climbStairs(n):\n",
    "    if n <= 2:\n",
    "        return n\n",
    "    else:\n",
    "        return climbStairs(n-1)+climbStairs(n-2)\n",
    "    \n",
    "climbStairs(8)\n"
   ]
  },
  {
   "cell_type": "code",
   "execution_count": 11,
   "metadata": {},
   "outputs": [
    {
     "data": {
      "text/plain": [
       "34"
      ]
     },
     "execution_count": 11,
     "metadata": {},
     "output_type": "execute_result"
    }
   ],
   "source": [
    "##Slove the climbstairs problem through the iteration.(Without recursion)\n",
    "\n",
    "def c_stairs(n):\n",
    "    if n == 1:\n",
    "        return 1\n",
    "    first = 1\n",
    "    second = 2\n",
    "    for i in range(3,n+1):\n",
    "        third = first+second\n",
    "        first = second\n",
    "        second = third\n",
    "           \n",
    "    return second\n",
    "    \n",
    "c_stairs(8)"
   ]
  },
  {
   "cell_type": "markdown",
   "metadata": {},
   "source": [
    "##Understand recursion topic with more questions."
   ]
  },
  {
   "cell_type": "code",
   "execution_count": 15,
   "metadata": {},
   "outputs": [
    {
     "data": {
      "text/plain": [
       "10"
      ]
     },
     "execution_count": 15,
     "metadata": {},
     "output_type": "execute_result"
    }
   ],
   "source": [
    "##Q1. write a code of sum digits\n",
    "\n",
    "#method definations\n",
    "def sum_of_digits(n):\n",
    "    #base case:\n",
    "    if n <= 10:\n",
    "        return n\n",
    "    ##recursive case:\n",
    "    else:\n",
    "        return n%10+sum_of_digits(n//10)\n",
    "    \n",
    "sum_of_digits(1234)"
   ]
  },
  {
   "cell_type": "code",
   "execution_count": 14,
   "metadata": {},
   "outputs": [
    {
     "data": {
      "text/plain": [
       "32"
      ]
     },
     "execution_count": 14,
     "metadata": {},
     "output_type": "execute_result"
    }
   ],
   "source": [
    "#Q. Power of given number\n",
    "\n",
    "## funcions definations\n",
    "def powerOf(a,n):\n",
    "    ##base case\n",
    "    if n == 0:\n",
    "        return 1\n",
    "    ##recursive case\n",
    "    else:\n",
    "        return a*powerOf(a,n-1)\n",
    "    \n",
    "powerOf(2,5)"
   ]
  },
  {
   "cell_type": "code",
   "execution_count": 3,
   "metadata": {},
   "outputs": [
    {
     "name": "stdout",
     "output_type": "stream",
     "text": [
      "128\n"
     ]
    }
   ],
   "source": [
    "##Q. solve the Question of power of given number using the different approach (Divide and Conquer)\n",
    "\n",
    "#Method definations\n",
    "def powerOf(a,n):\n",
    "    ##Base case\n",
    "    if n == 0:\n",
    "        return 1\n",
    "    else:\n",
    "        mid = n // 2\n",
    "        result = powerOf(a,mid)\n",
    "        finalResult = result*result\n",
    "\n",
    "        ##checking whether the value or even or odd.\n",
    "        if n%2==0:\n",
    "            return finalResult\n",
    "        else:\n",
    "            return a*finalResult\n",
    "\n",
    "\n",
    "\n",
    "##Driver code \n",
    "a=2\n",
    "n=7\n",
    "result = powerOf(a,n)\n",
    "print(result)\n"
   ]
  },
  {
   "cell_type": "code",
   "execution_count": null,
   "metadata": {},
   "outputs": [],
   "source": []
  }
 ],
 "metadata": {
  "kernelspec": {
   "display_name": "usr",
   "language": "python",
   "name": "python3"
  },
  "language_info": {
   "codemirror_mode": {
    "name": "ipython",
    "version": 3
   },
   "file_extension": ".py",
   "mimetype": "text/x-python",
   "name": "python",
   "nbconvert_exporter": "python",
   "pygments_lexer": "ipython3",
   "version": "3.12.3"
  }
 },
 "nbformat": 4,
 "nbformat_minor": 2
}
