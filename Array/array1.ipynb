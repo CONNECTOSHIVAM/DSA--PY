{
 "cells": [
  {
   "cell_type": "code",
   "execution_count": 1,
   "metadata": {},
   "outputs": [],
   "source": [
    "#Radhe radhe"
   ]
  },
  {
   "cell_type": "code",
   "execution_count": 2,
   "metadata": {},
   "outputs": [
    {
     "name": "stdout",
     "output_type": "stream",
     "text": [
      "shivam\n"
     ]
    }
   ],
   "source": [
    "#write a code \n",
    "print(\"shivam\")"
   ]
  },
  {
   "cell_type": "markdown",
   "metadata": {},
   "source": []
  },
  {
   "cell_type": "code",
   "execution_count": 3,
   "metadata": {},
   "outputs": [
    {
     "name": "stdout",
     "output_type": "stream",
     "text": [
      "310\n"
     ]
    }
   ],
   "source": [
    "#Question 1: write a code summation of array.\n",
    "# Time complexity: O(n)\n",
    "# space complexity: O(1)\n",
    "\n",
    "#functions definations.\n",
    "def summation(arr):\n",
    "    n = len(arr);\n",
    "    sumVal = 0;\n",
    "    for i in range(n):\n",
    "        sumVal += arr[i];\n",
    "    return sumVal;\n",
    "\n",
    "#Driver code\n",
    "arr = [9,93,21,43,54,56,34];\n",
    "result = summation(arr);\n",
    "print(result)"
   ]
  },
  {
   "cell_type": "code",
   "execution_count": 4,
   "metadata": {},
   "outputs": [
    {
     "data": {
      "text/plain": [
       "range(0, 4)"
      ]
     },
     "execution_count": 4,
     "metadata": {},
     "output_type": "execute_result"
    }
   ],
   "source": [
    "range(4)"
   ]
  },
  {
   "cell_type": "code",
   "execution_count": 5,
   "metadata": {},
   "outputs": [
    {
     "name": "stdout",
     "output_type": "stream",
     "text": [
      "0\n",
      "1\n",
      "2\n",
      "3\n",
      "4\n",
      "5\n",
      "6\n"
     ]
    }
   ],
   "source": [
    "n=7;\n",
    "for i in range(n):\n",
    "    print(i) "
   ]
  },
  {
   "cell_type": "code",
   "execution_count": 10,
   "metadata": {},
   "outputs": [
    {
     "data": {
      "text/plain": [
       "range(0, 5)"
      ]
     },
     "execution_count": 10,
     "metadata": {},
     "output_type": "execute_result"
    }
   ],
   "source": [
    "arr = [2,3,5,76.5,5]\n",
    "range(len(arr))"
   ]
  },
  {
   "cell_type": "code",
   "execution_count": 14,
   "metadata": {},
   "outputs": [
    {
     "name": "stdout",
     "output_type": "stream",
     "text": [
      "-1\n"
     ]
    }
   ],
   "source": [
    "#Searching algorithm.\n",
    "\n",
    "#Time complexity: O(n)\n",
    "#space complexity: O(1)\n",
    "\n",
    "#function definations\n",
    "def linearSearch(arr,target):\n",
    "    for i in range(len(arr)):\n",
    "        if(arr[i]==target):\n",
    "            return i\n",
    "    #in case value are not avalable inside the array then return the -1\n",
    "    return -1     \n",
    "    \n",
    "\n",
    "\n",
    "\n",
    "#Driver code\n",
    "arr = [12,34,56,75,47,55,45,54];\n",
    "target = 7;\n",
    "result = linearSearch(arr,target);\n",
    "print(result)"
   ]
  },
  {
   "cell_type": "code",
   "execution_count": 15,
   "metadata": {},
   "outputs": [
    {
     "name": "stdout",
     "output_type": "stream",
     "text": [
      "([2, 18, 22], [5, 11, 13, 15])\n"
     ]
    }
   ],
   "source": [
    "#Question 3: Write a code for even and odd array contaning even num and odd num.\n",
    "\n",
    "# Time complexity: O(n)\n",
    "# Space complexity: O(n)\n",
    "\n",
    "evenArr = []\n",
    "oddArr  = []\n",
    "#function definations\n",
    "def evenAndOdd(arr):\n",
    "    for i in arr:\n",
    "        if(i%2==0):\n",
    "               evenArr.append(i);\n",
    "        else:\n",
    "               oddArr.append(i);\n",
    "    return evenArr,oddArr\n",
    "\n",
    "\n",
    "\n",
    "\n",
    "\n",
    "#Driver code \n",
    "arr = [2,5,11,13,15,18,22]\n",
    "result = evenAndOdd(arr)\n",
    "print(result)"
   ]
  },
  {
   "cell_type": "code",
   "execution_count": null,
   "metadata": {},
   "outputs": [],
   "source": []
  }
 ],
 "metadata": {
  "kernelspec": {
   "display_name": "usr",
   "language": "python",
   "name": "python3"
  },
  "language_info": {
   "codemirror_mode": {
    "name": "ipython",
    "version": 3
   },
   "file_extension": ".py",
   "mimetype": "text/x-python",
   "name": "python",
   "nbconvert_exporter": "python",
   "pygments_lexer": "ipython3",
   "version": "3.12.3"
  }
 },
 "nbformat": 4,
 "nbformat_minor": 2
}
