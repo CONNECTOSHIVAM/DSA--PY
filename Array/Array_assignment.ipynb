{
 "cells": [
  {
   "cell_type": "code",
   "execution_count": null,
   "metadata": {},
   "outputs": [
    {
     "name": "stdout",
     "output_type": "stream",
     "text": [
      "Array contain the duplicate value.\n",
      "False\n"
     ]
    }
   ],
   "source": [
    "## Q1.     1. Given an array, check if it contains any duplicates or not.\n",
    "## arr = [1, 2, 4, 2, 5, 9] || Output = True\n",
    "\n",
    "\n",
    "#Methood definations.\n",
    "def checkDuplicate(arr):\n",
    "    a = set(arr)\n",
    "    count = 0;\n",
    "    for i in range(len(arr)):\n",
    "        if arr == list(a):\n",
    "            print('Array contain the duplicate value.')\n",
    "            return False\n",
    "        else:\n",
    "            print(\"Array doesn't contain the duplicate value.\")\n",
    "            return True\n",
    "        \n",
    "\n",
    "#driver code \n",
    "arr = [1,2,4,5,9]\n",
    "result = checkDuplicate(arr)\n",
    "print(result)\n"
   ]
  },
  {
   "cell_type": "code",
   "execution_count": null,
   "metadata": {},
   "outputs": [
    {
     "name": "stdout",
     "output_type": "stream",
     "text": [
      "(2, True)\n"
     ]
    }
   ],
   "source": [
    "##Methood-2\n",
    "\n",
    "#methoods definations.\n",
    "def has_duplicates(arr):\n",
    "    seen = set()\n",
    "    for i in arr:\n",
    "        if i in seen:\n",
    "            return True\n",
    "        seen.add(i)\n",
    "    return False\n",
    "\n",
    "\n",
    "#Driver code:\n",
    "arr = [1,2,4,2,5,9]\n",
    "print(has_duplicates(arr))"
   ]
  },
  {
   "cell_type": "code",
   "execution_count": 18,
   "metadata": {},
   "outputs": [
    {
     "name": "stdout",
     "output_type": "stream",
     "text": [
      "True\n"
     ]
    }
   ],
   "source": [
    "#Mwthoosd 3:\n",
    "\n",
    "#Functions Definations.\n",
    "def has_duplicates(arr):\n",
    "    return len(arr) != len(set(arr))\n",
    "\n",
    "#driver code:\n",
    "arr = [1,2,4,2,5,9]\n",
    "result = has_duplicates(arr)\n",
    "print(result)"
   ]
  },
  {
   "cell_type": "code",
   "execution_count": null,
   "metadata": {},
   "outputs": [
    {
     "name": "stdout",
     "output_type": "stream",
     "text": [
      "[5, 6, 7, 1, 2, 3, 4]\n"
     ]
    },
    {
     "data": {
      "text/plain": [
       "7"
      ]
     },
     "execution_count": 25,
     "metadata": {},
     "output_type": "execute_result"
    }
   ],
   "source": [
    "##2. Given an array and an integer k, rotate the array to the right by k steps.\n",
    "## arr = [1, 2, 3, 4, 5, 6, 7]\n",
    "## k = 3\n",
    "#  Output = [5, 6, 7, 1, 2, 3, 4]\n",
    "\n",
    "## TIME COMPLEXITY: 0(n)   || SPACE COMPLEXITY: 0(n)\n",
    "\n",
    "#functions definations.\n",
    "def rotate_array(arr,k):\n",
    "    k = k % len(arr)\n",
    "    return arr[-k:] + arr[:-k] \n",
    "\n",
    "\n",
    "#Driver code:\n",
    "arr = [1,2,3,4,5,6,7]\n",
    "k=3\n",
    "print(rotate_array(arr,k))\n",
    "len(arr)\n"
   ]
  },
  {
   "cell_type": "code",
   "execution_count": null,
   "metadata": {},
   "outputs": [
    {
     "name": "stdout",
     "output_type": "stream",
     "text": [
      "[12, 9, 7, 5, 4, 2]\n"
     ]
    }
   ],
   "source": [
    "##  Q3. Reverse the given array in-place, means without using any extra data structure.\n",
    "#   arr = [2, 4, 5, 7, 9, 12]\n",
    "#   Output = [12, 9, 7, 5, 4, 2]\n",
    "\n",
    "## TIME COMPLEXITY: 0(n)    || SPACE COMPLEXITY: 0(1)\n",
    "\n",
    "#functions definations\n",
    "def reverse_array(arr):\n",
    "    strat = 0\n",
    "    end = len(arr)-1\n",
    "\n",
    "    while(strat<end):\n",
    "        arr[strat],arr[end] = arr[end],arr[strat]\n",
    "        strat += 1\n",
    "        end -= 1\n",
    "    \n",
    "\n",
    "    return arr\n",
    "\n",
    "\n",
    "\n",
    "#Driver code \n",
    "arr = [2,4,5,7,9,12]\n",
    "print(reverse_array(arr))"
   ]
  },
  {
   "cell_type": "code",
   "execution_count": null,
   "metadata": {},
   "outputs": [
    {
     "name": "stdout",
     "output_type": "stream",
     "text": [
      "20\n"
     ]
    }
   ],
   "source": [
    "## 4. Given an array of integers, find the maximum element in an array\n",
    "# arr = [10, 5, 20, 8, 15]\n",
    "# Output = 20\n",
    "\n",
    "## TIME COMPLEXITY: 0(n)   || SPACE COMPLEXITY: 0(1)\n",
    "\n",
    "#FUNCTIONS DEFINATIONS\n",
    "def maxval_array(arr):\n",
    "    max = arr[0]\n",
    "    for i in arr:\n",
    "        if i >max:\n",
    "            max = i\n",
    "    return max\n",
    "\n",
    "\n",
    "#Driver code:\n",
    "arr = [10,5,20,8,15]\n",
    "print(maxval_array(arr))"
   ]
  },
  {
   "cell_type": "code",
   "execution_count": 43,
   "metadata": {},
   "outputs": [
    {
     "name": "stdout",
     "output_type": "stream",
     "text": [
      "[1, 2, 3, 4, 5]\n"
     ]
    }
   ],
   "source": [
    "##     5. Given a sorted array, remove the duplicate element.\n",
    "#      arr = [1, 1, 2, 2, 2, 3, 3, 4, 4, 4, 5, 5]\n",
    "#      Output = [1, 2, 3, 4, 5]\n",
    "\n",
    "# TIME COMPLEXITY: 0(n)  || SPACE COMPLEXITY: 0(1)\n",
    "\n",
    "#functions definations\n",
    "def remove_duplicate(arr):\n",
    "    a = set(arr)\n",
    "    return list(a)\n",
    "\n",
    "\n",
    "#Driver code:\n",
    "arr = [1, 1, 2, 2, 2, 3, 3, 4, 4, 4, 5, 5]\n",
    "print(remove_duplicate(arr))"
   ]
  },
  {
   "cell_type": "code",
   "execution_count": 42,
   "metadata": {},
   "outputs": [
    {
     "name": "stdout",
     "output_type": "stream",
     "text": [
      "[1, 2, 3, 4, 5]\n"
     ]
    }
   ],
   "source": [
    "#     5. Given a sorted array, remove the duplicate element without using any extra data structure.\n",
    "# arr = [1, 1, 2, 2, 2, 3, 3, 4, 4, 4, 5, 5]\n",
    "# Output = [1, 2, 3, 4, 5]\n",
    "\n",
    "# TIME COMPLEXITY: 0(n)  || SPACE COMPLEXITY: 0(1)\n",
    "\n",
    "def remove_duplicate(arr):\n",
    "    if not arr:\n",
    "        return 0\n",
    "    \n",
    "    i =0\n",
    "    for j in range(1,len(arr)):\n",
    "        if arr[j] != arr[i]:\n",
    "            i += 1\n",
    "            arr[i] = arr[j]\n",
    "\n",
    "    return arr[:i+1]\n",
    "\n",
    "\n",
    "arr = [1,1,2,2,2,3,3,4,4,4,5,5]\n",
    "print(remove_duplicate(arr))"
   ]
  },
  {
   "cell_type": "code",
   "execution_count": null,
   "metadata": {},
   "outputs": [],
   "source": [
    "#functions definations\n",
    "def remove_duplicate(arr):\n",
    "    a = set(arr)\n",
    "    return list(a)\n",
    "\n",
    "\n",
    "#Driver code:\n",
    "arr = [1, 1, 2, 2, 2, 3, 3, 4, 4, 4, 5, 5]\n",
    "print(remove_duplicate(arr))"
   ]
  }
 ],
 "metadata": {
  "kernelspec": {
   "display_name": "usr",
   "language": "python",
   "name": "python3"
  },
  "language_info": {
   "codemirror_mode": {
    "name": "ipython",
    "version": 3
   },
   "file_extension": ".py",
   "mimetype": "text/x-python",
   "name": "python",
   "nbconvert_exporter": "python",
   "pygments_lexer": "ipython3",
   "version": "3.12.3"
  }
 },
 "nbformat": 4,
 "nbformat_minor": 2
}
