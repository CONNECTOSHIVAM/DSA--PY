{
 "cells": [
  {
   "cell_type": "code",
   "execution_count": 3,
   "id": "f75033e1",
   "metadata": {},
   "outputs": [
    {
     "name": "stdout",
     "output_type": "stream",
     "text": [
      "[1, 2, 3, 4, 5, 6, 7, 8, 9, 10, 11, 12, 13, 14, 15, 16, 17, 18, 19, 20]\n"
     ]
    }
   ],
   "source": [
    "# Q1.Create a list of the first 20 positive integers. Print the list.\n",
    "\n",
    "l1 = list(range(1,21))\n",
    "print(l1)"
   ]
  },
  {
   "cell_type": "code",
   "execution_count": 4,
   "id": "158ac7cb",
   "metadata": {},
   "outputs": [
    {
     "name": "stdout",
     "output_type": "stream",
     "text": [
      "1\n",
      "11\n",
      "20\n"
     ]
    }
   ],
   "source": [
    "# Q2.Print the first, middle, and last elements of the list created in Question 1.\n",
    "\n",
    "print(l1[0])\n",
    "print(l1[len(l1)//2])\n",
    "print(l1[-1])"
   ]
  },
  {
   "cell_type": "code",
   "execution_count": 11,
   "id": "f1681c9d",
   "metadata": {},
   "outputs": [
    {
     "name": "stdout",
     "output_type": "stream",
     "text": [
      "[1, 2, 3, 4, 5]\n",
      "[16, 17, 18, 19, 20]\n",
      "[6, 7, 8, 9, 10, 11, 12, 13, 14, 15]\n"
     ]
    }
   ],
   "source": [
    "# Q3.Print the first five elements, the last five elements, and the elements from \n",
    "# index 5 to 15 of the list created in Question 1.\n",
    "\n",
    "print(l1[:5])\n",
    "print(l1[-5:])\n",
    "print(l1[5:15])"
   ]
  },
  {
   "cell_type": "code",
   "execution_count": 12,
   "id": "0246f009",
   "metadata": {},
   "outputs": [
    {
     "name": "stdout",
     "output_type": "stream",
     "text": [
      "[1, 4, 9, 16, 25, 36, 49, 64, 81]\n"
     ]
    }
   ],
   "source": [
    "# Q4.Create a new list containing the squares of the first 10 positive integers using a list \n",
    "# comprehension. Print the new list.\n",
    "\n",
    "l_square = [ i**2 for i in range(1,10)]\n",
    "print(l_square)"
   ]
  },
  {
   "cell_type": "code",
   "execution_count": 14,
   "id": "ef351215",
   "metadata": {},
   "outputs": [
    {
     "name": "stdout",
     "output_type": "stream",
     "text": [
      "[2, 4, 6, 8, 10, 12, 14, 16, 18, 20]\n"
     ]
    }
   ],
   "source": [
    "# Q5.Create a new list containing only the even numbers from the list created in  Question 1\n",
    "# using a list comprehension. Print the new list.\n",
    "\n",
    "even_num_list = [ i for i in l1 if i%2 == 0]\n",
    "print(even_num_list)"
   ]
  },
  {
   "cell_type": "code",
   "execution_count": 21,
   "id": "1a63be2e",
   "metadata": {},
   "outputs": [
    {
     "name": "stdout",
     "output_type": "stream",
     "text": [
      "Original List: [17, 7, 9, 17, 5, 9, 11, 13, 11, 9]\n",
      "Sorted in ascending order: [5, 7, 9, 9, 9, 11, 11, 13, 17, 17]\n",
      "Sorted in desending order: [17, 17, 13, 11, 11, 9, 9, 9, 7, 5] \n",
      "Unique list after remove the duplicate: [5, 7, 9, 11, 13, 17]\n"
     ]
    }
   ],
   "source": [
    "# Q6.Create a list of random numbers and sort it in ascending and descending order.\n",
    "# Remove the duplicates from the list and print the modified list.\n",
    "\n",
    "import random\n",
    "\n",
    "random_list = [ random.randint(1,21) for i in range(10)]\n",
    "print(f\"Original List: {random_list}\")\n",
    "\n",
    "ascending_list = sorted(random_list)\n",
    "print(f\"Sorted in ascending order: {ascending_list}\")\n",
    "\n",
    "descending_list = sorted(random_list,reverse=True)\n",
    "print(f\"Sorted in desending order: {descending_list} \")\n",
    "\n",
    "unique_list = list(set(random_list))\n",
    "print(f\"Unique list after remove the duplicate: {unique_list}\")\n",
    "    "
   ]
  },
  {
   "cell_type": "code",
   "execution_count": 23,
   "id": "f4db63b7",
   "metadata": {},
   "outputs": [
    {
     "name": "stdout",
     "output_type": "stream",
     "text": [
      "[1, 2, 3]\n",
      "[4, 5, 6]\n",
      "[7, 8, 9]\n",
      "6\n"
     ]
    }
   ],
   "source": [
    "# Q7.Create a nested list representing a 3x3 matrix and print the matrix.\n",
    "# Access and print the element at the second row and third column.\n",
    "\n",
    "l1 = [\n",
    "    [1,2,3],\n",
    "    [4,5,6],\n",
    "    [7,8,9]  \n",
    "     ]\n",
    "for i in l1:\n",
    "    print(i)\n",
    "print(l1[1][2])"
   ]
  },
  {
   "cell_type": "code",
   "execution_count": 38,
   "id": "134e20a8",
   "metadata": {},
   "outputs": [
    {
     "name": "stdout",
     "output_type": "stream",
     "text": [
      "[{'name': 'riya', 'score': 87}, {'name': 'sanskriti', 'score': 77}, {'name': 'shivam', 'score': 68}]\n",
      "{'name': 'riya', 'score': 87}\n",
      "{'name': 'sanskriti', 'score': 77}\n",
      "{'name': 'shivam', 'score': 68}\n"
     ]
    }
   ],
   "source": [
    "# Q8.Create a list of dictionaries where each dictionary represents a student with keys\n",
    "# 'name' and 'score'. Sort the list of dictionaries by the 'score' in descending order \n",
    "# and print the sorted list.\n",
    "\n",
    "dict_list = [{'name': 'shivam','score': 68},\n",
    "             {'name': 'riya','score': 87},\n",
    "             {'name':'sanskriti','score':77}]\n",
    "\n",
    "decending_order = sorted(dict_list, key = lambda x:x['score'],reverse=True)\n",
    "print(decending_order)\n",
    "\n",
    "for i in decending_order:\n",
    "    print(i)\n"
   ]
  },
  {
   "cell_type": "code",
   "execution_count": 9,
   "id": "fe751f6e",
   "metadata": {},
   "outputs": [
    {
     "name": "stdout",
     "output_type": "stream",
     "text": [
      "Original List: \n",
      "[1, 2, 3]\n",
      "[4, 5, 6]\n",
      "[7, 8, 9]\n",
      "Tranpose List: \n",
      "[1, 4, 7]\n",
      "[2, 5, 8]\n",
      "[3, 6, 9]\n"
     ]
    }
   ],
   "source": [
    "# Q9.Write a function that takes a 3x3 matrix (nested list) as input and returns its \n",
    "# transpose. Print the original and transposed  matrices.\n",
    "\n",
    "def matrix_transpose(l1):\n",
    "    transpose = [[l1[j][i] for j in range(len(l1))]for i in range(len(l1[0]))]\n",
    "    return transpose\n",
    "    \n",
    "\n",
    "l1 = [[1,2,3],[4,5,6],[7,8,9]]\n",
    "print(\"Original List: \")\n",
    "for i in l1:\n",
    "    print(i)\n",
    "    \n",
    "result = matrix_transpose(l1)\n",
    "print(\"Tranpose List: \")\n",
    "for i in result:\n",
    "    print(i)\n",
    "    "
   ]
  },
  {
   "cell_type": "code",
   "execution_count": null,
   "id": "f83b499d",
   "metadata": {},
   "outputs": [
    {
     "name": "stdout",
     "output_type": "stream",
     "text": [
      "[[1, 4, 7], [2, 5, 8], [3, 6, 9]]\n"
     ]
    }
   ],
   "source": [
    "# Logic Behind list comprehension.\n",
    "my_list = [[1,2,3],\n",
    "           [4,5,6],\n",
    "           [7,8,9]]\n",
    "\n",
    "transpose = []\n",
    "for i in range(len(my_list[0])):\n",
    "    my_row = []\n",
    "    for j in range(len(my_list)):\n",
    "        my_row.append(my_list[j][i])\n",
    "    transpose.append(my_row)\n",
    "    \n",
    "print(transpose)\n",
    "        \n"
   ]
  },
  {
   "cell_type": "code",
   "execution_count": 17,
   "id": "4dd5ca03",
   "metadata": {},
   "outputs": [
    {
     "name": "stdout",
     "output_type": "stream",
     "text": [
      "Original List: [[1, 2, 3], [4, 5, 6], [7, 8, 9]]\n",
      "Flatted List: [1, 2, 3, 4, 5, 6, 7, 8, 9]\n"
     ]
    }
   ],
   "source": [
    "# Q10.Write a function that takes a nested list and flattens it into a single list. \n",
    "# Print the original and flattened lists.\n",
    "\n",
    "# new_list = []\n",
    "# my_list = [[1,2,3],[4,5,6],[7,8,9]]\n",
    "# for sub_list in my_list:\n",
    "#     for j in sub_list:\n",
    "#         new_list.append(j)\n",
    "        \n",
    "# print(new_list)\n",
    "\n",
    "def make_flatted_list(l1):\n",
    "    new_list = [ item for sub_list in l1 for item in sub_list]\n",
    "    return new_list\n",
    "\n",
    "\n",
    "my_list = [[1,2,3],[4,5,6],[7,8,9]]\n",
    "print(f\"Original List: {my_list}\")\n",
    "\n",
    "result = make_flatted_list(my_list)\n",
    "print(f\"Flatted List: {result}\")\n"
   ]
  },
  {
   "cell_type": "code",
   "execution_count": 23,
   "id": "fb80979f",
   "metadata": {},
   "outputs": [
    {
     "name": "stdout",
     "output_type": "stream",
     "text": [
      "Original List: [1, 2, 3, 4, 5, 6, 7, 8, 9, 10]\n",
      "Updated List: [1, 2, 4, 5, 7, 99, 8, 10]\n"
     ]
    }
   ],
   "source": [
    "# Q11. Create a list of the first 10 positive integers. Remove the elements at indices 2, 4, and 6, and\n",
    "# insert the element '99' at index 5. Print the modified list.\n",
    "\n",
    "my_list = [ i for i in range(1,11)]\n",
    "print(f\"Original List: {my_list}\")\n",
    "\n",
    "del my_list[2]\n",
    "del my_list[4]\n",
    "del my_list[6]\n",
    "\n",
    "my_list.insert(5,99)\n",
    "print(f\"Updated List: {my_list}\")\n",
    "\n",
    "\n",
    "\n",
    "\n"
   ]
  },
  {
   "cell_type": "code",
   "execution_count": 38,
   "id": "45d91704",
   "metadata": {},
   "outputs": [
    {
     "name": "stdout",
     "output_type": "stream",
     "text": [
      "[(1, 's'), (2, 'h'), (3, 'i'), (4, 'v'), (5, 'a'), (6, 'm')]\n"
     ]
    }
   ],
   "source": [
    "# Q12.Create two lists of the same length. Use the `zip` function to combine these lists into a list of tuples\n",
    "# and print the result.\n",
    "\n",
    "list_one = [1,2,3,4,5,6]\n",
    "list_two = ['s','h','i','v','a','m']\n",
    "\n",
    "one = list(zip(list_one,list_two))\n",
    "print(one)\n"
   ]
  },
  {
   "cell_type": "code",
   "execution_count": 40,
   "id": "ac5b28f5",
   "metadata": {},
   "outputs": [
    {
     "name": "stdout",
     "output_type": "stream",
     "text": [
      "Original List: [1, 2, 3, 4, 5, 6, 7]\n",
      "reversed List: [7, 6, 5, 4, 3, 2, 1]\n"
     ]
    }
   ],
   "source": [
    "# Q13.Write a function that takes a list and returns a new list with the elements in reverse\n",
    "# order. Print the original and reversed lists.\n",
    "\n",
    "def reverse_the_list(l1):\n",
    "    return l1[::-1]\n",
    "\n",
    "my_list = [1,2,3,4,5,6,7]\n",
    "print(f\"Original List: {my_list}\")\n",
    "new_list = reverse_the_list(my_list)\n",
    "print(f\"reversed List: {new_list}\")"
   ]
  },
  {
   "cell_type": "code",
   "execution_count": 52,
   "id": "fb74c620",
   "metadata": {},
   "outputs": [
    {
     "name": "stdout",
     "output_type": "stream",
     "text": [
      "Original List: [2, 3, 7, 8, 9, 4]\n",
      "Rotated List [7, 8, 9, 4, 2, 3]\n"
     ]
    }
   ],
   "source": [
    "# Q14.Write a function that rotates a list by n positions. Print the original and rotated\n",
    "# lists.\n",
    "def rotate_list(l1,n):\n",
    "    return l1[n:]+l1[:n]\n",
    "\n",
    "age_list = [2,3,7,8,9,4]\n",
    "print(f\"Original List: {age_list}\")\n",
    "n_position = 2\n",
    "result = rotate_list(age_list,n_position)\n",
    "print(f\"Rotated List {result}\")"
   ]
  },
  {
   "cell_type": "code",
   "execution_count": 60,
   "id": "afb29867",
   "metadata": {},
   "outputs": [
    {
     "name": "stdout",
     "output_type": "stream",
     "text": [
      "List One: [1, 2, 4, 3, 7, 8]\n",
      "List two: [4, 3, 7, 8, 9, 0]\n",
      "Common data in both List[Intersection]: [4, 3, 7, 8]\n"
     ]
    }
   ],
   "source": [
    "# Q15.Write a function that takes two lists and returns a new list containing only the\n",
    "# elements that are present in both lists. Print the intersected list.\n",
    "\n",
    "def special_list(list_one,list_two):\n",
    "    common_data_list = [i for i in list_one if i in list_two] \n",
    "    return common_data_list\n",
    "\n",
    "\n",
    "list_one = [1,2,4,3,7,8]\n",
    "list_two = [4,3,7,8,9,0]\n",
    "\n",
    "print(f\"List One: {list_one}\")\n",
    "print(f\"List two: {list_two}\")\n",
    "\n",
    "\n",
    "result = special_list(list_one,list_two)\n",
    "print(f\"Common data in both List[Intersection]: {result}\")\n",
    "\n"
   ]
  },
  {
   "cell_type": "markdown",
   "id": "ba968e31",
   "metadata": {},
   "source": [
    "# Dry run -- for mind mapping"
   ]
  },
  {
   "cell_type": "code",
   "execution_count": 34,
   "id": "2b134871",
   "metadata": {},
   "outputs": [
    {
     "name": "stdout",
     "output_type": "stream",
     "text": [
      "[(1, 'a'), (2, 'b'), (3, 'c'), (4, 'd'), (5, 'e')]\n"
     ]
    }
   ],
   "source": [
    "list1 = [1, 2, 3, 4, 5]\n",
    "list2 = ['a', 'b', 'c', 'd', 'e']\n",
    "zipped = list(zip(list1, list2))\n",
    "print(zipped)"
   ]
  },
  {
   "cell_type": "code",
   "execution_count": null,
   "id": "77cc4103",
   "metadata": {},
   "outputs": [
    {
     "name": "stdout",
     "output_type": "stream",
     "text": [
      "[1, 2, 3, 4, 6, 7, 8, 9]\n",
      "[1, 2, 4, 6, 7, 8, 9]\n"
     ]
    }
   ],
   "source": [
    "one_list = [1,2,3,4,5,6,7,8,9]\n",
    "\n",
    "one_list.remove(5)\n",
    "print(one_list)\n",
    "one_list.pop(2)\n",
    "print(one_list)\n",
    "one"
   ]
  },
  {
   "cell_type": "code",
   "execution_count": null,
   "id": "a0dfc492",
   "metadata": {},
   "outputs": [
    {
     "data": {
      "text/plain": [
       "[]"
      ]
     },
     "execution_count": 32,
     "metadata": {},
     "output_type": "execute_result"
    }
   ],
   "source": [
    "one_list = [1,2,3,4,5,6,7,8,9]\n",
    "one_list.clear()\n",
    "one_list"
   ]
  },
  {
   "cell_type": "code",
   "execution_count": 41,
   "id": "dcfbaff1",
   "metadata": {},
   "outputs": [
    {
     "name": "stdout",
     "output_type": "stream",
     "text": [
      "Rotated list: [3, 4, 5, 1, 2]\n"
     ]
    }
   ],
   "source": [
    "def rotate_list(lst, n):\n",
    "    return lst[n:] + lst[:n]\n",
    "\n",
    "original_list = [1, 2, 3, 4, 5]\n",
    "rotated_list = rotate_list(original_list, 2)\n",
    "# print(f\"Original list: {original_list}\")\n",
    "print(f\"Rotated list: {rotated_list}\")"
   ]
  },
  {
   "cell_type": "code",
   "execution_count": 51,
   "id": "43d67bb3",
   "metadata": {},
   "outputs": [
    {
     "name": "stdout",
     "output_type": "stream",
     "text": [
      "[3, 4, 5]\n",
      "[1, 2]\n"
     ]
    }
   ],
   "source": [
    "original_list = [1, 2, 3, 4, 5]\n",
    "print(original_list[2:])\n",
    "print(original_list[:2])"
   ]
  },
  {
   "cell_type": "markdown",
   "id": "8813d537",
   "metadata": {},
   "source": [
    "Be Positive and Be Happy :)"
   ]
  }
 ],
 "metadata": {
  "kernelspec": {
   "display_name": "Python 3",
   "language": "python",
   "name": "python3"
  },
  "language_info": {
   "codemirror_mode": {
    "name": "ipython",
    "version": 3
   },
   "file_extension": ".py",
   "mimetype": "text/x-python",
   "name": "python",
   "nbconvert_exporter": "python",
   "pygments_lexer": "ipython3",
   "version": "3.14.0"
  }
 },
 "nbformat": 4,
 "nbformat_minor": 5
}
