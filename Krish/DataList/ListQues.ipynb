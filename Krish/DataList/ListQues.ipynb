{
 "cells": [
  {
   "cell_type": "code",
   "execution_count": 3,
   "id": "f75033e1",
   "metadata": {},
   "outputs": [
    {
     "name": "stdout",
     "output_type": "stream",
     "text": [
      "[1, 2, 3, 4, 5, 6, 7, 8, 9, 10, 11, 12, 13, 14, 15, 16, 17, 18, 19, 20]\n"
     ]
    }
   ],
   "source": [
    "# Q1.Create a list of the first 20 positive integers. Print the list.\n",
    "\n",
    "l1 = list(range(1,21))\n",
    "print(l1)"
   ]
  },
  {
   "cell_type": "code",
   "execution_count": 4,
   "id": "158ac7cb",
   "metadata": {},
   "outputs": [
    {
     "name": "stdout",
     "output_type": "stream",
     "text": [
      "1\n",
      "11\n",
      "20\n"
     ]
    }
   ],
   "source": [
    "# Q2.Print the first, middle, and last elements of the list created in Question 1.\n",
    "\n",
    "print(l1[0])\n",
    "print(l1[len(l1)//2])\n",
    "print(l1[-1])"
   ]
  },
  {
   "cell_type": "code",
   "execution_count": 11,
   "id": "f1681c9d",
   "metadata": {},
   "outputs": [
    {
     "name": "stdout",
     "output_type": "stream",
     "text": [
      "[1, 2, 3, 4, 5]\n",
      "[16, 17, 18, 19, 20]\n",
      "[6, 7, 8, 9, 10, 11, 12, 13, 14, 15]\n"
     ]
    }
   ],
   "source": [
    "# Q3.Print the first five elements, the last five elements, and the elements from \n",
    "# index 5 to 15 of the list created in Question 1.\n",
    "\n",
    "print(l1[:5])\n",
    "print(l1[-5:])\n",
    "print(l1[5:15])"
   ]
  },
  {
   "cell_type": "code",
   "execution_count": 12,
   "id": "0246f009",
   "metadata": {},
   "outputs": [
    {
     "name": "stdout",
     "output_type": "stream",
     "text": [
      "[1, 4, 9, 16, 25, 36, 49, 64, 81]\n"
     ]
    }
   ],
   "source": [
    "# Q4.Create a new list containing the squares of the first 10 positive integers using a list \n",
    "# comprehension. Print the new list.\n",
    "\n",
    "l_square = [ i**2 for i in range(1,10)]\n",
    "print(l_square)"
   ]
  },
  {
   "cell_type": "code",
   "execution_count": 14,
   "id": "ef351215",
   "metadata": {},
   "outputs": [
    {
     "name": "stdout",
     "output_type": "stream",
     "text": [
      "[2, 4, 6, 8, 10, 12, 14, 16, 18, 20]\n"
     ]
    }
   ],
   "source": [
    "# Q5.Create a new list containing only the even numbers from the list created in  Question 1\n",
    "# using a list comprehension. Print the new list.\n",
    "\n",
    "even_num_list = [ i for i in l1 if i%2 == 0]\n",
    "print(even_num_list)"
   ]
  },
  {
   "cell_type": "code",
   "execution_count": 21,
   "id": "1a63be2e",
   "metadata": {},
   "outputs": [
    {
     "name": "stdout",
     "output_type": "stream",
     "text": [
      "Original List: [17, 7, 9, 17, 5, 9, 11, 13, 11, 9]\n",
      "Sorted in ascending order: [5, 7, 9, 9, 9, 11, 11, 13, 17, 17]\n",
      "Sorted in desending order: [17, 17, 13, 11, 11, 9, 9, 9, 7, 5] \n",
      "Unique list after remove the duplicate: [5, 7, 9, 11, 13, 17]\n"
     ]
    }
   ],
   "source": [
    "# Q6.Create a list of random numbers and sort it in ascending and descending order.\n",
    "# Remove the duplicates from the list and print the modified list.\n",
    "\n",
    "import random\n",
    "\n",
    "random_list = [ random.randint(1,21) for i in range(10)]\n",
    "print(f\"Original List: {random_list}\")\n",
    "\n",
    "ascending_list = sorted(random_list)\n",
    "print(f\"Sorted in ascending order: {ascending_list}\")\n",
    "\n",
    "descending_list = sorted(random_list,reverse=True)\n",
    "print(f\"Sorted in desending order: {descending_list} \")\n",
    "\n",
    "unique_list = list(set(random_list))\n",
    "print(f\"Unique list after remove the duplicate: {unique_list}\")\n",
    "    "
   ]
  },
  {
   "cell_type": "code",
   "execution_count": 23,
   "id": "f4db63b7",
   "metadata": {},
   "outputs": [
    {
     "name": "stdout",
     "output_type": "stream",
     "text": [
      "[1, 2, 3]\n",
      "[4, 5, 6]\n",
      "[7, 8, 9]\n",
      "6\n"
     ]
    }
   ],
   "source": [
    "# Q7.Create a nested list representing a 3x3 matrix and print the matrix.\n",
    "# Access and print the element at the second row and third column.\n",
    "\n",
    "l1 = [\n",
    "    [1,2,3],\n",
    "    [4,5,6],\n",
    "    [7,8,9]  \n",
    "     ]\n",
    "for i in l1:\n",
    "    print(i)\n",
    "print(l1[1][2])"
   ]
  },
  {
   "cell_type": "code",
   "execution_count": 38,
   "id": "134e20a8",
   "metadata": {},
   "outputs": [
    {
     "name": "stdout",
     "output_type": "stream",
     "text": [
      "[{'name': 'riya', 'score': 87}, {'name': 'sanskriti', 'score': 77}, {'name': 'shivam', 'score': 68}]\n",
      "{'name': 'riya', 'score': 87}\n",
      "{'name': 'sanskriti', 'score': 77}\n",
      "{'name': 'shivam', 'score': 68}\n"
     ]
    }
   ],
   "source": [
    "# Q8.Create a list of dictionaries where each dictionary represents a student with keys\n",
    "# 'name' and 'score'. Sort the list of dictionaries by the 'score' in descending order \n",
    "# and print the sorted list.\n",
    "\n",
    "dict_list = [{'name': 'shivam','score': 68},\n",
    "             {'name': 'riya','score': 87},\n",
    "             {'name':'sanskriti','score':77}]\n",
    "\n",
    "decending_order = sorted(dict_list, key = lambda x:x['score'],reverse=True)\n",
    "print(decending_order)\n",
    "\n",
    "for i in decending_order:\n",
    "    print(i)\n"
   ]
  },
  {
   "cell_type": "code",
   "execution_count": 28,
   "id": "fe751f6e",
   "metadata": {},
   "outputs": [
    {
     "name": "stdout",
     "output_type": "stream",
     "text": [
      "Original List: \n",
      "[1, 2, 3]\n",
      "[4, 5, 6]\n",
      "[7, 8, 9]\n",
      "Tranpose List: \n",
      "[1, 4, 7]\n",
      "[2, 5, 8]\n",
      "[3, 6, 9]\n"
     ]
    }
   ],
   "source": [
    "# Q9.Write a function that takes a 3x3 matrix (nested list) as input and returns its \n",
    "# transpose. Print the original and transposed  matrices.\n",
    "\n",
    "def matrix_transpose(l1):\n",
    "    transpose = [[l1 [j][i] for j in range(len(l1[0]))]for i in range(len(l1))]\n",
    "    return transpose\n",
    "\n",
    "l1 = [[1,2,3],[4,5,6],[7,8,9]]\n",
    "print(\"Original List: \")\n",
    "for i in l1:\n",
    "    print(i)\n",
    "    \n",
    "result = matrix_transpose(l1)\n",
    "print(\"Tranpose List: \")\n",
    "for i in result:\n",
    "    print(i)\n",
    "        \n"
   ]
  },
  {
   "cell_type": "code",
   "execution_count": 31,
   "id": "f83b499d",
   "metadata": {},
   "outputs": [
    {
     "name": "stdout",
     "output_type": "stream",
     "text": [
      "[[1, 2, 3], [4, 5, 6], [7, 8, 9]]\n"
     ]
    }
   ],
   "source": [
    "flat_list = [ j for i in l1 for j in l1]\n",
    "print(l1)"
   ]
  },
  {
   "cell_type": "code",
   "execution_count": 32,
   "id": "4dd5ca03",
   "metadata": {},
   "outputs": [
    {
     "name": "stdout",
     "output_type": "stream",
     "text": [
      "Original nested list:\n",
      "[[1, 2, 3], [4, 5, 6], [7, 8, 9]]\n",
      "Flattened list:\n",
      "[1, 2, 3, 4, 5, 6, 7, 8, 9]\n"
     ]
    }
   ],
   "source": [
    "def flatten_list(nested_list):\n",
    "    flat_list = [item for sublist in nested_list for item in sublist]\n",
    "    return flat_list\n",
    "\n",
    "nested_list = [\n",
    "    [1, 2, 3],\n",
    "    [4, 5, 6],\n",
    "    [7, 8, 9]\n",
    "]\n",
    "flattened = flatten_list(nested_list)\n",
    "print(\"Original nested list:\")\n",
    "print(nested_list)\n",
    "print(\"Flattened list:\")\n",
    "print(flattened)"
   ]
  },
  {
   "cell_type": "code",
   "execution_count": null,
   "id": "fb80979f",
   "metadata": {},
   "outputs": [],
   "source": []
  }
 ],
 "metadata": {
  "kernelspec": {
   "display_name": "Python 3",
   "language": "python",
   "name": "python3"
  },
  "language_info": {
   "codemirror_mode": {
    "name": "ipython",
    "version": 3
   },
   "file_extension": ".py",
   "mimetype": "text/x-python",
   "name": "python",
   "nbconvert_exporter": "python",
   "pygments_lexer": "ipython3",
   "version": "3.14.0"
  }
 },
 "nbformat": 4,
 "nbformat_minor": 5
}
