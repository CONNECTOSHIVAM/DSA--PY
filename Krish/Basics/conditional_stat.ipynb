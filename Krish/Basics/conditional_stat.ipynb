{
 "cells": [
  {
   "cell_type": "markdown",
   "id": "6f23e141",
   "metadata": {},
   "source": [
    "Module 2: Control Flow Assignments"
   ]
  },
  {
   "cell_type": "code",
   "execution_count": null,
   "id": "7522ef7c",
   "metadata": {},
   "outputs": [
    {
     "name": "stdout",
     "output_type": "stream",
     "text": [
      "Number is positive\n"
     ]
    }
   ],
   "source": [
    "# Q1. Write a program that asks the user to input a number and prints whether the number is positive. \n",
    "\n",
    "num = int(input(\"Enter the number: \"))\n",
    "\n",
    "if num >= 0:\n",
    "    print(\"Number is positive\")\n"
   ]
  },
  {
   "cell_type": "code",
   "execution_count": 4,
   "id": "40a0e05b",
   "metadata": {},
   "outputs": [
    {
     "name": "stdout",
     "output_type": "stream",
     "text": [
      "Number is negative\n"
     ]
    }
   ],
   "source": [
    "# Q2. Write a program that asks the user to input a number and prints whether the number is positive or negative.\n",
    "\n",
    "num = int(input(\"Enter the number: \"))\n",
    "\n",
    "if num >= 0:\n",
    "    print(\"Number is positive\")\n",
    "else:\n",
    "    print(\"Number is negative\")"
   ]
  },
  {
   "cell_type": "code",
   "execution_count": 6,
   "id": "335c1f53",
   "metadata": {},
   "outputs": [
    {
     "name": "stdout",
     "output_type": "stream",
     "text": [
      "Number is zero\n"
     ]
    }
   ],
   "source": [
    "# Q3.Write a program that asks the user to input a number and prints whether the number is positive, negative, or zero.\n",
    "\n",
    "num = int(input(\"Enter the number: \"))\n",
    "\n",
    "if num < 0:\n",
    "    print(\"Number is negative\")\n",
    "elif num > 0:\n",
    "    print(\"Number is positive\")\n",
    "else:\n",
    "    print(\"Number is zero\")\n"
   ]
  },
  {
   "cell_type": "code",
   "execution_count": 7,
   "id": "d453a990",
   "metadata": {},
   "outputs": [
    {
     "name": "stdout",
     "output_type": "stream",
     "text": [
      "Number is positive.\n",
      "Number is odd.\n"
     ]
    }
   ],
   "source": [
    "# Q4. Write a program that asks the user to input a number and prints whether the number is positive and even, positive and odd, or negative.\n",
    "\n",
    "num = int(input(\"Enter the number: \"))\n",
    "\n",
    "if num > 0:\n",
    "    print(\"Number is positive.\")\n",
    "    if num%2==0:\n",
    "        print(\"Number is even..\")\n",
    "    else:\n",
    "        print(\"Number is odd.\")\n",
    "else:\n",
    "    print(\"Number is negative and zero.\")\n",
    "\n"
   ]
  },
  {
   "cell_type": "code",
   "execution_count": 11,
   "id": "bd3f26b4",
   "metadata": {},
   "outputs": [
    {
     "name": "stdout",
     "output_type": "stream",
     "text": [
      "1\n",
      "2\n",
      "3\n",
      "4\n",
      "5\n",
      "6\n",
      "7\n",
      "8\n",
      "9\n",
      "10\n"
     ]
    }
   ],
   "source": [
    "# Q5. Write a program that prints all the numbers from 1 to 10 using a for loop.\n",
    "\n",
    "for i in range(1,11):\n",
    "    print(i)\n"
   ]
  },
  {
   "cell_type": "code",
   "execution_count": 12,
   "id": "32eda31f",
   "metadata": {},
   "outputs": [
    {
     "name": "stdout",
     "output_type": "stream",
     "text": [
      "1\n",
      "2\n",
      "3\n",
      "4\n",
      "5\n",
      "6\n",
      "7\n",
      "8\n",
      "9\n",
      "10\n"
     ]
    }
   ],
   "source": [
    "# Q6. Write a program that prints all the numbers from 1 to 10 using a while loop.\n",
    "\n",
    "count = 1\n",
    "\n",
    "while(count<=10):\n",
    "    print(count)\n",
    "    count += 1"
   ]
  },
  {
   "cell_type": "code",
   "execution_count": 15,
   "id": "6d285c20",
   "metadata": {},
   "outputs": [
    {
     "name": "stdout",
     "output_type": "stream",
     "text": [
      "* * * * * \n",
      "* * * * * \n",
      "* * * * * \n",
      "* * * * * \n",
      "* * * * * \n"
     ]
    }
   ],
   "source": [
    "# Q7. Write a program that prints a 5x5 grid of asterisks (*) using nested loops.\n",
    "\n",
    "for i in range(5):\n",
    "    for j in range(5):\n",
    "        print(\"*\",end=\" \")\n",
    "    print()\n"
   ]
  },
  {
   "cell_type": "code",
   "execution_count": 28,
   "id": "1d760c6f",
   "metadata": {},
   "outputs": [
    {
     "name": "stdout",
     "output_type": "stream",
     "text": [
      "Pressed Zero: Now stop the code..\n",
      "Sum of all the Numbers is: 21.0 \n"
     ]
    }
   ],
   "source": [
    "# Q8. Write a program that asks the user to input numbers until they input 0. The program should print the sum of all the input numbers.\n",
    "\n",
    "total = 0\n",
    "\n",
    "while True:\n",
    "    number = float(input(\"Enter zero to program stop: \"))\n",
    "    if number == 0:\n",
    "        print('Pressed Zero: Now stop the code..')\n",
    "        break\n",
    "    total += number\n",
    "\n",
    "print(f'Sum of all the Numbers is: {total} ')\n",
    "    \n",
    "    \n"
   ]
  },
  {
   "cell_type": "code",
   "execution_count": 1,
   "id": "02028707",
   "metadata": {},
   "outputs": [
    {
     "name": "stdout",
     "output_type": "stream",
     "text": [
      "1\n",
      "2\n",
      "3\n",
      "4\n",
      "6\n",
      "7\n",
      "8\n",
      "9\n",
      "10\n"
     ]
    }
   ],
   "source": [
    "# Q9. Write a program that prints all the numbers from 1 to 10 except 5 using a for loop and continue statement.\n",
    "\n",
    "for i in range(1,11):\n",
    "    if i == 5:\n",
    "        continue\n",
    "    print(i)"
   ]
  },
  {
   "cell_type": "code",
   "execution_count": 2,
   "id": "e11e8ba8",
   "metadata": {},
   "outputs": [],
   "source": [
    "# Q10. Write a program that defines an empty function using the pass statement.\n",
    "\n",
    "def myfunc():\n",
    "    pass\n",
    "\n",
    "#Calling the empty functions.\n",
    "myfunc()"
   ]
  },
  {
   "cell_type": "code",
   "execution_count": 3,
   "id": "57de12ab",
   "metadata": {},
   "outputs": [
    {
     "name": "stdout",
     "output_type": "stream",
     "text": [
      "2\n",
      "4\n",
      "6\n",
      "8\n",
      "10\n",
      "12\n"
     ]
    }
   ],
   "source": [
    "# Q11. Write a program that asks the user to input a number and prints all the even numbers from 1 to that number using a for loop.\n",
    "\n",
    "num = int(input(\"Enter the number: \"))\n",
    "\n",
    "for i in range(1,num+1):\n",
    "    if i%2 == 0:\n",
    "        print(i)"
   ]
  },
  {
   "cell_type": "code",
   "execution_count": 10,
   "id": "f44f96f0",
   "metadata": {},
   "outputs": [
    {
     "name": "stdout",
     "output_type": "stream",
     "text": [
      "120\n"
     ]
    }
   ],
   "source": [
    "# Q12.Write a program that calculates the factorial of a number input by the user using a while loop.\n",
    "\n",
    "n = 5\n",
    "fact = 1\n",
    "\n",
    "\n",
    "while(n > 1):\n",
    "    fact *= n\n",
    "    n -= 1\n",
    "print(fact)\n"
   ]
  },
  {
   "cell_type": "code",
   "execution_count": 17,
   "id": "9e997095",
   "metadata": {},
   "outputs": [
    {
     "name": "stdout",
     "output_type": "stream",
     "text": [
      "Sum of Digits: 31\n"
     ]
    }
   ],
   "source": [
    "# Q13.Write a program that calculates the sum of the digits of a number input by the user using a while loop.\n",
    "\n",
    "n = 12334567\n",
    "sum_of_digits = 0\n",
    "\n",
    "while n > 0:\n",
    "    digits = n%10\n",
    "    sum_of_digits += digits\n",
    "    n = n//10\n",
    "print(f\"Sum of Digits: {sum_of_digits}\")"
   ]
  },
  {
   "cell_type": "code",
   "execution_count": 29,
   "id": "02656968",
   "metadata": {},
   "outputs": [
    {
     "name": "stdout",
     "output_type": "stream",
     "text": [
      "0 is not prime numbers\n"
     ]
    }
   ],
   "source": [
    "# Q14. Write a program that checks if a number input by the user is a prime number using a for loop.\n",
    "\n",
    "n = 0\n",
    "is_prime = True\n",
    "if n <=1:\n",
    "    is_prime = False\n",
    "else:\n",
    "    for i in range(2,int(n**0.5)+1):\n",
    "        if n % i == 0:\n",
    "            is_prime = False\n",
    "            break\n",
    "\n",
    "if is_prime is True:\n",
    "    print(f\"{n} is prime numbers\")\n",
    "else:\n",
    "    print(f\"{n} is not prime numbers\")"
   ]
  },
  {
   "cell_type": "code",
   "execution_count": null,
   "id": "b168fa85",
   "metadata": {},
   "outputs": [
    {
     "name": "stdout",
     "output_type": "stream",
     "text": [
      "0\n",
      "1\n",
      "1\n",
      "2\n",
      "3\n",
      "5\n"
     ]
    }
   ],
   "source": [
    "# Q15. Write a program that prints the first n Fibonacci numbers, where n is input by the user.\n",
    "\n",
    "num = int(input(\"Enter  number to find fibonacci serise: \"))\n",
    "a , b = 0,1\n",
    "i = 0\n",
    "while(i < num+1):\n",
    "    print(a)\n",
    "    a,b = b,a+b\n",
    "    i += 1"
   ]
  },
  {
   "cell_type": "code",
   "execution_count": 42,
   "id": "cb63bfab",
   "metadata": {},
   "outputs": [
    {
     "data": {
      "text/plain": [
       "55"
      ]
     },
     "execution_count": 42,
     "metadata": {},
     "output_type": "execute_result"
    }
   ],
   "source": [
    "def fib_num(n):\n",
    "    if n == 0 or n == 1:\n",
    "        return n\n",
    "    return fib_num(n-1)+fib_num(n-2)\n",
    "\n",
    "fib_num(10)"
   ]
  }
 ],
 "metadata": {
  "kernelspec": {
   "display_name": "myenv",
   "language": "python",
   "name": "python3"
  },
  "language_info": {
   "codemirror_mode": {
    "name": "ipython",
    "version": 3
   },
   "file_extension": ".py",
   "mimetype": "text/x-python",
   "name": "python",
   "nbconvert_exporter": "python",
   "pygments_lexer": "ipython3",
   "version": "3.13.5"
  }
 },
 "nbformat": 4,
 "nbformat_minor": 5
}
