{
 "cells": [
  {
   "cell_type": "markdown",
   "id": "6f23e141",
   "metadata": {},
   "source": [
    "Module 2: Control Flow Assignments"
   ]
  },
  {
   "cell_type": "code",
   "execution_count": null,
   "id": "7522ef7c",
   "metadata": {},
   "outputs": [
    {
     "name": "stdout",
     "output_type": "stream",
     "text": [
      "Number is positive\n"
     ]
    }
   ],
   "source": [
    "# Q1. Write a program that asks the user to input a number and prints whether the number is positive. \n",
    "\n",
    "num = int(input(\"Enter the number: \"))\n",
    "\n",
    "if num >= 0:\n",
    "    print(\"Number is positive\")\n"
   ]
  },
  {
   "cell_type": "code",
   "execution_count": 4,
   "id": "40a0e05b",
   "metadata": {},
   "outputs": [
    {
     "name": "stdout",
     "output_type": "stream",
     "text": [
      "Number is negative\n"
     ]
    }
   ],
   "source": [
    "# Q2. Write a program that asks the user to input a number and prints whether the number is positive or negative.\n",
    "\n",
    "num = int(input(\"Enter the number: \"))\n",
    "\n",
    "if num >= 0:\n",
    "    print(\"Number is positive\")\n",
    "else:\n",
    "    print(\"Number is negative\")"
   ]
  },
  {
   "cell_type": "code",
   "execution_count": 6,
   "id": "335c1f53",
   "metadata": {},
   "outputs": [
    {
     "name": "stdout",
     "output_type": "stream",
     "text": [
      "Number is zero\n"
     ]
    }
   ],
   "source": [
    "# Q3.Write a program that asks the user to input a number and prints whether the number is positive, negative, or zero.\n",
    "\n",
    "num = int(input(\"Enter the number: \"))\n",
    "\n",
    "if num < 0:\n",
    "    print(\"Number is negative\")\n",
    "elif num > 0:\n",
    "    print(\"Number is positive\")\n",
    "else:\n",
    "    print(\"Number is zero\")\n"
   ]
  },
  {
   "cell_type": "code",
   "execution_count": 7,
   "id": "d453a990",
   "metadata": {},
   "outputs": [
    {
     "name": "stdout",
     "output_type": "stream",
     "text": [
      "Number is positive.\n",
      "Number is odd.\n"
     ]
    }
   ],
   "source": [
    "# Q4. Write a program that asks the user to input a number and prints whether the number is positive and even, positive and odd, or negative.\n",
    "\n",
    "num = int(input(\"Enter the number: \"))\n",
    "\n",
    "if num > 0:\n",
    "    print(\"Number is positive.\")\n",
    "    if num%2==0:\n",
    "        print(\"Number is even..\")\n",
    "    else:\n",
    "        print(\"Number is odd.\")\n",
    "else:\n",
    "    print(\"Number is negative and zero.\")\n",
    "\n"
   ]
  },
  {
   "cell_type": "code",
   "execution_count": 11,
   "id": "bd3f26b4",
   "metadata": {},
   "outputs": [
    {
     "name": "stdout",
     "output_type": "stream",
     "text": [
      "1\n",
      "2\n",
      "3\n",
      "4\n",
      "5\n",
      "6\n",
      "7\n",
      "8\n",
      "9\n",
      "10\n"
     ]
    }
   ],
   "source": [
    "# Q5. Write a program that prints all the numbers from 1 to 10 using a for loop.\n",
    "\n",
    "for i in range(1,11):\n",
    "    print(i)\n"
   ]
  },
  {
   "cell_type": "code",
   "execution_count": 12,
   "id": "32eda31f",
   "metadata": {},
   "outputs": [
    {
     "name": "stdout",
     "output_type": "stream",
     "text": [
      "1\n",
      "2\n",
      "3\n",
      "4\n",
      "5\n",
      "6\n",
      "7\n",
      "8\n",
      "9\n",
      "10\n"
     ]
    }
   ],
   "source": [
    "# Q6. Write a program that prints all the numbers from 1 to 10 using a while loop.\n",
    "\n",
    "count = 1\n",
    "\n",
    "while(count<=10):\n",
    "    print(count)\n",
    "    count += 1"
   ]
  },
  {
   "cell_type": "code",
   "execution_count": 15,
   "id": "6d285c20",
   "metadata": {},
   "outputs": [
    {
     "name": "stdout",
     "output_type": "stream",
     "text": [
      "* * * * * \n",
      "* * * * * \n",
      "* * * * * \n",
      "* * * * * \n",
      "* * * * * \n"
     ]
    }
   ],
   "source": [
    "# Q7. Write a program that prints a 5x5 grid of asterisks (*) using nested loops.\n",
    "\n",
    "for i in range(5):\n",
    "    for j in range(5):\n",
    "        print(\"*\",end=\" \")\n",
    "    print()\n"
   ]
  },
  {
   "cell_type": "code",
   "execution_count": 28,
   "id": "1d760c6f",
   "metadata": {},
   "outputs": [
    {
     "name": "stdout",
     "output_type": "stream",
     "text": [
      "Pressed Zero: Now stop the code..\n",
      "Sum of all the Numbers is: 21.0 \n"
     ]
    }
   ],
   "source": [
    "# Q8. Write a program that asks the user to input numbers until they input 0. The program should print the sum of all the input numbers.\n",
    "\n",
    "total = 0\n",
    "\n",
    "while True:\n",
    "    number = float(input(\"Enter zero to program stop: \"))\n",
    "    if number == 0:\n",
    "        print('Pressed Zero: Now stop the code..')\n",
    "        break\n",
    "    total += number\n",
    "\n",
    "print(f'Sum of all the Numbers is: {total} ')\n",
    "    \n",
    "    \n"
   ]
  },
  {
   "cell_type": "code",
   "execution_count": null,
   "id": "02028707",
   "metadata": {},
   "outputs": [],
   "source": []
  }
 ],
 "metadata": {
  "kernelspec": {
   "display_name": "Python 3",
   "language": "python",
   "name": "python3"
  },
  "language_info": {
   "codemirror_mode": {
    "name": "ipython",
    "version": 3
   },
   "file_extension": ".py",
   "mimetype": "text/x-python",
   "name": "python",
   "nbconvert_exporter": "python",
   "pygments_lexer": "ipython3",
   "version": "3.14.0"
  }
 },
 "nbformat": 4,
 "nbformat_minor": 5
}
