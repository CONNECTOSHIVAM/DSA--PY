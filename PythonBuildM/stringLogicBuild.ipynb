{
 "cells": [
  {
   "cell_type": "markdown",
   "id": "cc649e2f",
   "metadata": {},
   "source": [
    "Python Strings Assignment (Basic to\n",
    "Advanced)"
   ]
  },
  {
   "cell_type": "markdown",
   "id": "0a1bae99",
   "metadata": {},
   "source": [
    "SECTION 1:  Creating & Accessing Strings (Basic)"
   ]
  },
  {
   "cell_type": "code",
   "execution_count": 2,
   "id": "a36046e2",
   "metadata": {},
   "outputs": [
    {
     "name": "stdout",
     "output_type": "stream",
     "text": [
      "Hi , I am shivam inside the single qouts\n",
      "Hi , I am nanhee inside the double qouts\n",
      "Hi , I am sanskriti inside the triple qouts\n"
     ]
    }
   ],
   "source": [
    "# <!-- 1. Create three different strings using different quotation methods (single quotes, double\n",
    "# quotes, and triple quotes). -->\n",
    "\n",
    "#single quote strings.\n",
    "container1 = 'Hi , I am shivam inside the single qouts'\n",
    "print(container1)\n",
    "#Double quote strings.\n",
    "container2 = \"Hi , I am nanhee inside the double qouts\"\n",
    "print(container2)\n",
    "#Triple quote strings.\n",
    "container3 = \"\"\"Hi , I am sanskriti inside the triple qouts\"\"\"\n",
    "print(container3)"
   ]
  },
  {
   "cell_type": "code",
   "execution_count": null,
   "id": "042f8900",
   "metadata": {},
   "outputs": [],
   "source": []
  }
 ],
 "metadata": {
  "kernelspec": {
   "display_name": "base",
   "language": "python",
   "name": "python3"
  },
  "language_info": {
   "codemirror_mode": {
    "name": "ipython",
    "version": 3
   },
   "file_extension": ".py",
   "mimetype": "text/x-python",
   "name": "python",
   "nbconvert_exporter": "python",
   "pygments_lexer": "ipython3",
   "version": "3.13.2"
  }
 },
 "nbformat": 4,
 "nbformat_minor": 5
}
