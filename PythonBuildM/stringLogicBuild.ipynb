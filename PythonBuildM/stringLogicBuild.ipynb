{
 "cells": [
  {
   "cell_type": "markdown",
   "id": "cc649e2f",
   "metadata": {},
   "source": [
    "Python Strings Assignment (Basic to\n",
    "Advanced)"
   ]
  },
  {
   "cell_type": "markdown",
   "id": "0a1bae99",
   "metadata": {},
   "source": [
    "SECTION 1:  Creating & Accessing Strings (Basic)"
   ]
  },
  {
   "cell_type": "code",
   "execution_count": 2,
   "id": "a36046e2",
   "metadata": {},
   "outputs": [
    {
     "name": "stdout",
     "output_type": "stream",
     "text": [
      "Hi , I am shivam inside the single qouts\n",
      "Hi , I am nanhee inside the double qouts\n",
      "Hi , I am sanskriti inside the triple qouts\n"
     ]
    }
   ],
   "source": [
    "# <!-- 1. Create three different strings using different quotation methods (single quotes, double\n",
    "# quotes, and triple quotes). -->\n",
    "\n",
    "#single quote strings.\n",
    "container1 = 'Hi , I am shivam inside the single qouts'\n",
    "print(container1)\n",
    "#Double quote strings.\n",
    "container2 = \"Hi , I am nanhee inside the double qouts\"\n",
    "print(container2)\n",
    "#Triple quote strings.\n",
    "container3 = \"\"\"Hi , I am sanskriti inside the triple qouts\"\"\"\n",
    "print(container3)"
   ]
  },
  {
   "cell_type": "code",
   "execution_count": 5,
   "id": "042f8900",
   "metadata": {},
   "outputs": [
    {
     "name": "stdout",
     "output_type": "stream",
     "text": [
      "s\n",
      "r\n",
      "12\n"
     ]
    }
   ],
   "source": [
    "# 2. Create a string variable containing your full name and write code to:\n",
    "# o Print the first character\n",
    "# o Print the last character\n",
    "# o Print the length of the string\n",
    "\n",
    "\n",
    "#create a full name varible.\n",
    "name_Container = 'shivam kumar'\n",
    "#Now print the first character of name:\n",
    "print(name_Container[0])\n",
    "#Now print the last character of name:\n",
    "print(name_Container[-1])\n",
    "#Now print the length of name:\n",
    "print(len(name_Container))\n"
   ]
  },
  {
   "cell_type": "code",
   "execution_count": 4,
   "id": "82396d24",
   "metadata": {},
   "outputs": [
    {
     "name": "stdout",
     "output_type": "stream",
     "text": [
      "2468\n",
      "13579\n",
      "02468\n",
      "13579\n",
      "9876543210\n"
     ]
    }
   ],
   "source": [
    "# 2. Given s = \"0123456789\":\n",
    "# o Extract every even-indexed character\n",
    "# o Extract every odd-indexed character\n",
    "# o Reverse the string using slicing\n",
    "\n",
    "#Extract the even number\n",
    "s = '0123456789'\n",
    "print(s[2::2])\n",
    "#Extract the odd number\n",
    "print(s[1::2] )\n",
    "#Extract even indexed character\n",
    "print(s[::2])\n",
    "#Extract odd indexed character\n",
    "print(s[1::2])\n",
    "#Reverse the indexing using slicing\n",
    "print(s[::-1])"
   ]
  },
  {
   "cell_type": "code",
   "execution_count": 9,
   "id": "fb8dda21",
   "metadata": {},
   "outputs": [
    {
     "data": {
      "text/plain": [
       "'ythonP'"
      ]
     },
     "execution_count": 9,
     "metadata": {},
     "output_type": "execute_result"
    }
   ],
   "source": [
    "# 3. Create a function that takes a string and returns a \"rotated\" version where the first\n",
    "# character is moved to the end. For example, \"Python\" becomes \"ythonP\".\n",
    "\n",
    "def rotateV(a):\n",
    "    #if string is empty\n",
    "    if len(a)<=1:\n",
    "        return a\n",
    "    return a[1::]+a[0]\n",
    "\n",
    "rotateV(\"Python\")"
   ]
  },
  {
   "cell_type": "code",
   "execution_count": 11,
   "id": "ad25946f",
   "metadata": {},
   "outputs": [
    {
     "name": "stdout",
     "output_type": "stream",
     "text": [
      "Error:  'str' object does not support item assignment\n",
      "original : Humja\n",
      "Modified : Jumja\n"
     ]
    }
   ],
   "source": [
    "# 4. Demonstrate string immutability with an example. Try to change a character in a string\n",
    "# and explain what happens\n",
    "\n",
    "text = \"Humja\"\n",
    "try:\n",
    "    s[0]='J'\n",
    "except TypeError as e:\n",
    "    print(\"Error: \",e)\n",
    "\n",
    "n_str = \"J\"+text[1::]\n",
    "print(f\"original : {text}\")\n",
    "print(f\"Modified : {n_str}\")"
   ]
  },
  {
   "cell_type": "code",
   "execution_count": null,
   "id": "76d58d03",
   "metadata": {},
   "outputs": [],
   "source": []
  }
 ],
 "metadata": {
  "kernelspec": {
   "display_name": "base",
   "language": "python",
   "name": "python3"
  },
  "language_info": {
   "codemirror_mode": {
    "name": "ipython",
    "version": 3
   },
   "file_extension": ".py",
   "mimetype": "text/x-python",
   "name": "python",
   "nbconvert_exporter": "python",
   "pygments_lexer": "ipython3",
   "version": "3.13.2"
  }
 },
 "nbformat": 4,
 "nbformat_minor": 5
}
