{
 "cells": [
  {
   "cell_type": "markdown",
   "id": "927c3fd9",
   "metadata": {},
   "source": [
    "Basic Problems"
   ]
  },
  {
   "cell_type": "code",
   "execution_count": 1,
   "id": "20c8c084",
   "metadata": {},
   "outputs": [
    {
     "name": "stdout",
     "output_type": "stream",
     "text": [
      "False\n"
     ]
    }
   ],
   "source": [
    "# Q1. Given a number n, check whether it is even or odd. Return true for even and false for odd.\n",
    "\n",
    "#Methood definations.\n",
    "def checkEvenOdd(n):\n",
    "    if n % 2 == 0:\n",
    "        return True\n",
    "    else:\n",
    "        return False\n",
    "\n",
    "\n",
    "#Driver code:\n",
    "n = 7\n",
    "result = checkEvenOdd(n)\n",
    "print(result)"
   ]
  },
  {
   "cell_type": "code",
   "execution_count": 6,
   "id": "fa0fceea",
   "metadata": {},
   "outputs": [
    {
     "name": "stdout",
     "output_type": "stream",
     "text": [
      "5 * 1 = 5\n",
      "5 * 2 = 10\n",
      "5 * 3 = 15\n",
      "5 * 4 = 20\n",
      "5 * 5 = 25\n",
      "5 * 6 = 30\n",
      "5 * 7 = 35\n",
      "5 * 8 = 40\n",
      "5 * 9 = 45\n",
      "5 * 10 = 50\n",
      "None\n"
     ]
    }
   ],
   "source": [
    "# Q2.Given a number n, we need to print its table. \n",
    "\n",
    "#Methood definations\n",
    "def multiplicationTable(n):\n",
    "    for i in range(1,11):\n",
    "        print(f'{n} * {i} = {n*i}')\n",
    "         \n",
    "\n",
    "\n",
    "#Driver code:\n",
    "n = 5\n",
    "result = multiplicationTable(n)\n",
    "print(result)"
   ]
  },
  {
   "cell_type": "code",
   "execution_count": null,
   "id": "c7cb0137",
   "metadata": {},
   "outputs": [
    {
     "name": "stdout",
     "output_type": "stream",
     "text": [
      "7 * 1 = 7\n",
      "7 * 2 = 14\n",
      "7 * 3 = 21\n",
      "7 * 4 = 28\n",
      "7 * 5 = 35\n",
      "7 * 6 = 42\n",
      "7 * 7 = 49\n",
      "7 * 8 = 56\n",
      "7 * 9 = 63\n",
      "7 * 10 = 70\n",
      "None\n"
     ]
    }
   ],
   "source": [
    "# Q3.Given a number n, we need to print its table. using the recursive approach.\n",
    "\n",
    "def multiplicationTables(n,i=1):\n",
    "    if (i == 11):\n",
    "        return\n",
    "    print(f\"{n} * {i} = {n*i}\")\n",
    "    \n",
    "    multiplicationTables(n,i+1)\n",
    "\n",
    "#Driver code:\n",
    "n = 7\n",
    "result = multiplicationTables(n)\n",
    "print(result)\n",
    "\n",
    "        "
   ]
  },
  {
   "cell_type": "code",
   "execution_count": 8,
   "id": "786710f0",
   "metadata": {},
   "outputs": [
    {
     "name": "stdout",
     "output_type": "stream",
     "text": [
      "Sum of till 7 numbers is : 28\n"
     ]
    }
   ],
   "source": [
    "# Q4.Given a positive integer n, find the sum of the first n natural numbers.\n",
    "\n",
    "def sumOfN(n):\n",
    "    sum = 0\n",
    "    for i in range(1,n+1):\n",
    "        sum += i\n",
    "    return sum\n",
    "\n",
    "#Driver code:\n",
    "n = 7\n",
    "result = sumOfN(n)\n",
    "print(f\"Sum of till {n} numbers is : {result}\")\n"
   ]
  },
  {
   "cell_type": "code",
   "execution_count": 13,
   "id": "16145017",
   "metadata": {},
   "outputs": [
    {
     "ename": "TypeError",
     "evalue": "unsupported operand type(s) for +: 'int' and 'NoneType'",
     "output_type": "error",
     "traceback": [
      "\u001b[31m---------------------------------------------------------------------------\u001b[39m",
      "\u001b[31mTypeError\u001b[39m                                 Traceback (most recent call last)",
      "\u001b[36mCell\u001b[39m\u001b[36m \u001b[39m\u001b[32mIn[13]\u001b[39m\u001b[32m, line 7\u001b[39m\n\u001b[32m      3\u001b[39m         \u001b[38;5;28;01mreturn\u001b[39;00m\n\u001b[32m      5\u001b[39m     \u001b[38;5;28;01mreturn\u001b[39;00m n + sumOfN(n-\u001b[32m1\u001b[39m)\n\u001b[32m----> \u001b[39m\u001b[32m7\u001b[39m \u001b[43msumOfN\u001b[49m\u001b[43m(\u001b[49m\u001b[32;43m7\u001b[39;49m\u001b[43m)\u001b[49m\n",
      "\u001b[36mCell\u001b[39m\u001b[36m \u001b[39m\u001b[32mIn[13]\u001b[39m\u001b[32m, line 5\u001b[39m, in \u001b[36msumOfN\u001b[39m\u001b[34m(n)\u001b[39m\n\u001b[32m      2\u001b[39m \u001b[38;5;28;01mif\u001b[39;00m n == \u001b[32m0\u001b[39m:\n\u001b[32m      3\u001b[39m     \u001b[38;5;28;01mreturn\u001b[39;00m\n\u001b[32m----> \u001b[39m\u001b[32m5\u001b[39m \u001b[38;5;28;01mreturn\u001b[39;00m n + \u001b[43msumOfN\u001b[49m\u001b[43m(\u001b[49m\u001b[43mn\u001b[49m\u001b[43m-\u001b[49m\u001b[32;43m1\u001b[39;49m\u001b[43m)\u001b[49m\n",
      "\u001b[36mCell\u001b[39m\u001b[36m \u001b[39m\u001b[32mIn[13]\u001b[39m\u001b[32m, line 5\u001b[39m, in \u001b[36msumOfN\u001b[39m\u001b[34m(n)\u001b[39m\n\u001b[32m      2\u001b[39m \u001b[38;5;28;01mif\u001b[39;00m n == \u001b[32m0\u001b[39m:\n\u001b[32m      3\u001b[39m     \u001b[38;5;28;01mreturn\u001b[39;00m\n\u001b[32m----> \u001b[39m\u001b[32m5\u001b[39m \u001b[38;5;28;01mreturn\u001b[39;00m n + \u001b[43msumOfN\u001b[49m\u001b[43m(\u001b[49m\u001b[43mn\u001b[49m\u001b[43m-\u001b[49m\u001b[32;43m1\u001b[39;49m\u001b[43m)\u001b[49m\n",
      "    \u001b[31m[... skipping similar frames: sumOfN at line 5 (4 times)]\u001b[39m\n",
      "\u001b[36mCell\u001b[39m\u001b[36m \u001b[39m\u001b[32mIn[13]\u001b[39m\u001b[32m, line 5\u001b[39m, in \u001b[36msumOfN\u001b[39m\u001b[34m(n)\u001b[39m\n\u001b[32m      2\u001b[39m \u001b[38;5;28;01mif\u001b[39;00m n == \u001b[32m0\u001b[39m:\n\u001b[32m      3\u001b[39m     \u001b[38;5;28;01mreturn\u001b[39;00m\n\u001b[32m----> \u001b[39m\u001b[32m5\u001b[39m \u001b[38;5;28;01mreturn\u001b[39;00m \u001b[43mn\u001b[49m\u001b[43m \u001b[49m\u001b[43m+\u001b[49m\u001b[43m \u001b[49m\u001b[43msumOfN\u001b[49m\u001b[43m(\u001b[49m\u001b[43mn\u001b[49m\u001b[43m-\u001b[49m\u001b[32;43m1\u001b[39;49m\u001b[43m)\u001b[49m\n",
      "\u001b[31mTypeError\u001b[39m: unsupported operand type(s) for +: 'int' and 'NoneType'"
     ]
    }
   ],
   "source": [
    "def sumOfN(n):\n",
    "    if n == 0:\n",
    "        return\n",
    "    \n",
    "    return n + sumOfN(n-1)\n",
    "\n",
    "sumOfN(7)"
   ]
  },
  {
   "cell_type": "code",
   "execution_count": null,
   "id": "f464e792",
   "metadata": {},
   "outputs": [],
   "source": []
  }
 ],
 "metadata": {
  "kernelspec": {
   "display_name": "base",
   "language": "python",
   "name": "python3"
  },
  "language_info": {
   "codemirror_mode": {
    "name": "ipython",
    "version": 3
   },
   "file_extension": ".py",
   "mimetype": "text/x-python",
   "name": "python",
   "nbconvert_exporter": "python",
   "pygments_lexer": "ipython3",
   "version": "3.13.2"
  }
 },
 "nbformat": 4,
 "nbformat_minor": 5
}
