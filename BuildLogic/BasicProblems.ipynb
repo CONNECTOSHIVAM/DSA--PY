{
 "cells": [
  {
   "cell_type": "markdown",
   "id": "927c3fd9",
   "metadata": {},
   "source": [
    "Basic Problems"
   ]
  },
  {
   "cell_type": "code",
   "execution_count": 1,
   "id": "20c8c084",
   "metadata": {},
   "outputs": [
    {
     "name": "stdout",
     "output_type": "stream",
     "text": [
      "False\n"
     ]
    }
   ],
   "source": [
    "# Q1. Given a number n, check whether it is even or odd. Return true for even and false for odd.\n",
    "\n",
    "#Methood definations.\n",
    "def checkEvenOdd(n):\n",
    "    if n % 2 == 0:\n",
    "        return True\n",
    "    else:\n",
    "        return False\n",
    "\n",
    "\n",
    "#Driver code:\n",
    "n = 7\n",
    "result = checkEvenOdd(n)\n",
    "print(result)"
   ]
  },
  {
   "cell_type": "code",
   "execution_count": 6,
   "id": "fa0fceea",
   "metadata": {},
   "outputs": [
    {
     "name": "stdout",
     "output_type": "stream",
     "text": [
      "5 * 1 = 5\n",
      "5 * 2 = 10\n",
      "5 * 3 = 15\n",
      "5 * 4 = 20\n",
      "5 * 5 = 25\n",
      "5 * 6 = 30\n",
      "5 * 7 = 35\n",
      "5 * 8 = 40\n",
      "5 * 9 = 45\n",
      "5 * 10 = 50\n",
      "None\n"
     ]
    }
   ],
   "source": [
    "# Q2.Given a number n, we need to print its table. \n",
    "\n",
    "#Methood definations\n",
    "def multiplicationTable(n):\n",
    "    for i in range(1,11):\n",
    "        print(f'{n} * {i} = {n*i}')\n",
    "         \n",
    "\n",
    "\n",
    "#Driver code:\n",
    "n = 5\n",
    "result = multiplicationTable(n)\n",
    "print(result)"
   ]
  },
  {
   "cell_type": "code",
   "execution_count": null,
   "id": "c7cb0137",
   "metadata": {},
   "outputs": [
    {
     "name": "stdout",
     "output_type": "stream",
     "text": [
      "7 * 1 = 7\n",
      "7 * 2 = 14\n",
      "7 * 3 = 21\n",
      "7 * 4 = 28\n",
      "7 * 5 = 35\n",
      "7 * 6 = 42\n",
      "7 * 7 = 49\n",
      "7 * 8 = 56\n",
      "7 * 9 = 63\n",
      "7 * 10 = 70\n",
      "None\n"
     ]
    }
   ],
   "source": [
    "# Q3.Given a number n, we need to print its table. using the recursive approach.\n",
    "\n",
    "def multiplicationTables(n,i=1):\n",
    "    if (i == 11):\n",
    "        return\n",
    "    print(f\"{n} * {i} = {n*i}\")\n",
    "    \n",
    "    multiplicationTables(n,i+1)\n",
    "\n",
    "#Driver code:\n",
    "n = 7\n",
    "result = multiplicationTables(n)\n",
    "print(result)\n",
    "\n",
    "        "
   ]
  },
  {
   "cell_type": "code",
   "execution_count": null,
   "id": "786710f0",
   "metadata": {},
   "outputs": [
    {
     "name": "stdout",
     "output_type": "stream",
     "text": [
      "Sum of till 7 numbers is : 28\n"
     ]
    }
   ],
   "source": [
    "# Q4.Given a positive integer n, find the sum of the first n natural numbers.\n",
    "\n",
    "def sumOfN(n):\n",
    "    sum = 0\n",
    "    for i in range(1,n+1):\n",
    "        sum += i\n",
    "    return sum\n",
    "\n",
    "#Driver code:\n",
    "n = 7\n",
    "result = sumOfN(n)\n",
    "print(f\"Sum of till {n} numbers is : {result}\")\n"
   ]
  },
  {
   "cell_type": "code",
   "execution_count": 18,
   "id": "16145017",
   "metadata": {},
   "outputs": [
    {
     "name": "stdout",
     "output_type": "stream",
     "text": [
      "Sum of till 10 numbers is : 55\n"
     ]
    }
   ],
   "source": [
    "# Q5.Given a positive integer n, find the sum of the first n natural numbers. using the recursive approach.\n",
    "\n",
    "def sumOfN(n):\n",
    "    if n == 1:\n",
    "        return 1\n",
    "    \n",
    "    return n + sumOfN(n-1)\n",
    "\n",
    "# sumOfN(7)\n",
    "n = 10\n",
    "result = sumOfN(n)\n",
    "print(f\"Sum of till {n} numbers is : {result}\")"
   ]
  },
  {
   "cell_type": "code",
   "execution_count": null,
   "id": "f464e792",
   "metadata": {},
   "outputs": [
    {
     "name": "stdout",
     "output_type": "stream",
     "text": [
      "204\n"
     ]
    }
   ],
   "source": [
    "# Q6. Given a positive integer n, we have to find the sum of squares of first n natural numbers. \n",
    "\n",
    "#functions definations\n",
    "def sumOfSN(n):\n",
    "    sum = 0\n",
    "    for i in range(1,n+1):\n",
    "        sum += i*i\n",
    "    return sum\n",
    "\n",
    "#Driver code:\n",
    "num = 8\n",
    "result = sumOfSN(num)\n",
    "print(result)\n",
    "\n",
    "# Time Complexity: 0(n)  || Space Complexity: 0(1)"
   ]
  },
  {
   "cell_type": "code",
   "execution_count": 9,
   "id": "ed267658",
   "metadata": {},
   "outputs": [
    {
     "name": "stdout",
     "output_type": "stream",
     "text": [
      "55\n"
     ]
    }
   ],
   "source": [
    "#Q7.Given a positive integer n, we have to find the sum of squares of first n \n",
    "# natural numbers.(along with TC: O(1)) \n",
    "\n",
    "# function defination\n",
    "def sumOfSToN(n: int) -> int:\n",
    "\n",
    "    \"\"\"\n",
    "    Returns the sum of squares of the first n natural numbers.\n",
    "    \n",
    "    Formula: n(n+1)(2n+1) / 6\n",
    "    Time Complexity: O(1)\n",
    "    \"\"\"\n",
    "    return (n*(n+1)*(2*n+1))//6\n",
    "\n",
    "\n",
    "#Driver Code:\n",
    "num = 5\n",
    "result = sumOfSToN(num)\n",
    "print(result)\n"
   ]
  },
  {
   "cell_type": "code",
   "execution_count": 13,
   "id": "cf8d4927",
   "metadata": {},
   "outputs": [
    {
     "name": "stdout",
     "output_type": "stream",
     "text": [
      "Value of A , Before swapping:5.8 \n",
      "Value of B , Before swapping:10.01 \n",
      "Value of A , After swapping:10.01 \n",
      "Value of B , After swapping:5.8 \n",
      "Final value in main: a = 10.01, b = 5.8\n"
     ]
    }
   ],
   "source": [
    "# Q8. Given two numbers a and b, the task is to swap them.(without using the third variable)\n",
    "\n",
    "#Methood definations:\n",
    "def swap_value(a:float,b:float)-> tuple[float,float]:\n",
    "\n",
    "    print(f'Value of A , Before swapping:{a} ')\n",
    "    print(f'Value of B , Before swapping:{b} ')\n",
    "\n",
    "    #Swapping Logics:\n",
    "    a , b = b, a\n",
    "\n",
    "    print(f'Value of A , After swapping:{a} ')\n",
    "    print(f'Value of B , After swapping:{b} ')\n",
    "    return a,b\n",
    "\n",
    "\n",
    "\n",
    "\n",
    "#Driver code\n",
    "num1 = 5.8\n",
    "num2 = 10.01\n",
    "num1, num2 = swap_value(num1,num2)\n",
    "print(f\"Final value in main: a = {num1}, b = {num2}\")"
   ]
  },
  {
   "cell_type": "code",
   "execution_count": null,
   "id": "19ddaad0",
   "metadata": {},
   "outputs": [],
   "source": []
  }
 ],
 "metadata": {
  "kernelspec": {
   "display_name": "base",
   "language": "python",
   "name": "python3"
  },
  "language_info": {
   "codemirror_mode": {
    "name": "ipython",
    "version": 3
   },
   "file_extension": ".py",
   "mimetype": "text/x-python",
   "name": "python",
   "nbconvert_exporter": "python",
   "pygments_lexer": "ipython3",
   "version": "3.13.2"
  }
 },
 "nbformat": 4,
 "nbformat_minor": 5
}
