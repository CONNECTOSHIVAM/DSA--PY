{
 "cells": [
  {
   "cell_type": "markdown",
   "id": "95e0de90",
   "metadata": {},
   "source": [
    "Easy Problems."
   ]
  },
  {
   "cell_type": "code",
   "execution_count": 1,
   "id": "ede89226",
   "metadata": {},
   "outputs": [
    {
     "name": "stdout",
     "output_type": "stream",
     "text": [
      "Sum of enter 687 digits is : 21\n"
     ]
    }
   ],
   "source": [
    "# Q1. Given a number n, find the sum of its digits.\n",
    "\n",
    "#Methood definations.\n",
    "def sum_of_n(n:int) -> int:\n",
    "    ''' \n",
    "      Compute the sum of digits of an integer.\n",
    "      Time Complexity: O(log(n))\n",
    "      Space Complexity: O(1)\n",
    "    '''\n",
    "    n = abs(n) #handle the negative  numbers\n",
    "    total = 0\n",
    "    while(n > 0):\n",
    "        #Extract the last digit\n",
    "        value = n % 10\n",
    "\n",
    "        #add last digit to sum\n",
    "        total += value\n",
    "\n",
    "        #remove the last digit\n",
    "        n //= 10\n",
    "    return total\n",
    "\n",
    "\n",
    "\n",
    "#Driver Code:\n",
    "n = 687\n",
    "result = sum_of_n(n)\n",
    "print(f\"Sum of enter {n} digits is : {result}\")\n"
   ]
  },
  {
   "cell_type": "code",
   "execution_count": 2,
   "id": "d19de488",
   "metadata": {},
   "outputs": [
    {
     "name": "stdout",
     "output_type": "stream",
     "text": [
      "Sum of enter 687 digits is : 21\n"
     ]
    }
   ],
   "source": [
    "# Q2. Given a number n, find the sum of its digits. using recursive methood \n",
    "\n",
    "#Methood definations.\n",
    "def sum_of_n(n:int) -> int:\n",
    "    ''' \n",
    "      Compute the sum of digits of an integer.\n",
    "      Time Complexity: O(log(n))\n",
    "      Space Complexity: O(log(n))\n",
    "    '''\n",
    "    n = abs(n) #handle the negative  numbers\n",
    "    \n",
    "    while n == 0:\n",
    "        return 0\n",
    "       \n",
    "    return  n%10 + sum_of_n(n//10)\n",
    "\n",
    "\n",
    "\n",
    "#Driver Code:\n",
    "n = 687\n",
    "result = sum_of_n(n)\n",
    "print(f\"Sum of enter {n} digits is : {result}\")\n"
   ]
  },
  {
   "cell_type": "code",
   "execution_count": 3,
   "id": "f36b485e",
   "metadata": {},
   "outputs": [
    {
     "name": "stdout",
     "output_type": "stream",
     "text": [
      "Reverse of entered -4567 is : -7654\n"
     ]
    }
   ],
   "source": [
    "# Q3.Given an Integer n, find the reverse of its digits.\n",
    "\n",
    "#Methood definations\n",
    "def reverse_of_digits(n:int) -> int:\n",
    "    ''' \n",
    "      Compute the reverse the digits of an integer\n",
    "      Time Complexity : 0(log(n))\n",
    "      Space Complexity: O(1)\n",
    "    '''\n",
    "    is_negative = n < 0\n",
    "    n = abs(n)\n",
    "    rev = 0\n",
    "    while(n>0):\n",
    "        # Extract the last digit. \n",
    "        a = n % 10\n",
    "        rev = rev*10+a #add this digits in rev\n",
    "        n = n//10\n",
    "    \n",
    "    return -rev if is_negative else rev\n",
    "\n",
    "#Driver Code:\n",
    "n = -4567\n",
    "result = reverse_of_digits(n)\n",
    "print(f\"Reverse of entered {n} is : {result}\")\n"
   ]
  },
  {
   "cell_type": "code",
   "execution_count": null,
   "id": "15da9c4e",
   "metadata": {},
   "outputs": [
    {
     "name": "stdout",
     "output_type": "stream",
     "text": [
      "reverse of -12345 is : -54321\n"
     ]
    }
   ],
   "source": [
    "# Q4.Given an Integer n, find the reverse of its digits.[using the recursive methoods.]\n",
    "\n",
    "\n",
    "\n",
    "\n",
    "#helper functions.\n",
    "def reverse_helper(n:int, rev: int = 0)  -> int :\n",
    "    #base case:\n",
    "    if n == 0:\n",
    "        return rev\n",
    "    #recursive case:\n",
    "    return reverse_helper(n//10,rev*10+n%10)\n",
    "\n",
    "\n",
    "\n",
    "#Methood definations\n",
    "def reverse_the_digit(n:int) -> int:\n",
    "    ''' \n",
    "      this code change digits into the reverse order.\n",
    "      Time Complexity: O(log(n))\n",
    "      Space Complexity: O(log(n))\n",
    "    '''\n",
    "    is_negative = n < 0\n",
    "    n = abs(n)\n",
    "    #helper funtion to reverse the value.\n",
    "    result = reverse_helper(n,0)\n",
    "\n",
    "    return  -result if is_negative else abs(result)\n",
    "\n",
    "\n",
    "\n",
    "\n",
    "#Driver Code:\n",
    "n = -12345\n",
    "result = reverse_the_digit(n)\n",
    "print(f\"reverse of {n} is : {result}\")\n"
   ]
  },
  {
   "cell_type": "code",
   "execution_count": null,
   "id": "c8787f1b",
   "metadata": {},
   "outputs": [
    {
     "name": "stdout",
     "output_type": "stream",
     "text": [
      "Your enter number 7 is Prime Number.\n"
     ]
    }
   ],
   "source": [
    "# Q5. Given a positive integer, check if the number is prime or not. A prime is \n",
    "# a natural number greater than 1 that has no positive divisors other than 1 and \n",
    "# itself. Examples of the first few prime numbers are {2, 3, 5, ...}\n",
    "\n",
    "#Methood definations.\n",
    "def is_prime(n:int) -> bool:\n",
    "    '''\n",
    "      This code valid the interger number is prime or not.\n",
    "      Time Complexity: O(n)\n",
    "      Space Complexity: O(1)\n",
    "    '''\n",
    "    #if int value not fill the condition return False\n",
    "    if n <= 1:\n",
    "        return False\n",
    "    \n",
    "    for i in range(2,n):\n",
    "        if n % i == 0:\n",
    "            return False\n",
    "        \n",
    "    return True\n",
    "\n",
    "\n",
    "#Driver Code:\n",
    "n = 7\n",
    "result = is_prime(n)\n",
    "if result == True:\n",
    "    print(f\"Your enter number {n} is Prime Number.\")\n",
    "else:\n",
    "    print(f\"Your enter number {n} is not Prime Number.\")"
   ]
  },
  {
   "cell_type": "code",
   "execution_count": 22,
   "id": "91a871de",
   "metadata": {},
   "outputs": [
    {
     "name": "stdout",
     "output_type": "stream",
     "text": [
      "Your enter number 83 is Prime Number.\n"
     ]
    }
   ],
   "source": [
    "# Q6. Given a positive integer, check if the number is prime or not. A prime is \n",
    "# a natural number greater than 1 that has no positive divisors other than 1 and \n",
    "# itself. Examples of the first few prime numbers are {2, 3, 5, ...} \n",
    "# Using the optimised approach.\n",
    "\n",
    "import math\n",
    "#Methood definations.\n",
    "def is_prime(n:int) -> bool:\n",
    "    ''' \n",
    "     This code valid the interger number is prime or not.\n",
    "      Time Complexity: O(√n)\n",
    "      Space Complexity: O(1)\n",
    "    '''\n",
    "    if n <= 1:\n",
    "        return False\n",
    "    \n",
    "    if n == 2:\n",
    "        return True\n",
    "    #check for even number\n",
    "    if n % 2 == 0:\n",
    "        return False\n",
    "    \n",
    "    #check only odd divisor up to sqrt(n)\n",
    "    for i in range(3,int(math.sqrt(n))+1,2):\n",
    "        if n % i == 0:\n",
    "            return False\n",
    "        \n",
    "    return True #if number is prime\n",
    "\n",
    "    \n",
    "\n",
    "#Driver Code:\n",
    "n = 83\n",
    "result = is_prime(n)\n",
    "if result == True:\n",
    "    print(f\"Your enter number {n} is Prime Number.\")\n",
    "else:\n",
    "    print(f\"Your enter number {n} is not Prime Number.\")"
   ]
  },
  {
   "cell_type": "code",
   "execution_count": null,
   "id": "cee20fbb",
   "metadata": {},
   "outputs": [
    {
     "name": "stdout",
     "output_type": "stream",
     "text": [
      "1024 value is  power of 2\n"
     ]
    }
   ],
   "source": [
    "#Q7. Given two positive numbers x and y, check if y is a power of x or not.\n",
    "\n",
    "#Methood definations.\n",
    "def check_power(x:int ,y:int) -> bool:\n",
    "    ''' \n",
    "     Check if y is a power of x or not\n",
    "     Time Complexity: O(log(y))\n",
    "     Space Complexity: O(1)\n",
    "    '''\n",
    "    if x <= 1:\n",
    "        return y==1\n",
    "    \n",
    "    while y % x == 0:\n",
    "        y //= x\n",
    "    \n",
    "    return y==1\n",
    "\n",
    "#Driver Code;\n",
    "x = 2\n",
    "y = 1024\n",
    "result = check_power(x,y)\n",
    "if result == True:\n",
    "    print(f\"{y} value is  power of {x}\")\n",
    "else:\n",
    "    print(f\"{y} value is not power of {x}\")\n"
   ]
  },
  {
   "cell_type": "code",
   "execution_count": null,
   "id": "fa53e76e",
   "metadata": {},
   "outputs": [
    {
     "name": "stdout",
     "output_type": "stream",
     "text": [
      "1024 value is  power of 2\n"
     ]
    }
   ],
   "source": [
    "#Q8. Given two positive numbers x and y, check if y is a power of x or not.\n",
    "# using the optimised approach.\n",
    "# we know logx(y) = log(y)/log(x)\n",
    "\n",
    "import math\n",
    "#Methood definations\n",
    "def check_the_power(x:int,y:int) -> bool:\n",
    "    ''' \n",
    "      check the y is power of x or not.\n",
    "      Time Complexity: O(1)\n",
    "      Space Complexity: O(1)\n",
    "    '''\n",
    "    #apply the logerithmic formula\n",
    "    result = math.log(y)/math.log(x)\n",
    "    return result == math.floor(result) \n",
    "\n",
    "#Driver Code;\n",
    "x = 2\n",
    "y = 1024\n",
    "result = check_the_power(x,y)\n",
    "if result == True:\n",
    "    print(f\"{y} value is  power of {x}\")\n",
    "else:\n",
    "    print(f\"{y} value is not power of {x}\")"
   ]
  },
  {
   "cell_type": "code",
   "execution_count": 5,
   "id": "269055cf",
   "metadata": {},
   "outputs": [
    {
     "name": "stdout",
     "output_type": "stream",
     "text": [
      "Distance of Given two Coordinates is: 1.4142135623730951\n"
     ]
    }
   ],
   "source": [
    "# Q9.You are given two coordinates (x1, y1) and (x2, y2) of a two-dimensional graph.\n",
    "#  Find the distance between them.\n",
    "## we know the formula to find two points distance of two dimentional grapth.\n",
    "## root of -- (x2-x1)^2 + (y2 - y1)^2\n",
    "\n",
    "import math\n",
    "#methood definations.\n",
    "def coordinates_distance(x1:int,y1:int,x2:int,y2:int) -> int:\n",
    "    ''' \n",
    "      This code find the distance of two conditantes (x1, y1) and (x2, y2).\n",
    "      applicable for the 2D graph.\n",
    "      Time Complexity: O(1)\n",
    "      Space Complexity: O(1)\n",
    "    '''\n",
    "    return math.sqrt(((x2-x1)**2)+((y2-y1)**2))\n",
    "\n",
    "#Driver code:\n",
    "x1,y1 = 3,4\n",
    "x2,y2 = 4,3\n",
    "result = coordinates_distance(x1,y1,x2,y2)\n",
    "print(f'Distance of Given two Coordinates is: {result}')\n",
    "\n"
   ]
  },
  {
   "cell_type": "code",
   "execution_count": null,
   "id": "94d377d5",
   "metadata": {},
   "outputs": [
    {
     "name": "stdout",
     "output_type": "stream",
     "text": [
      "Yes, Trainge all provide three dimentions[12,6,8] is correct.\n"
     ]
    }
   ],
   "source": [
    "# Q10. Given three sides, check whether triangle is valid or not.\n",
    "\n",
    "## Logic : we all know about the Traingle : A triangle is valid if sum of \n",
    "# its two sides is greater than the third side. If three sides are a, b and c, \n",
    "# then three conditions should be met. \n",
    "\n",
    "#Methood definations.\n",
    "def is_traingle(a:int,b:int,c:int) -> bool:\n",
    "    ''' \n",
    "      check the traingle dimention is correct or not.\n",
    "      Time Complexity: O(1)\n",
    "      Space Complexity: O(1)\n",
    "    '''\n",
    "    if a+b < c or b+c < a or c+a < b:\n",
    "        return False\n",
    "    else:\n",
    "        return True\n",
    "\n",
    "#Driver Code:\n",
    "a = 12\n",
    "b = 6\n",
    "c = 8\n",
    "result = is_traingle(a,b,c)\n",
    "if result == True:\n",
    "    print(f\"Yes, Traingle with sildes [{a}, {b}, {c}] is valid.\")\n",
    "else:\n",
    "    print(f\"Traingle with slides [{a}, {b}, {c}] is Not Valid!\")\n"
   ]
  },
  {
   "cell_type": "code",
   "execution_count": 2,
   "id": "0a38bb27",
   "metadata": {},
   "outputs": [
    {
     "name": "stdout",
     "output_type": "stream",
     "text": [
      "Reftraingle 1 and reftraingle 2 is not overlapping.\n"
     ]
    }
   ],
   "source": [
    "# Q11.Given two rectangles, find if the given two rectangles overlap or not.\n",
    "\n",
    "##Input: l1 = { 0, 10 }, r1 = { 10, 0 }, l2 = { 5, 5 }, r2 = { 15, 0 }\n",
    "# Output: Rectangles Overlap\n",
    "\n",
    "# Input: l1 = { 0, 10 }, r1 = { 10, 0 }, l2 = { -10, 5 }, r2 = { -1, 0 }\n",
    "# Output: Rectangles Don't Overlap\n",
    "\n",
    "#Methood definations.\n",
    "def is_overlap(rect1:tuple[int],rect2:tuple[int]) -> bool:\n",
    "    ''' \n",
    "     we are check the reftraingle is overlap or not.\n",
    "     Time Complexity: O(1)\n",
    "     Space Complexity: O(1)\n",
    "    '''\n",
    "    #Extract the value.\n",
    "    x1, y1, x2, y2 = rect1\n",
    "    x3, y3, x4, y4 = rect2\n",
    "\n",
    "    if x3 > x2 or y3 > y2 or x1 > x4 or y1 > y4:\n",
    "        return False\n",
    "    \n",
    "    return True\n",
    "\n",
    "\n",
    "\n",
    "#Driver code:\n",
    "rect1 = (0,10,10,0)\n",
    "rect2 = (-10,5,-1,0)\n",
    "result = is_overlap(rect1,rect2)\n",
    "if result is False:\n",
    "    print(f\"Reftraingle 1 and reftraingle 2 is not overlapping.\")\n",
    "else:\n",
    "    print(f\"Yes, Reftraingle 1 and reftraingle 2 is overlapped.\")\n"
   ]
  },
  {
   "cell_type": "code",
   "execution_count": 7,
   "id": "e1beadd4",
   "metadata": {},
   "outputs": [
    {
     "name": "stdout",
     "output_type": "stream",
     "text": [
      "factorial of 4 is : 24\n"
     ]
    }
   ],
   "source": [
    "# Q12. Given the non-negative integers n , compute the factorial of a given number.\n",
    "# Note: Factorial of n is defined as n * (n -1) * (n - 2) * ... * 1, for n = 0, \n",
    "# factorial is 1.\n",
    "\n",
    "#Methood definations.\n",
    "def find_fact(n:int) -> int:\n",
    "    ''' \n",
    "        find the factorial of n(non- negative entered) number\n",
    "        Time Complexity: O(n)\n",
    "        Space Complexity: O(1)\n",
    "    '''\n",
    "    if n < 0:\n",
    "        print('Please enter positive number.[eg: 1,2,.....infinity]')\n",
    "    fact = 1\n",
    "    for i in range(1,n+1):\n",
    "        fact *= i\n",
    "    return fact\n",
    "\n",
    "\n",
    "\n",
    "#Driver code:\n",
    "n = 4\n",
    "result = find_fact(n)\n",
    "print(f\"factorial of {n} is : {result}\")"
   ]
  },
  {
   "cell_type": "code",
   "execution_count": null,
   "id": "5909df9c",
   "metadata": {},
   "outputs": [
    {
     "name": "stdout",
     "output_type": "stream",
     "text": [
      "factorial of 7 is : 5040\n"
     ]
    }
   ],
   "source": [
    "#Q13. solve the factorial problem using the recursive approach.\n",
    "\n",
    "#methood definations.\n",
    "def get_factorial(n:int) -> int:\n",
    "    ''' \n",
    "      Find the factorial of entered(non-negative) number using recursion.\n",
    "      Special case: 0! = 1\n",
    "      Time Complexity: O(n)\n",
    "      Space Complexity: O(n) \n",
    "    '''\n",
    "    #Base case:\n",
    "    if n < 0:\n",
    "        raise ValueError(\"Factorial is not defined for negative number.\")\n",
    "    if n <= 0:\n",
    "        return 1\n",
    "    #recursive case:\n",
    "    return n*get_factorial(n-1)\n",
    "\n",
    "\n",
    "#Driver code:\n",
    "n = 7\n",
    "result = get_factorial(n)\n",
    "print(f\"factorial of {n} is : {result}\")"
   ]
  },
  {
   "cell_type": "code",
   "execution_count": null,
   "id": "043525c9",
   "metadata": {},
   "outputs": [
    {
     "name": "stdout",
     "output_type": "stream",
     "text": [
      "Entered Value 9 follow : 2 pairs in provided pattern.\n"
     ]
    }
   ],
   "source": [
    "# Q14. Given n, count all 'a' and 'b' that satisfy the condition a^3 + b^3 = n. \n",
    "# Where (a, b) and (b, a) are considered two different pairs\n",
    "\n",
    "import math\n",
    "#Methood definations.\n",
    "def pattern_count(n:int) -> int:\n",
    "    '''\n",
    "      It find count of pair | where n value -- follow provide pattern\n",
    "      Time Complexity: O()\n",
    "      Space Complexity: O(1)\n",
    "\n",
    "    '''\n",
    "    count = 0\n",
    "\n",
    "    for a in range(1,int(math.sqrt(n))+2):\n",
    "        for b in range(int(math.sqrt(n))+2):\n",
    "            if a**3 + b**3 == n:\n",
    "                count += 1\n",
    "\n",
    "    return count\n",
    "\n",
    "\n",
    "#Driver Code:\n",
    "n = 9\n",
    "result = pattern_count(n)\n",
    "print(f\"Entered Value {n} follow : {result} pairs in provided pattern.\")"
   ]
  },
  {
   "cell_type": "code",
   "execution_count": null,
   "id": "581eca4c",
   "metadata": {},
   "outputs": [],
   "source": []
  }
 ],
 "metadata": {
  "kernelspec": {
   "display_name": "base",
   "language": "python",
   "name": "python3"
  },
  "language_info": {
   "codemirror_mode": {
    "name": "ipython",
    "version": 3
   },
   "file_extension": ".py",
   "mimetype": "text/x-python",
   "name": "python",
   "nbconvert_exporter": "python",
   "pygments_lexer": "ipython3",
   "version": "3.13.2"
  }
 },
 "nbformat": 4,
 "nbformat_minor": 5
}
