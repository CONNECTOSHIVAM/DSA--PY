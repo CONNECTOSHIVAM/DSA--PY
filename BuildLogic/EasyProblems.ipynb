{
 "cells": [
  {
   "cell_type": "markdown",
   "id": "95e0de90",
   "metadata": {},
   "source": [
    "Easy Problems."
   ]
  },
  {
   "cell_type": "code",
   "execution_count": 1,
   "id": "ede89226",
   "metadata": {},
   "outputs": [
    {
     "name": "stdout",
     "output_type": "stream",
     "text": [
      "Sum of enter 687 digits is : 21\n"
     ]
    }
   ],
   "source": [
    "# Q1. Given a number n, find the sum of its digits.\n",
    "\n",
    "#Methood definations.\n",
    "def sum_of_n(n:int) -> int:\n",
    "    ''' \n",
    "      Compute the sum of digits of an integer.\n",
    "      Time Complexity: O(log(n))\n",
    "      Space Complexity: O(1)\n",
    "    '''\n",
    "    n = abs(n) #handle the negative  numbers\n",
    "    total = 0\n",
    "    while(n > 0):\n",
    "        #Extract the last digit\n",
    "        value = n % 10\n",
    "\n",
    "        #add last digit to sum\n",
    "        total += value\n",
    "\n",
    "        #remove the last digit\n",
    "        n //= 10\n",
    "    return total\n",
    "\n",
    "\n",
    "\n",
    "#Driver Code:\n",
    "n = 687\n",
    "result = sum_of_n(n)\n",
    "print(f\"Sum of enter {n} digits is : {result}\")\n"
   ]
  },
  {
   "cell_type": "code",
   "execution_count": 2,
   "id": "d19de488",
   "metadata": {},
   "outputs": [
    {
     "name": "stdout",
     "output_type": "stream",
     "text": [
      "Sum of enter 687 digits is : 21\n"
     ]
    }
   ],
   "source": [
    "# Q2. Given a number n, find the sum of its digits. using recursive methood \n",
    "\n",
    "#Methood definations.\n",
    "def sum_of_n(n:int) -> int:\n",
    "    ''' \n",
    "      Compute the sum of digits of an integer.\n",
    "      Time Complexity: O(log(n))\n",
    "      Space Complexity: O(log(n))\n",
    "    '''\n",
    "    n = abs(n) #handle the negative  numbers\n",
    "    \n",
    "    while n == 0:\n",
    "        return 0\n",
    "       \n",
    "    return  n%10 + sum_of_n(n//10)\n",
    "\n",
    "\n",
    "\n",
    "#Driver Code:\n",
    "n = 687\n",
    "result = sum_of_n(n)\n",
    "print(f\"Sum of enter {n} digits is : {result}\")\n"
   ]
  },
  {
   "cell_type": "code",
   "execution_count": 3,
   "id": "f36b485e",
   "metadata": {},
   "outputs": [
    {
     "name": "stdout",
     "output_type": "stream",
     "text": [
      "Reverse of entered -4567 is : -7654\n"
     ]
    }
   ],
   "source": [
    "# Q3.Given an Integer n, find the reverse of its digits.\n",
    "\n",
    "#Methood definations\n",
    "def reverse_of_digits(n:int) -> int:\n",
    "    ''' \n",
    "      Compute the reverse the digits of an integer\n",
    "      Time Complexity : 0(log(n))\n",
    "      Space Complexity: O(1)\n",
    "    '''\n",
    "    is_negative = n < 0\n",
    "    n = abs(n)\n",
    "    rev = 0\n",
    "    while(n>0):\n",
    "        # Extract the last digit. \n",
    "        a = n % 10\n",
    "        rev = rev*10+a #add this digits in rev\n",
    "        n = n//10\n",
    "    \n",
    "    return -rev if is_negative else rev\n",
    "\n",
    "#Driver Code:\n",
    "n = -4567\n",
    "result = reverse_of_digits(n)\n",
    "print(f\"Reverse of entered {n} is : {result}\")\n"
   ]
  },
  {
   "cell_type": "code",
   "execution_count": null,
   "id": "15da9c4e",
   "metadata": {},
   "outputs": [
    {
     "name": "stdout",
     "output_type": "stream",
     "text": [
      "reverse of -12345 is : -54321\n"
     ]
    }
   ],
   "source": [
    "# Q4.Given an Integer n, find the reverse of its digits.[using the recursive methoods.]\n",
    "\n",
    "\n",
    "\n",
    "\n",
    "#helper functions.\n",
    "def reverse_helper(n:int, rev: int = 0)  -> int :\n",
    "    #base case:\n",
    "    if n == 0:\n",
    "        return rev\n",
    "    #recursive case:\n",
    "    return reverse_helper(n//10,rev*10+n%10)\n",
    "\n",
    "\n",
    "\n",
    "#Methood definations\n",
    "def reverse_the_digit(n:int) -> int:\n",
    "    ''' \n",
    "      this code change digits into the reverse order.\n",
    "      Time Complexity: O(log(n))\n",
    "      Space Complexity: O(log(n))\n",
    "    '''\n",
    "    is_negative = n < 0\n",
    "    n = abs(n)\n",
    "    #helper funtion to reverse the value.\n",
    "    result = reverse_helper(n,0)\n",
    "\n",
    "    return  -result if is_negative else abs(result)\n",
    "\n",
    "\n",
    "\n",
    "\n",
    "#Driver Code:\n",
    "n = -12345\n",
    "result = reverse_the_digit(n)\n",
    "print(f\"reverse of {n} is : {result}\")\n"
   ]
  },
  {
   "cell_type": "code",
   "execution_count": null,
   "id": "c8787f1b",
   "metadata": {},
   "outputs": [
    {
     "name": "stdout",
     "output_type": "stream",
     "text": [
      "Your enter number 7 is Prime Number.\n"
     ]
    }
   ],
   "source": [
    "# Q5. Given a positive integer, check if the number is prime or not. A prime is \n",
    "# a natural number greater than 1 that has no positive divisors other than 1 and \n",
    "# itself. Examples of the first few prime numbers are {2, 3, 5, ...}\n",
    "\n",
    "#Methood definations.\n",
    "def is_prime(n:int) -> bool:\n",
    "    '''\n",
    "      This code valid the interger number is prime or not.\n",
    "      Time Complexity: O(n)\n",
    "      Space Complexity: O(1)\n",
    "    '''\n",
    "    #if int value not fill the condition return False\n",
    "    if n <= 1:\n",
    "        return False\n",
    "    \n",
    "    for i in range(2,n):\n",
    "        if n % i == 0:\n",
    "            return False\n",
    "        \n",
    "    return True\n",
    "\n",
    "\n",
    "#Driver Code:\n",
    "n = 7\n",
    "result = is_prime(n)\n",
    "if result == True:\n",
    "    print(f\"Your enter number {n} is Prime Number.\")\n",
    "else:\n",
    "    print(f\"Your enter number {n} is not Prime Number.\")"
   ]
  },
  {
   "cell_type": "code",
   "execution_count": null,
   "id": "91a871de",
   "metadata": {},
   "outputs": [
    {
     "name": "stdout",
     "output_type": "stream",
     "text": [
      "Your enter number 83 is Prime Number.\n"
     ]
    }
   ],
   "source": [
    "# Q5. Given a positive integer, check if the number is prime or not. A prime is \n",
    "# a natural number greater than 1 that has no positive divisors other than 1 and \n",
    "# itself. Examples of the first few prime numbers are {2, 3, 5, ...} \n",
    "# Using the optimised approach.\n",
    "\n",
    "import math\n",
    "#Methood definations.\n",
    "def is_prime(n:int) -> bool:\n",
    "    ''' \n",
    "     This code valid the interger number is prime or not.\n",
    "      Time Complexity: O(√n)\n",
    "      Space Complexity: O(1)\n",
    "    '''\n",
    "    if n <= 1:\n",
    "        return False\n",
    "    \n",
    "    if n == 2:\n",
    "        return True\n",
    "    #check for even number\n",
    "    if n % 2 == 0:\n",
    "        return False\n",
    "    \n",
    "    #check only odd divisor up to sqrt(n)\n",
    "    for i in range(3,int(math.sqrt(n))+1,2):\n",
    "        if n % i == 0:\n",
    "            return False\n",
    "        \n",
    "    return True #if number is prime\n",
    "\n",
    "    \n",
    "\n",
    "#Driver Code:\n",
    "n = 83\n",
    "result = is_prime(n)\n",
    "if result == True:\n",
    "    print(f\"Your enter number {n} is Prime Number.\")\n",
    "else:\n",
    "    print(f\"Your enter number {n} is not Prime Number.\")"
   ]
  },
  {
   "cell_type": "code",
   "execution_count": null,
   "id": "cee20fbb",
   "metadata": {},
   "outputs": [],
   "source": []
  }
 ],
 "metadata": {
  "kernelspec": {
   "display_name": "base",
   "language": "python",
   "name": "python3"
  },
  "language_info": {
   "codemirror_mode": {
    "name": "ipython",
    "version": 3
   },
   "file_extension": ".py",
   "mimetype": "text/x-python",
   "name": "python",
   "nbconvert_exporter": "python",
   "pygments_lexer": "ipython3",
   "version": "3.13.2"
  }
 },
 "nbformat": 4,
 "nbformat_minor": 5
}
