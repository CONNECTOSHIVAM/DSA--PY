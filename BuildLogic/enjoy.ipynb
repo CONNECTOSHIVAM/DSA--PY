{
 "cells": [
  {
   "cell_type": "code",
   "execution_count": 12,
   "id": "156b1a48",
   "metadata": {},
   "outputs": [
    {
     "ename": "IndexError",
     "evalue": "list index out of range",
     "output_type": "error",
     "traceback": [
      "\u001b[31m---------------------------------------------------------------------------\u001b[39m",
      "\u001b[31mIndexError\u001b[39m                                Traceback (most recent call last)",
      "\u001b[36mCell\u001b[39m\u001b[36m \u001b[39m\u001b[32mIn[12]\u001b[39m\u001b[32m, line 13\u001b[39m\n\u001b[32m     11\u001b[39m a = [\u001b[32m1\u001b[39m,\u001b[32m2\u001b[39m,\u001b[32m6\u001b[39m,\u001b[32m3\u001b[39m,\u001b[32m5\u001b[39m]\n\u001b[32m     12\u001b[39m key = \u001b[32m56\u001b[39m\n\u001b[32m---> \u001b[39m\u001b[32m13\u001b[39m result = \u001b[43mfindElements\u001b[49m\u001b[43m(\u001b[49m\u001b[43ma\u001b[49m\u001b[43m,\u001b[49m\u001b[43mkey\u001b[49m\u001b[43m)\u001b[49m\n\u001b[32m     15\u001b[39m \u001b[38;5;28;01mif\u001b[39;00m result == -\u001b[32m1\u001b[39m:\n\u001b[32m     16\u001b[39m     \u001b[38;5;28mprint\u001b[39m(\u001b[33mf\u001b[39m\u001b[33m\"\u001b[39m\u001b[33mYour elements are not available inside the arrys.\u001b[39m\u001b[33m\"\u001b[39m)\n",
      "\u001b[36mCell\u001b[39m\u001b[36m \u001b[39m\u001b[32mIn[12]\u001b[39m\u001b[32m, line 6\u001b[39m, in \u001b[36mfindElements\u001b[39m\u001b[34m(a, k)\u001b[39m\n\u001b[32m      4\u001b[39m \u001b[38;5;28;01mdef\u001b[39;00m\u001b[38;5;250m \u001b[39m\u001b[34mfindElements\u001b[39m(a,k):\n\u001b[32m      5\u001b[39m     \u001b[38;5;28;01mfor\u001b[39;00m i \u001b[38;5;129;01min\u001b[39;00m \u001b[38;5;28mrange\u001b[39m(\u001b[38;5;28mlen\u001b[39m(a)+\u001b[32m1\u001b[39m):\n\u001b[32m----> \u001b[39m\u001b[32m6\u001b[39m         \u001b[38;5;28;01mif\u001b[39;00m k == \u001b[43ma\u001b[49m\u001b[43m[\u001b[49m\u001b[43mi\u001b[49m\u001b[43m]\u001b[49m:\n\u001b[32m      7\u001b[39m             \u001b[38;5;28;01mreturn\u001b[39;00m i\n\u001b[32m      8\u001b[39m     \u001b[38;5;28;01mreturn\u001b[39;00m -\u001b[32m1\u001b[39m\n",
      "\u001b[31mIndexError\u001b[39m: list index out of range"
     ]
    }
   ],
   "source": [
    "#Q. Write a code for the linear Search.\n",
    "\n",
    "#Methood definations\n",
    "def findElements(a,k):\n",
    "    for i in range(len(a)+1):\n",
    "        if k == a[i]:\n",
    "            return i\n",
    "    return -1\n",
    "\n",
    "#Driver Code:\n",
    "a = [1,2,6,3,5]\n",
    "key = 56\n",
    "result = findElements(a,key)\n",
    "\n",
    "if result == -1:\n",
    "    print(f\"Your elements are not available inside the arrys.\")\n",
    "else:\n",
    "    print(f\"Your enter elements is available inside the array at index {result}\")\n"
   ]
  },
  {
   "cell_type": "code",
   "execution_count": null,
   "id": "dbf90a60",
   "metadata": {},
   "outputs": [
    {
     "name": "stdout",
     "output_type": "stream",
     "text": [
      "Before Sorting array is : [4, 3, 2, 1, 4]\n",
      "After Sorting Array is: [1, 1, 1, 1, 4]\n"
     ]
    }
   ],
   "source": [
    "#Q. Write a Algo 1 to solve the bubble sort.\n",
    "\n",
    "# Methood definations\n",
    "def isBubbleSort(a):\n",
    "\n",
    "    for i in range(len(a)):\n",
    "        for j in range(len(a)-1):\n",
    "            if a[j] > a[j+1]:\n",
    "                a[j] = a[j+1]\n",
    "\n",
    "    return a\n",
    "\n",
    "\n",
    "#Driver Code:\n",
    "a = [ 4,3,2,1,4]\n",
    "print(f\"Before Sorting array is : {a}\")\n",
    "result = isBubbleSort(a)\n",
    "print(f\"After Sorting Array is: {result}\")\n"
   ]
  },
  {
   "cell_type": "code",
   "execution_count": null,
   "id": "0e536d75",
   "metadata": {},
   "outputs": [],
   "source": [
    "\n",
    "\n"
   ]
  }
 ],
 "metadata": {
  "kernelspec": {
   "display_name": "base",
   "language": "python",
   "name": "python3"
  },
  "language_info": {
   "codemirror_mode": {
    "name": "ipython",
    "version": 3
   },
   "file_extension": ".py",
   "mimetype": "text/x-python",
   "name": "python",
   "nbconvert_exporter": "python",
   "pygments_lexer": "ipython3",
   "version": "3.13.2"
  }
 },
 "nbformat": 4,
 "nbformat_minor": 5
}
