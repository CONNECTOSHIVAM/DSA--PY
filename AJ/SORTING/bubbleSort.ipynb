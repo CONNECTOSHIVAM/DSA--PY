{
 "cells": [
  {
   "cell_type": "markdown",
   "id": "fbe2ab1c",
   "metadata": {},
   "source": [
    "##Bubble Sort"
   ]
  },
  {
   "cell_type": "code",
   "execution_count": null,
   "id": "78e48337",
   "metadata": {},
   "outputs": [
    {
     "name": "stdout",
     "output_type": "stream",
     "text": [
      "Before Sorting array is : [4, 3, 2, 1, 4]\n",
      "After Sorting Array is: [1, 2, 3, 4, 4]\n"
     ]
    }
   ],
   "source": [
    "#Q. Write a Algo 1 to solve the bubble sort.\n",
    "\n",
    "# Number of Swaps in BC : 0\n",
    "# Number of Comparision in BC : (n-1)*(n-1) = (n-1)^2\n",
    "\n",
    "# Number of Swaps in WC : n(n-1)/2\n",
    "# Number of Comparision in WC : (n-1)*(n-1) = (n-1)^2\n",
    "\n",
    "# Time Complexity: 0(n^2)\n",
    "# Space Complexity: 0(1)  ---> Inplace\n",
    "\n",
    "# Methood definations\n",
    "def isBubbleSort(a):\n",
    "\n",
    "    for i in range(len(a)):\n",
    "        for j in range(len(a)-1):\n",
    "            if a[j] > a[j+1]:\n",
    "                a[j],a[j+1] = a[j+1],a[j]\n",
    "\n",
    "    return a\n",
    "\n",
    "\n",
    "#Driver Code:\n",
    "a = [ 4,3,2,1,4]\n",
    "print(f\"Before Sorting array is : {a}\")\n",
    "result = isBubbleSort(a)\n",
    "print(f\"After Sorting Array is(Using Algo1): {result}\")\n"
   ]
  },
  {
   "cell_type": "code",
   "execution_count": null,
   "id": "947e5169",
   "metadata": {},
   "outputs": [
    {
     "name": "stdout",
     "output_type": "stream",
     "text": [
      "Before Sorting array is : [1, 2, 3, 4, 4]\n",
      "After Sorting array is(Using Algo2) : [1, 2, 2, 5, 7, 8]\n"
     ]
    }
   ],
   "source": [
    "#Q. Solve the Bubble sort using the Algo2\n",
    "\n",
    "# Number of Swaps in BC : 0\n",
    "# Number of Comparision in BC : (n-1)+(n-2)+...+1 = n(n-1)/2\n",
    "\n",
    "# Number of Swaps in WC : n(n-1)/2\n",
    "# Number of Comparision in WC : (n-1)+(n-2)+...+1 = n(n-1)/2\n",
    "\n",
    "# Time Complexity: 0(n^2)\n",
    "# Space Complexity: 0(1)  ---> Inplace\n",
    "\n",
    "def algo2Bubble(arr1):\n",
    "    \n",
    "    for i in range(len(arr1)-1):\n",
    "        for j in range(len(arr1)-1-i):\n",
    "            if arr1[j] > arr1[j+1]:\n",
    "                arr1[j],arr1[j+1] = arr1[j+1],arr1[j]\n",
    "\n",
    "    return arr1\n",
    "\n",
    "\n",
    "#Driver Code:\n",
    "arr1 = [2,5,8,7,2,1]\n",
    "print(f\"Before Sorting array is : {a}\")\n",
    "result = algo2Bubble(arr1)\n",
    "print(f\"After Sorting array is(Using Algo2) : {result}\")"
   ]
  },
  {
   "cell_type": "code",
   "execution_count": null,
   "id": "3b6eb10b",
   "metadata": {},
   "outputs": [
    {
     "name": "stdout",
     "output_type": "stream",
     "text": [
      "Before Sorting array is : [65, 10, 25, 45, 50, 90]\n",
      "Array is already Sorted\n",
      "After Sorting array is(Using Algo3) : [10, 25, 45, 50, 65, 90]\n"
     ]
    }
   ],
   "source": [
    "#Q. Solve the Bubble sort using the Algo 3:(Best and More Optimised)\n",
    "\n",
    "# Number of Swaps in BC : 0\n",
    "# Number of Comparision in BC : (n-1)\n",
    "\n",
    "# Number of Swaps in WC : n(n-1)/2\n",
    "# Number of Comparision in WC : (n-1)+(n-2)+...+1 = n(n-1)/2\n",
    "\n",
    "# Time Complexity BC: 0(n)\n",
    "# Time Complexity WC: 0(n^2)\n",
    "# Space Complexity: 0(1) ---> Inplace\n",
    "# Bubble sort is stable.\n",
    "\n",
    "#Methood definations\n",
    "def algo3BubbleSort(arr):\n",
    "\n",
    "    for i in range(len(arr)-1):\n",
    "        isSwapped = False\n",
    "        for j in range(len(arr)-1-i):\n",
    "            if arr[j] > arr[j+1]:\n",
    "                arr[j],arr[j+1] = arr[j+1],arr[j]\n",
    "                isSwapped = True\n",
    "\n",
    "        if isSwapped == False:\n",
    "            print(\"Array is already Sorted\")\n",
    "            break  \n",
    "\n",
    "    return arr\n",
    "    \n",
    "\n",
    "#Driver Code:\n",
    "arr2 = [65,10,25,45,50,90]\n",
    "print(f\"Before Sorting array is : {arr2}\")\n",
    "result = algo3BubbleSort(arr2)\n",
    "print(f\"After Sorting array is(Using Algo3) : {result}\")\n",
    "\n"
   ]
  },
  {
   "cell_type": "code",
   "execution_count": null,
   "id": "16e66b98",
   "metadata": {},
   "outputs": [],
   "source": []
  }
 ],
 "metadata": {
  "kernelspec": {
   "display_name": "base",
   "language": "python",
   "name": "python3"
  },
  "language_info": {
   "codemirror_mode": {
    "name": "ipython",
    "version": 3
   },
   "file_extension": ".py",
   "mimetype": "text/x-python",
   "name": "python",
   "nbconvert_exporter": "python",
   "pygments_lexer": "ipython3",
   "version": "3.13.2"
  }
 },
 "nbformat": 4,
 "nbformat_minor": 5
}
