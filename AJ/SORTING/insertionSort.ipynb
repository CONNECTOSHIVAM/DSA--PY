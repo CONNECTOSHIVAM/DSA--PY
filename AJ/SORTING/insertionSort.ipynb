{
 "cells": [
  {
   "cell_type": "markdown",
   "id": "067cf227",
   "metadata": {},
   "source": [
    "Insertion Sort:\n"
   ]
  },
  {
   "cell_type": "code",
   "execution_count": 1,
   "id": "1de81a6c",
   "metadata": {},
   "outputs": [
    {
     "name": "stdout",
     "output_type": "stream",
     "text": [
      "Before sorting array was: [85, 1, 49, 97, 86, 15]\n",
      "After the soring array: [1, 15, 49, 85, 86, 97]\n"
     ]
    }
   ],
   "source": [
    "#Q. write a code for insertion sort.\n",
    "\n",
    "#Methood definations.\n",
    "def isInsertionSort(a):\n",
    "    n = len(a)\n",
    "\n",
    "\n",
    "    for j in range(1,n):\n",
    "        key = a[j]\n",
    "        i = j- 1\n",
    "        while(i>=0 and a[i]>key):\n",
    "                a[i+1] = a[i]\n",
    "                i -= 1  \n",
    "\n",
    "        a[i+1] = key\n",
    "    \n",
    "    return a\n",
    "            \n",
    "\n",
    "\n",
    "\n",
    "#Driver code:\n",
    "arr = [ 85,1,49,97,86,15]\n",
    "print(f\"Before sorting array was: {arr}\")\n",
    "result = isInsertionSort(arr)\n",
    "print(f'After the soring array: {result}')\n"
   ]
  },
  {
   "cell_type": "code",
   "execution_count": null,
   "id": "381f3b9e",
   "metadata": {},
   "outputs": [],
   "source": []
  }
 ],
 "metadata": {
  "kernelspec": {
   "display_name": "base",
   "language": "python",
   "name": "python3"
  },
  "language_info": {
   "codemirror_mode": {
    "name": "ipython",
    "version": 3
   },
   "file_extension": ".py",
   "mimetype": "text/x-python",
   "name": "python",
   "nbconvert_exporter": "python",
   "pygments_lexer": "ipython3",
   "version": "3.13.2"
  }
 },
 "nbformat": 4,
 "nbformat_minor": 5
}
