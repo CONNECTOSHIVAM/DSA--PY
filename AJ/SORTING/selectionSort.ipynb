{
 "cells": [
  {
   "cell_type": "markdown",
   "id": "02e2f58a",
   "metadata": {},
   "source": [
    "Selection Sort"
   ]
  },
  {
   "cell_type": "code",
   "execution_count": null,
   "id": "6e289203",
   "metadata": {},
   "outputs": [
    {
     "name": "stdout",
     "output_type": "stream",
     "text": [
      "Before the sorting Array: [75, 80, 85, 20, 10, 50]\n",
      "After sorting array is(using the selection sort): [10, 20, 50, 75, 80, 85]\n"
     ]
    }
   ],
   "source": [
    "#Q. Write a code for selections sort.\n",
    "\n",
    "# Number of Swaps in BC : (n-1)\n",
    "# Number of Comparision in BC : n(n-1)/2\n",
    "\n",
    "# Number of Swaps in WC : (n-1)\n",
    "# Number of Comparision in WC : (n-1)+(n-2)+...+1 = n(n-1)/2\n",
    "\n",
    "# Time Complexity BC: 0(n)\n",
    "# Time Complexity WC: 0(n^2)\n",
    "# Space Complexity: 0(1) ---> Inplace\n",
    "\n",
    "\n",
    "\n",
    "#Methood definations.\n",
    "def isSelectionSort(arr):\n",
    "    for i in range(len(arr)-1):\n",
    "        min_idx = i\n",
    "        for j in range(i+1,len(arr)):\n",
    "            if arr[j]<arr[min_idx]:\n",
    "                min_idx = j\n",
    "\n",
    "        arr[i],arr[min_idx] = arr[min_idx],arr[i]\n",
    "    return arr\n",
    "\n",
    "#Driver Code:\n",
    "arr = [75,80,85,20,10,50]\n",
    "print(f\"Before the sorting Array: {arr}\")\n",
    "result = isSelectionSort(arr)\n",
    "print(f\"After sorting array is(using the selection sort): {result}\")"
   ]
  },
  {
   "cell_type": "code",
   "execution_count": null,
   "id": "cb9441d1",
   "metadata": {},
   "outputs": [],
   "source": []
  }
 ],
 "metadata": {
  "kernelspec": {
   "display_name": "base",
   "language": "python",
   "name": "python3"
  },
  "language_info": {
   "codemirror_mode": {
    "name": "ipython",
    "version": 3
   },
   "file_extension": ".py",
   "mimetype": "text/x-python",
   "name": "python",
   "nbconvert_exporter": "python",
   "pygments_lexer": "ipython3",
   "version": "3.13.2"
  }
 },
 "nbformat": 4,
 "nbformat_minor": 5
}
